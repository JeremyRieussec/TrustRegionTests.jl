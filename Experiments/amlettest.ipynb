{
 "cells": [
  {
   "cell_type": "code",
   "execution_count": 4,
   "id": "7c232fb8",
   "metadata": {},
   "outputs": [],
   "source": [
    "using DataFrames, CSV, ForwardDiff, ProgressMeter"
   ]
  },
  {
   "cell_type": "markdown",
   "id": "recognized-confusion",
   "metadata": {},
   "source": [
    "# Population generation"
   ]
  },
  {
   "cell_type": "code",
   "execution_count": 6,
   "id": "bb3de197",
   "metadata": {},
   "outputs": [
    {
     "data": {
      "text/plain": [
       "50×10000 Matrix{Float64}:\n",
       "  0.747401    0.89469     0.614461    …   0.131475  -0.847157     0.570598\n",
       "  1.84278     0.79031     0.24952         0.437133  -0.403905     0.79339\n",
       " -1.0587      0.447153    0.317204       -1.55808    0.465283     2.12154\n",
       "  0.167245    0.113332    1.17734         0.913421  -0.972712     0.479974\n",
       "  0.388872   -0.152543    0.0633404       2.14828    1.98441      1.03968\n",
       "  0.011394    0.557695   -1.39268     …   0.573242   0.432618     2.74462\n",
       "  0.414794    0.777906   -0.00870724      0.820212   0.545676    -1.2091\n",
       "  0.171749   -0.969451    0.566426        1.59042   -0.186379     0.244749\n",
       "  0.626512    1.18917    -0.218694        1.77997    0.796353     2.50265\n",
       "  1.02009     0.878576    2.18855        -0.28831    0.377351     0.496721\n",
       "  0.624405   -0.0590827   0.574489    …  -0.581409  -0.379261     1.60359\n",
       " -0.211205   -0.716468   -0.995658        0.121985   1.41939      0.0208495\n",
       "  1.11222    -0.144316    0.620764        1.66605   -1.5137      -1.27376\n",
       "  ⋮                                   ⋱                          \n",
       " -0.0450466  -0.784379   -0.30153        -0.206421  -0.936408     0.322542\n",
       " -1.13353    -1.01361     0.143221       -0.900418   0.562757     1.20771\n",
       "  0.62156    -0.647497    0.879489    …  -0.319092  -2.30013     -1.89478\n",
       "  1.68006    -0.192831   -0.160653       -0.43628   -0.223303     0.998164\n",
       " -0.463458   -0.172656   -1.35782         1.58013   -1.20589     -0.541347\n",
       "  0.0476048   0.387197    0.603317        0.610228  -0.00595462  -2.17958\n",
       " -0.55556    -0.479491    0.699696       -0.21567   -1.39769     -0.784482\n",
       " -0.44988     1.55817    -1.33467     …  -0.751758  -0.614502     0.12469\n",
       " -0.255814   -0.604794   -0.134251       -1.00997   -1.08294      0.741433\n",
       " -0.805363   -0.406125   -2.38655         0.20991    0.104578     0.129276\n",
       "  0.146627   -1.29819     2.71425        -1.00749   -0.143634     0.768404\n",
       " -1.47507    -1.85498    -1.17095        -1.98626   -0.0863375   -0.347349"
      ]
     },
     "execution_count": 6,
     "metadata": {},
     "output_type": "execute_result"
    }
   ],
   "source": [
    "# Get data generator file\n",
    "path = \"../Data/\"\n",
    "include(string(path, \"dataGenerator.jl\"))\n",
    "\n",
    "# setting population characteristics\n",
    "n_alt = 5    # number of alternatives\n",
    "N_dim = 10   # parameter dimension\n",
    "N_ind = 10_000    # number of individuals -- population size \n",
    "\n",
    "# generation\n",
    "df_pop = genLogitPop(N_dim, n_alt, N_ind)\n",
    "\n",
    "# conversion to matrix\n",
    "data = Array(Array(df_pop)')"
   ]
  },
  {
   "cell_type": "markdown",
   "id": "fossil-scientist",
   "metadata": {},
   "source": [
    "# Creation of Linear Logit model"
   ]
  },
  {
   "cell_type": "code",
   "execution_count": 7,
   "id": "physical-dealer",
   "metadata": {},
   "outputs": [
    {
     "data": {
      "text/latex": [
       "\\begin{verbatim}\n",
       " LogitModel\n",
       "\\end{verbatim}\n",
       "\\subsection{Fields}\n",
       "\\begin{itemize}\n",
       "\\item \\texttt{u::AbstractUtility}\n",
       "\n",
       "\n",
       "\\item \\texttt{data::D}\n",
       "\n",
       "\n",
       "\\item \\texttt{se::StorageEngine}\n",
       "\n",
       "\\end{itemize}\n"
      ],
      "text/markdown": [
       "```\n",
       " LogitModel\n",
       "```\n",
       "\n",
       "## Fields\n",
       "\n",
       "  * `u::AbstractUtility`\n",
       "  * `data::D`\n",
       "  * `se::StorageEngine`\n"
      ],
      "text/plain": [
       "\u001b[36m   LogitModel\u001b[39m\n",
       "\n",
       "\u001b[1m  Fields\u001b[22m\n",
       "\u001b[1m  ========\u001b[22m\n",
       "\n",
       "    •  \u001b[36mu::AbstractUtility\u001b[39m\n",
       "\n",
       "    •  \u001b[36mdata::D\u001b[39m\n",
       "\n",
       "    •  \u001b[36mse::StorageEngine\u001b[39m"
      ]
     },
     "execution_count": 7,
     "metadata": {},
     "output_type": "execute_result"
    }
   ],
   "source": [
    "?Amlet.LogitModel"
   ]
  },
  {
   "cell_type": "markdown",
   "id": "satellite-scale",
   "metadata": {},
   "source": [
    "### 1) with data stored as concatenated vectors for each individuals"
   ]
  },
  {
   "cell_type": "code",
   "execution_count": 8,
   "id": "educational-stanley",
   "metadata": {},
   "outputs": [
    {
     "data": {
      "text/latex": [
       "\\texttt{struct LinedObs}: All observation is assumed to be unique. All individual have the same number of alternatives $p$.\n",
       "\n",
       "\\section{Fields}\n",
       "\\begin{itemize}\n",
       "\\item \\texttt{data::Array\\{Float64, 2\\}} is a matrix where each column represents an individual,   where the attribute vectors associated to each choice are concatenated.   Therefore,  the data matrix has $J \\times p$ rows and $N$ columns which represents the number of individuals.\n",
       "\n",
       "\n",
       "\\item \\texttt{nalt::Int} is the number of alternatives $J$\n",
       "\n",
       "\\end{itemize}\n"
      ],
      "text/markdown": [
       "`struct LinedObs`: All observation is assumed to be unique. All individual have the same number of alternatives $p$.\n",
       "\n",
       "# Fields\n",
       "\n",
       "  * `data::Array{Float64, 2}` is a matrix where each column represents an individual,   where the attribute vectors associated to each choice are concatenated.   Therefore,  the data matrix has $J \\times p$ rows and $N$ columns which represents the number of individuals.\n",
       "  * `nalt::Int` is the number of alternatives $J$\n"
      ],
      "text/plain": [
       "  \u001b[36mstruct LinedObs\u001b[39m: All observation is assumed to be unique. All individual\n",
       "  have the same number of alternatives \u001b[35mp\u001b[39m.\n",
       "\n",
       "\u001b[1m  Fields\u001b[22m\n",
       "\u001b[1m  ≡≡≡≡≡≡≡≡\u001b[22m\n",
       "\n",
       "    •  \u001b[36mdata::Array{Float64, 2}\u001b[39m is a matrix where each column represents\n",
       "       an individual, where the attribute vectors associated to each\n",
       "       choice are concatenated. Therefore, the data matrix has \u001b[35mJ \\times p\u001b[39m\n",
       "       rows and \u001b[35mN\u001b[39m columns which represents the number of individuals.\n",
       "\n",
       "    •  \u001b[36mnalt::Int\u001b[39m is the number of alternatives \u001b[35mJ\u001b[39m"
      ]
     },
     "execution_count": 8,
     "metadata": {},
     "output_type": "execute_result"
    }
   ],
   "source": [
    "?Amlet.LinedObs"
   ]
  },
  {
   "cell_type": "code",
   "execution_count": 9,
   "id": "polyphonic-sierra",
   "metadata": {},
   "outputs": [
    {
     "data": {
      "text/plain": [
       "Amlet.LinedObs([0.7474014397796429 0.8946902843193196 … -0.8471568705822183 0.5705975411310136; 1.8427780619399765 0.7903102208459339 … -0.4039046963823238 0.7933904293562466; … ; 0.14662686109034043 -1.2981854778678257 … -0.14363446988255457 0.7684043842892961; -1.4750719487956006 -1.8549822662511317 … -0.08633754230214073 -0.34734862675283606], 5)"
      ]
     },
     "execution_count": 9,
     "metadata": {},
     "output_type": "execute_result"
    }
   ],
   "source": [
    "Amletdata = Amlet.LinedObs(data, n_alt)"
   ]
  },
  {
   "cell_type": "code",
   "execution_count": 10,
   "id": "alert-hazard",
   "metadata": {},
   "outputs": [
    {
     "data": {
      "text/plain": [
       "Amlet.LogitModel{Amlet.NotUpdatable, Amlet.LinedObs, Amlet.Linear, Amlet.StandardLogitUtility}\n",
       "  Problem name: Generic\n",
       "   All variables: ████████████████████ 10     All constraints: ⋅⋅⋅⋅⋅⋅⋅⋅⋅⋅⋅⋅⋅⋅⋅⋅⋅⋅⋅⋅ 0     \n",
       "            free: ████████████████████ 10                free: ⋅⋅⋅⋅⋅⋅⋅⋅⋅⋅⋅⋅⋅⋅⋅⋅⋅⋅⋅⋅ 0     \n",
       "           lower: ⋅⋅⋅⋅⋅⋅⋅⋅⋅⋅⋅⋅⋅⋅⋅⋅⋅⋅⋅⋅ 0                lower: ⋅⋅⋅⋅⋅⋅⋅⋅⋅⋅⋅⋅⋅⋅⋅⋅⋅⋅⋅⋅ 0     \n",
       "           upper: ⋅⋅⋅⋅⋅⋅⋅⋅⋅⋅⋅⋅⋅⋅⋅⋅⋅⋅⋅⋅ 0                upper: ⋅⋅⋅⋅⋅⋅⋅⋅⋅⋅⋅⋅⋅⋅⋅⋅⋅⋅⋅⋅ 0     \n",
       "         low/upp: ⋅⋅⋅⋅⋅⋅⋅⋅⋅⋅⋅⋅⋅⋅⋅⋅⋅⋅⋅⋅ 0              low/upp: ⋅⋅⋅⋅⋅⋅⋅⋅⋅⋅⋅⋅⋅⋅⋅⋅⋅⋅⋅⋅ 0     \n",
       "           fixed: ⋅⋅⋅⋅⋅⋅⋅⋅⋅⋅⋅⋅⋅⋅⋅⋅⋅⋅⋅⋅ 0                fixed: ⋅⋅⋅⋅⋅⋅⋅⋅⋅⋅⋅⋅⋅⋅⋅⋅⋅⋅⋅⋅ 0     \n",
       "          infeas: ⋅⋅⋅⋅⋅⋅⋅⋅⋅⋅⋅⋅⋅⋅⋅⋅⋅⋅⋅⋅ 0               infeas: ⋅⋅⋅⋅⋅⋅⋅⋅⋅⋅⋅⋅⋅⋅⋅⋅⋅⋅⋅⋅ 0     \n",
       "            nnzh: (  0.00% sparsity)   55              linear: ⋅⋅⋅⋅⋅⋅⋅⋅⋅⋅⋅⋅⋅⋅⋅⋅⋅⋅⋅⋅ 0     \n",
       "                                                    nonlinear: ⋅⋅⋅⋅⋅⋅⋅⋅⋅⋅⋅⋅⋅⋅⋅⋅⋅⋅⋅⋅ 0     \n",
       "                                                         nnzj: (------% sparsity)         \n",
       "\n",
       "  Counters:\n",
       "             obj: ⋅⋅⋅⋅⋅⋅⋅⋅⋅⋅⋅⋅⋅⋅⋅⋅⋅⋅⋅⋅ 0                 grad: ⋅⋅⋅⋅⋅⋅⋅⋅⋅⋅⋅⋅⋅⋅⋅⋅⋅⋅⋅⋅ 0                 cons: ⋅⋅⋅⋅⋅⋅⋅⋅⋅⋅⋅⋅⋅⋅⋅⋅⋅⋅⋅⋅ 0     \n",
       "        cons_lin: ⋅⋅⋅⋅⋅⋅⋅⋅⋅⋅⋅⋅⋅⋅⋅⋅⋅⋅⋅⋅ 0             cons_nln: ⋅⋅⋅⋅⋅⋅⋅⋅⋅⋅⋅⋅⋅⋅⋅⋅⋅⋅⋅⋅ 0                 jcon: ⋅⋅⋅⋅⋅⋅⋅⋅⋅⋅⋅⋅⋅⋅⋅⋅⋅⋅⋅⋅ 0     \n",
       "           jgrad: ⋅⋅⋅⋅⋅⋅⋅⋅⋅⋅⋅⋅⋅⋅⋅⋅⋅⋅⋅⋅ 0                  jac: ⋅⋅⋅⋅⋅⋅⋅⋅⋅⋅⋅⋅⋅⋅⋅⋅⋅⋅⋅⋅ 0              jac_lin: ⋅⋅⋅⋅⋅⋅⋅⋅⋅⋅⋅⋅⋅⋅⋅⋅⋅⋅⋅⋅ 0     \n",
       "         jac_nln: ⋅⋅⋅⋅⋅⋅⋅⋅⋅⋅⋅⋅⋅⋅⋅⋅⋅⋅⋅⋅ 0                jprod: ⋅⋅⋅⋅⋅⋅⋅⋅⋅⋅⋅⋅⋅⋅⋅⋅⋅⋅⋅⋅ 0            jprod_lin: ⋅⋅⋅⋅⋅⋅⋅⋅⋅⋅⋅⋅⋅⋅⋅⋅⋅⋅⋅⋅ 0     \n",
       "       jprod_nln: ⋅⋅⋅⋅⋅⋅⋅⋅⋅⋅⋅⋅⋅⋅⋅⋅⋅⋅⋅⋅ 0               jtprod: ⋅⋅⋅⋅⋅⋅⋅⋅⋅⋅⋅⋅⋅⋅⋅⋅⋅⋅⋅⋅ 0           jtprod_lin: ⋅⋅⋅⋅⋅⋅⋅⋅⋅⋅⋅⋅⋅⋅⋅⋅⋅⋅⋅⋅ 0     \n",
       "      jtprod_nln: ⋅⋅⋅⋅⋅⋅⋅⋅⋅⋅⋅⋅⋅⋅⋅⋅⋅⋅⋅⋅ 0                 hess: ⋅⋅⋅⋅⋅⋅⋅⋅⋅⋅⋅⋅⋅⋅⋅⋅⋅⋅⋅⋅ 0                hprod: ⋅⋅⋅⋅⋅⋅⋅⋅⋅⋅⋅⋅⋅⋅⋅⋅⋅⋅⋅⋅ 0     \n",
       "           jhess: ⋅⋅⋅⋅⋅⋅⋅⋅⋅⋅⋅⋅⋅⋅⋅⋅⋅⋅⋅⋅ 0               jhprod: ⋅⋅⋅⋅⋅⋅⋅⋅⋅⋅⋅⋅⋅⋅⋅⋅⋅⋅⋅⋅ 0     \n"
      ]
     },
     "execution_count": 10,
     "metadata": {},
     "output_type": "execute_result"
    }
   ],
   "source": [
    "# creating Linear Logit model from Lined data\n",
    "mo = Amlet.LogitModel(Amletdata)"
   ]
  },
  {
   "cell_type": "markdown",
   "id": "rough-clarity",
   "metadata": {},
   "source": [
    "### 2) with data stored as matrix for each individual"
   ]
  },
  {
   "cell_type": "code",
   "execution_count": 11,
   "id": "awful-geneva",
   "metadata": {},
   "outputs": [
    {
     "data": {
      "text/latex": [
       "\\texttt{struct MatrixObs}: All observation is assumed to be unique. All individual have the same number of alternatives $J$.\n",
       "\n",
       "\\section{Fields}\n",
       "\\begin{itemize}\n",
       "\\item \\texttt{data::Array\\{Matrix, 1\\}} is an array of \\texttt{Matrix}. Every matrix represents the observations       for one individual, the dimensions are $J \\times p$, where $p$ is the size of the attribute vectors.\n",
       "\n",
       "\n",
       "\\item \\texttt{nalt::Int} is the number of alternatives $J$.\n",
       "\n",
       "\\end{itemize}\n"
      ],
      "text/markdown": [
       "`struct MatrixObs`: All observation is assumed to be unique. All individual have the same number of alternatives $J$.\n",
       "\n",
       "# Fields\n",
       "\n",
       "  * `data::Array{Matrix, 1}` is an array of `Matrix`. Every matrix represents the observations       for one individual, the dimensions are $J \\times p$, where $p$ is the size of the attribute vectors.\n",
       "  * `nalt::Int` is the number of alternatives $J$.\n"
      ],
      "text/plain": [
       "  \u001b[36mstruct MatrixObs\u001b[39m: All observation is assumed to be unique. All individual\n",
       "  have the same number of alternatives \u001b[35mJ\u001b[39m.\n",
       "\n",
       "\u001b[1m  Fields\u001b[22m\n",
       "\u001b[1m  ≡≡≡≡≡≡≡≡\u001b[22m\n",
       "\n",
       "    •  \u001b[36mdata::Array{Matrix, 1}\u001b[39m is an array of \u001b[36mMatrix\u001b[39m. Every matrix\n",
       "       represents the observations for one individual, the dimensions are\n",
       "       \u001b[35mJ \\times p\u001b[39m, where \u001b[35mp\u001b[39m is the size of the attribute vectors.\n",
       "\n",
       "    •  \u001b[36mnalt::Int\u001b[39m is the number of alternatives \u001b[35mJ\u001b[39m."
      ]
     },
     "execution_count": 11,
     "metadata": {},
     "output_type": "execute_result"
    }
   ],
   "source": [
    "?Amlet.MatrixObs"
   ]
  },
  {
   "cell_type": "code",
   "execution_count": 12,
   "id": "tribal-confirmation",
   "metadata": {},
   "outputs": [],
   "source": [
    "# every observations for one individual are stored in a matrix, and all population is an array of matrix\n",
    "all_obs_matrix = Array{Matrix, 1}(undef, N_ind)\n",
    "\n",
    "for i in 1:N_ind\n",
    "    all_obs_matrix[i] = Matrix(reshape(data[:, i], N_dim, n_alt)')\n",
    "end\n",
    "\n",
    "Amletdata_matrix = Amlet.MatrixObs(all_obs_matrix, 5);"
   ]
  },
  {
   "cell_type": "code",
   "execution_count": 13,
   "id": "accessory-swaziland",
   "metadata": {},
   "outputs": [
    {
     "data": {
      "text/plain": [
       "Amlet.LogitModel{Amlet.NotUpdatable, Amlet.MatrixObs, Amlet.Linear, Amlet.StandardLogitUtility}\n",
       "  Problem name: Generic\n",
       "   All variables: ████████████████████ 10     All constraints: ⋅⋅⋅⋅⋅⋅⋅⋅⋅⋅⋅⋅⋅⋅⋅⋅⋅⋅⋅⋅ 0     \n",
       "            free: ████████████████████ 10                free: ⋅⋅⋅⋅⋅⋅⋅⋅⋅⋅⋅⋅⋅⋅⋅⋅⋅⋅⋅⋅ 0     \n",
       "           lower: ⋅⋅⋅⋅⋅⋅⋅⋅⋅⋅⋅⋅⋅⋅⋅⋅⋅⋅⋅⋅ 0                lower: ⋅⋅⋅⋅⋅⋅⋅⋅⋅⋅⋅⋅⋅⋅⋅⋅⋅⋅⋅⋅ 0     \n",
       "           upper: ⋅⋅⋅⋅⋅⋅⋅⋅⋅⋅⋅⋅⋅⋅⋅⋅⋅⋅⋅⋅ 0                upper: ⋅⋅⋅⋅⋅⋅⋅⋅⋅⋅⋅⋅⋅⋅⋅⋅⋅⋅⋅⋅ 0     \n",
       "         low/upp: ⋅⋅⋅⋅⋅⋅⋅⋅⋅⋅⋅⋅⋅⋅⋅⋅⋅⋅⋅⋅ 0              low/upp: ⋅⋅⋅⋅⋅⋅⋅⋅⋅⋅⋅⋅⋅⋅⋅⋅⋅⋅⋅⋅ 0     \n",
       "           fixed: ⋅⋅⋅⋅⋅⋅⋅⋅⋅⋅⋅⋅⋅⋅⋅⋅⋅⋅⋅⋅ 0                fixed: ⋅⋅⋅⋅⋅⋅⋅⋅⋅⋅⋅⋅⋅⋅⋅⋅⋅⋅⋅⋅ 0     \n",
       "          infeas: ⋅⋅⋅⋅⋅⋅⋅⋅⋅⋅⋅⋅⋅⋅⋅⋅⋅⋅⋅⋅ 0               infeas: ⋅⋅⋅⋅⋅⋅⋅⋅⋅⋅⋅⋅⋅⋅⋅⋅⋅⋅⋅⋅ 0     \n",
       "            nnzh: (  0.00% sparsity)   55              linear: ⋅⋅⋅⋅⋅⋅⋅⋅⋅⋅⋅⋅⋅⋅⋅⋅⋅⋅⋅⋅ 0     \n",
       "                                                    nonlinear: ⋅⋅⋅⋅⋅⋅⋅⋅⋅⋅⋅⋅⋅⋅⋅⋅⋅⋅⋅⋅ 0     \n",
       "                                                         nnzj: (------% sparsity)         \n",
       "\n",
       "  Counters:\n",
       "             obj: ⋅⋅⋅⋅⋅⋅⋅⋅⋅⋅⋅⋅⋅⋅⋅⋅⋅⋅⋅⋅ 0                 grad: ⋅⋅⋅⋅⋅⋅⋅⋅⋅⋅⋅⋅⋅⋅⋅⋅⋅⋅⋅⋅ 0                 cons: ⋅⋅⋅⋅⋅⋅⋅⋅⋅⋅⋅⋅⋅⋅⋅⋅⋅⋅⋅⋅ 0     \n",
       "        cons_lin: ⋅⋅⋅⋅⋅⋅⋅⋅⋅⋅⋅⋅⋅⋅⋅⋅⋅⋅⋅⋅ 0             cons_nln: ⋅⋅⋅⋅⋅⋅⋅⋅⋅⋅⋅⋅⋅⋅⋅⋅⋅⋅⋅⋅ 0                 jcon: ⋅⋅⋅⋅⋅⋅⋅⋅⋅⋅⋅⋅⋅⋅⋅⋅⋅⋅⋅⋅ 0     \n",
       "           jgrad: ⋅⋅⋅⋅⋅⋅⋅⋅⋅⋅⋅⋅⋅⋅⋅⋅⋅⋅⋅⋅ 0                  jac: ⋅⋅⋅⋅⋅⋅⋅⋅⋅⋅⋅⋅⋅⋅⋅⋅⋅⋅⋅⋅ 0              jac_lin: ⋅⋅⋅⋅⋅⋅⋅⋅⋅⋅⋅⋅⋅⋅⋅⋅⋅⋅⋅⋅ 0     \n",
       "         jac_nln: ⋅⋅⋅⋅⋅⋅⋅⋅⋅⋅⋅⋅⋅⋅⋅⋅⋅⋅⋅⋅ 0                jprod: ⋅⋅⋅⋅⋅⋅⋅⋅⋅⋅⋅⋅⋅⋅⋅⋅⋅⋅⋅⋅ 0            jprod_lin: ⋅⋅⋅⋅⋅⋅⋅⋅⋅⋅⋅⋅⋅⋅⋅⋅⋅⋅⋅⋅ 0     \n",
       "       jprod_nln: ⋅⋅⋅⋅⋅⋅⋅⋅⋅⋅⋅⋅⋅⋅⋅⋅⋅⋅⋅⋅ 0               jtprod: ⋅⋅⋅⋅⋅⋅⋅⋅⋅⋅⋅⋅⋅⋅⋅⋅⋅⋅⋅⋅ 0           jtprod_lin: ⋅⋅⋅⋅⋅⋅⋅⋅⋅⋅⋅⋅⋅⋅⋅⋅⋅⋅⋅⋅ 0     \n",
       "      jtprod_nln: ⋅⋅⋅⋅⋅⋅⋅⋅⋅⋅⋅⋅⋅⋅⋅⋅⋅⋅⋅⋅ 0                 hess: ⋅⋅⋅⋅⋅⋅⋅⋅⋅⋅⋅⋅⋅⋅⋅⋅⋅⋅⋅⋅ 0                hprod: ⋅⋅⋅⋅⋅⋅⋅⋅⋅⋅⋅⋅⋅⋅⋅⋅⋅⋅⋅⋅ 0     \n",
       "           jhess: ⋅⋅⋅⋅⋅⋅⋅⋅⋅⋅⋅⋅⋅⋅⋅⋅⋅⋅⋅⋅ 0               jhprod: ⋅⋅⋅⋅⋅⋅⋅⋅⋅⋅⋅⋅⋅⋅⋅⋅⋅⋅⋅⋅ 0     \n"
      ]
     },
     "execution_count": 13,
     "metadata": {},
     "output_type": "execute_result"
    }
   ],
   "source": [
    "# creating Logit model from Matrix data\n",
    "mo_matrix = Amlet.LogitModel(Amletdata_matrix)"
   ]
  },
  {
   "cell_type": "code",
   "execution_count": 14,
   "id": "d39b7c5a",
   "metadata": {},
   "outputs": [
    {
     "name": "stderr",
     "output_type": "stream",
     "text": [
      "┌ Info: Precompiling Charlotte [d4d32fd8-c5d4-4f4b-bdd1-dcf16cc21efb]\n",
      "└ @ Base loading.jl:1662\n"
     ]
    }
   ],
   "source": [
    "using Charlotte, Plots, ENLPModels"
   ]
  },
  {
   "cell_type": "code",
   "execution_count": 15,
   "id": "bedc320c",
   "metadata": {},
   "outputs": [],
   "source": [
    "p = plot(xlabel=\"iterations\", ylabel=\"Dist To\");"
   ]
  },
  {
   "cell_type": "code",
   "execution_count": 16,
   "id": "6160530a",
   "metadata": {},
   "outputs": [
    {
     "data": {
      "text/plain": [
       "Charlotte.TerminationCriteria(Charlotte.AbstractSingleTerminationCriterion[Charlotte.NMaxStop(100)], :Unkown)"
      ]
     },
     "execution_count": 16,
     "metadata": {},
     "output_type": "execute_result"
    }
   ],
   "source": [
    "# changeterminationcriteria(Charlotte.FixedGradientNorm(1e-4))\n",
    "Charlotte.genericterminationcriteria\n",
    "tc = Charlotte.TerminationCriteria(Charlotte.AbstractSingleTerminationCriterion[Charlotte.NMaxStop(100)])\n",
    "\n",
    "Charlotte.changeterminationcriteria(tc)"
   ]
  },
  {
   "cell_type": "code",
   "execution_count": 17,
   "id": "5d1e9344",
   "metadata": {},
   "outputs": [],
   "source": [
    "xstar = Array{Float64, 1}(genFibbomod(10));"
   ]
  },
  {
   "cell_type": "code",
   "execution_count": 18,
   "id": "2a7a457a",
   "metadata": {},
   "outputs": [
    {
     "data": {
      "text/plain": [
       "Charlotte.SamplingSizeAccumulator(Int64[], Int64[], Int64[], true, false, false, 1)"
      ]
     },
     "execution_count": 18,
     "metadata": {},
     "output_type": "execute_result"
    }
   ],
   "source": [
    "Charlotte.SamplingSizeAccumulator()"
   ]
  },
  {
   "cell_type": "code",
   "execution_count": 19,
   "id": "73246e2e",
   "metadata": {},
   "outputs": [
    {
     "name": "stdout",
     "output_type": "stream",
     "text": [
      "Algorithm of type : Charlotte.SGDConstStep{Float64} with sampling\n",
      " --- STOP after 101 iterations ---\n",
      " stop status: NMax\n",
      " fx = 0.3403914010027041\n",
      " norm grad = 0.18908838242744413\n"
     ]
    }
   ],
   "source": [
    "## Minibatch \n",
    "mysgd = Charlotte.SGDConstStep(0.1)\n",
    "\n",
    "accs = Charlotte.AbstractSingleAccumulator[Charlotte.DistTo(xstar), Charlotte.Times(), Charlotte.SamplingSizeAccumulator()]\n",
    "acc = Charlotte.Accumulator(accs)\n",
    "\n",
    "sampling = Charlotte.BatchSampling(; N=64, NMax = nobs(mo))\n",
    "state, accumulator = mysgd(mo, sampling; verbose = false, accumulator = acc);\n",
    "\n",
    "all_acc_sgd = Charlotte.getData(accumulator);\n",
    "\n",
    "plot!(p, all_acc_sgd[:Times], all_acc_sgd[:DistTo], label=\"sgd\");"
   ]
  },
  {
   "cell_type": "code",
   "execution_count": 20,
   "id": "bc0eaeaa",
   "metadata": {},
   "outputs": [
    {
     "data": {
      "text/plain": [
       "(DistTo = [43.243496620879306, 43.12719993500581, 43.027283953770834, 42.92713652618613, 42.84034351716102, 42.75399931183589, 42.674515084291954, 42.60265475793516, 42.5375604668681, 42.47362783203554  …  40.49160662106132, 40.47891837899643, 40.46734306633561, 40.45545504434382, 40.44289393507433, 40.43151202878631, 40.42016859360076, 40.40880126539961, 40.39777011871985, 40.38661953288824], Times = [0.0, 0.026068800000000003, 0.026169400000000002, 0.0262544, 0.0263363, 0.0264249, 0.0265055, 0.026585400000000002, 0.0267644, 0.026911800000000003  …  0.0371564, 0.0372788, 0.0374212, 0.0376027, 0.0377248, 0.0378469, 0.0379747, 0.038097400000000003, 0.0382223, 0.0383512], SamplingSize = ([64, 64, 64, 64, 64, 64, 64, 64, 64, 64  …  64, 64, 64, 64, 64, 64, 64, 64, 64, 64], Int64[], Int64[]))"
      ]
     },
     "execution_count": 20,
     "metadata": {},
     "output_type": "execute_result"
    }
   ],
   "source": [
    "all_acc_sgd"
   ]
  },
  {
   "cell_type": "code",
   "execution_count": 21,
   "id": "96bf8919",
   "metadata": {},
   "outputs": [
    {
     "data": {
      "text/plain": [
       "geometricIncrease (generic function with 1 method)"
      ]
     },
     "execution_count": 21,
     "metadata": {},
     "output_type": "execute_result"
    }
   ],
   "source": [
    "function geometricIncrease(N0::Int, N::Int, NMax::Int, iter::Int)\n",
    "    return min(round(Int, N*1.2), NMax)\n",
    "end"
   ]
  },
  {
   "cell_type": "code",
   "execution_count": 29,
   "id": "fe013873",
   "metadata": {},
   "outputs": [
    {
     "name": "stdout",
     "output_type": "stream",
     "text": [
      "Algorithm of type : Charlotte.SGDConstStep{Float64} with sampling\n",
      " --- STOP after 101 iterations ---\n",
      " stop status: NMax\n",
      " fx = 0.34815007565363015\n",
      " norm grad = 0.11604167834035213\n"
     ]
    }
   ],
   "source": [
    "### Preset increase\n",
    "mysgd = Charlotte.SGDConstStep(0.1)\n",
    "\n",
    "accs = Charlotte.AbstractSingleAccumulator[Charlotte.DistTo(xstar), Charlotte.Times(), Charlotte.SamplingSizeAccumulator()]\n",
    "acc = Charlotte.Accumulator(accs)\n",
    "\n",
    "sampling = Charlotte.PresetIncrease(100, nobs(mo);sizeSample = geometricIncrease) \n",
    "state, accumulator = mysgd(mo, sampling; verbose = false, accumulator = acc);\n",
    "\n",
    "all_acc_sgd = Charlotte.getData(accumulator);\n",
    "\n",
    "plot!(p, all_acc_sgd[:Times], all_acc_sgd[:DistTo], label=\"sgd\");"
   ]
  },
  {
   "cell_type": "code",
   "execution_count": 30,
   "id": "87baf725",
   "metadata": {},
   "outputs": [
    {
     "data": {
      "text/plain": [
       "([100, 120, 144, 173, 208, 250, 300, 360, 432, 518  …  10000, 10000, 10000, 10000, 10000, 10000, 10000, 10000, 10000, 10000], Int64[], Int64[])"
      ]
     },
     "execution_count": 30,
     "metadata": {},
     "output_type": "execute_result"
    }
   ],
   "source": [
    "all_acc_sgd[:SamplingSize]"
   ]
  },
  {
   "cell_type": "code",
   "execution_count": 31,
   "id": "12820dee",
   "metadata": {},
   "outputs": [
    {
     "name": "stdout",
     "output_type": "stream",
     "text": [
      "Algorithm of type : Charlotte.SGDConstStep{Float64} with sampling\n",
      " --- STOP after 101 iterations ---\n",
      " stop status: NMax\n",
      " fx = 0.33416534020047556\n",
      " norm grad = 0.23654948049527844\n"
     ]
    }
   ],
   "source": [
    "### Random \n",
    "\n",
    "mysgd = Charlotte.SGDConstStep(0.1)\n",
    "\n",
    "accs = Charlotte.AbstractSingleAccumulator[Charlotte.DistTo(xstar), Charlotte.Times(), Charlotte.SamplingSizeAccumulator()]\n",
    "acc = Charlotte.Accumulator(accs)\n",
    "\n",
    "sampling = Charlotte.RandomSampling(; N = 64, NMax = ENLPModels.nobs(mo))\n",
    "state, accumulator_sto = mysgd(mo, sampling; verbose = false, accumulator = acc);\n",
    "\n",
    "all_acc_sgd_sto = Charlotte.getData(accumulator_sto);\n",
    "\n",
    "plot!(p, all_acc_sgd_sto[:Times], all_acc_sgd_sto[:DistTo], label=\"sgd sto\");"
   ]
  },
  {
   "cell_type": "code",
   "execution_count": 32,
   "id": "33b0631b",
   "metadata": {},
   "outputs": [
    {
     "data": {
      "text/plain": [
       "([64, 64, 64, 64, 64, 64, 64, 64, 64, 64  …  64, 64, 64, 64, 64, 64, 64, 64, 64, 64], Int64[], Int64[])"
      ]
     },
     "execution_count": 32,
     "metadata": {},
     "output_type": "execute_result"
    }
   ],
   "source": [
    "all_acc_sgd_sto[:SamplingSize]"
   ]
  },
  {
   "cell_type": "code",
   "execution_count": 26,
   "id": "eb6ed525",
   "metadata": {},
   "outputs": [
    {
     "name": "stdout",
     "output_type": "stream",
     "text": [
      "Algorithm of type : Charlotte.SGDConstStep{Float64}\n",
      " --- STOP after 101 iterations ---\n",
      " stop status: NMax\n",
      " fx = 0.34825174395335706\n",
      " norm grad = 0.1161047373725755\n"
     ]
    }
   ],
   "source": [
    "### Full Sample\n",
    "\n",
    "mysgd = Charlotte.SGDConstStep(0.1)\n",
    "\n",
    "accs = Charlotte.AbstractSingleAccumulator[Charlotte.DistTo(xstar), Charlotte.Times()]\n",
    "acc = Charlotte.Accumulator(accs)\n",
    "\n",
    "state, accumulator = mysgd(mo; verbose = false, accumulator = acc);\n",
    "\n",
    "all_acc_sgd = Charlotte.getData(accumulator);\n",
    "\n",
    "plot!(p, all_acc_sgd[:Times], all_acc_sgd[:DistTo], label=\"sgd\");"
   ]
  },
  {
   "cell_type": "code",
   "execution_count": 27,
   "id": "948789dd",
   "metadata": {},
   "outputs": [
    {
     "name": "stdout",
     "output_type": "stream",
     "text": [
      "Algorithm of type : Charlotte.AdamConstStep{Float64}\n",
      " --- STOP after 1001 iterations ---\n",
      " stop status: NMax\n",
      " fx = 0.06868076685584402\n",
      " norm grad = 0.0038159266520323863\n"
     ]
    }
   ],
   "source": [
    "adam = Charlotte.AdamConstStep(0.1, 0.9, 0.999)\n",
    "\n",
    "accs = [Charlotte.Value(), Charlotte.DistTo(xstar), Charlotte.Times()]\n",
    "acc = Charlotte.Accumulator(accs)\n",
    "\n",
    "state, accumulator = adam(mo; verbose = false, accumulator = acc);\n",
    "\n",
    "all_acc_adam  = Charlotte.getData(accumulator);\n",
    "\n",
    "plot!(p, all_acc_adam[:Times], all_acc_adam[:DistTo], label=\"adam\");"
   ]
  },
  {
   "cell_type": "code",
   "execution_count": 28,
   "id": "62d6c3fa",
   "metadata": {},
   "outputs": [
    {
     "name": "stdout",
     "output_type": "stream",
     "text": [
      "Algorithm of type : Charlotte.AdamConstStep{Float64}\n",
      " --- STOP after 1001 iterations ---\n",
      " stop status: NMax\n",
      " fx = 0.06868076685584402\n",
      " norm grad = 0.0038159266520323863\n"
     ]
    }
   ],
   "source": [
    "adam = Charlotte.AdamConstStep(0.1, 0.9, 0.999)\n",
    "\n",
    "accs = [Charlotte.DistTo(xstar), Charlotte.Times()]\n",
    "acc = Charlotte.Accumulator(accs)\n",
    "\n",
    "sampling = Charlotte.RandomSampling(; N = 64, NMax = ENLPModels.nobs(mo))\n",
    "state, accumulator = adam(mo; verbose = false, accumulator = acc);\n",
    "\n",
    "all_acc_adam_sto  = Charlotte.getData(accumulator);\n",
    "\n",
    "plot!(p, all_acc_adam_sto[:Times], all_acc_adam_sto[:DistTo], label=\"adam sto\");"
   ]
  },
  {
   "cell_type": "code",
   "execution_count": 29,
   "id": "f7fc2734",
   "metadata": {},
   "outputs": [
    {
     "name": "stdout",
     "output_type": "stream",
     "text": [
      "Algorithm of type : Charlotte.MomentumConstStep{Float64}\n",
      " --- STOP after 1001 iterations ---\n",
      " stop status: NMax\n",
      " fx = 0.12154979314419959\n",
      " norm grad = 0.013948214292221348\n"
     ]
    }
   ],
   "source": [
    "momentum = Charlotte.MomentumConstStep(0.5, 0.1)\n",
    "\n",
    "accs = [ Charlotte.DistTo(xstar), Charlotte.Times()]\n",
    "acc = Charlotte.Accumulator(accs)\n",
    "\n",
    "state, accumulator = momentum(mo; verbose = false, accumulator = acc);\n",
    "\n",
    "all_acc_mom  = Charlotte.getData(accumulator);\n",
    "\n",
    "plot!(p, all_acc_mom[:Times], all_acc_mom[:DistTo], label=\"momentum\");"
   ]
  },
  {
   "cell_type": "code",
   "execution_count": 30,
   "id": "559dce3c",
   "metadata": {},
   "outputs": [
    {
     "name": "stdout",
     "output_type": "stream",
     "text": [
      "Algorithm of type : Charlotte.NesterovConstStep{Float64}\n",
      " --- STOP after 1001 iterations ---\n",
      " stop status: NMax\n",
      " fx = 0.12164145568762365\n",
      " norm grad = 0.013971013215519126\n"
     ]
    }
   ],
   "source": [
    "nesterov = Charlotte.NesterovConstStep(0.5, 0.1)\n",
    "\n",
    "accs = [Charlotte.DistTo(xstar), Charlotte.Times()]\n",
    "acc = Charlotte.Accumulator(accs)\n",
    "\n",
    "state, accumulator = nesterov(mo; verbose = false, accumulator = acc);\n",
    "\n",
    "all_acc_nes  = Charlotte.getData(accumulator);\n",
    "\n",
    "plot!(p, all_acc_mom[:Times], all_acc_mom[:DistTo], label=\"nesterov\");"
   ]
  },
  {
   "cell_type": "code",
   "execution_count": 34,
   "id": "c94534ad",
   "metadata": {},
   "outputs": [
    {
     "data": {
      "text/plain": [
       "Plots.PlotlyJSBackend()"
      ]
     },
     "execution_count": 34,
     "metadata": {},
     "output_type": "execute_result"
    }
   ],
   "source": [
    "using PlotlyJS\n",
    "plotlyjs()\n"
   ]
  },
  {
   "cell_type": "code",
   "execution_count": 35,
   "id": "232e6cb7",
   "metadata": {},
   "outputs": [
    {
     "ename": "LoadError",
     "evalue": "UndefVarError: p not defined",
     "output_type": "error",
     "traceback": [
      "UndefVarError: p not defined",
      "",
      "Stacktrace:",
      " [1] getproperty(x::Module, f::Symbol)",
      "   @ Base .\\Base.jl:31",
      " [2] top-level scope",
      "   @ In[35]:1",
      " [3] eval",
      "   @ .\\boot.jl:368 [inlined]",
      " [4] include_string(mapexpr::typeof(REPL.softscope), mod::Module, code::String, filename::String)",
      "   @ Base .\\loading.jl:1428"
     ]
    }
   ],
   "source": [
    "PlotlyJS.p"
   ]
  },
  {
   "cell_type": "markdown",
   "id": "criminal-cameroon",
   "metadata": {},
   "source": [
    "### Creating model with NotLinear paradigm\n",
    "\n",
    "Creating a Linear model with NotLinear Paradigm to check if it is coherent."
   ]
  },
  {
   "cell_type": "code",
   "execution_count": 25,
   "id": "balanced-shape",
   "metadata": {},
   "outputs": [
    {
     "ename": "LoadError",
     "evalue": "UndefVarError: LogitUtility not defined",
     "output_type": "error",
     "traceback": [
      "UndefVarError: LogitUtility not defined",
      "",
      "Stacktrace:",
      " [1] getproperty(x::Module, f::Symbol)",
      "   @ Base .\\Base.jl:31",
      " [2] top-level scope",
      "   @ In[25]:10",
      " [3] eval",
      "   @ .\\boot.jl:368 [inlined]",
      " [4] include_string(mapexpr::typeof(REPL.softscope), mod::Module, code::String, filename::String)",
      "   @ Base .\\loading.jl:1428"
     ]
    }
   ],
   "source": [
    "function my_utility(x::AbstractVector, beta::AbstractVector, i::Int)\n",
    "   return dot(x[Amlet.LUFLMWCWE.access(length(beta), i)], beta)\n",
    "end\n",
    "\n",
    "function my_utility(x::AbstractMatrix, beta::AbstractVector, i::Int)\n",
    "   return dot(beta, @view x[i, :]) \n",
    "end\n",
    "\n",
    "\n",
    "artififial_utility = Amlet.LogitUtility(my_utility)\n",
    "\n",
    "artificial_mo = Amlet.LogitModel(artififial_utility, Amletdata);"
   ]
  },
  {
   "cell_type": "markdown",
   "id": "wicked-wagner",
   "metadata": {},
   "source": [
    "# Examples of computations"
   ]
  },
  {
   "cell_type": "code",
   "execution_count": 26,
   "id": "dated-stretch",
   "metadata": {},
   "outputs": [
    {
     "ename": "InterruptException",
     "evalue": "InterruptException:",
     "output_type": "error",
     "traceback": [
      "InterruptException:",
      "",
      "Stacktrace:",
      "  [1] try_yieldto(undo::typeof(Base.ensure_rescheduled))",
      "    @ Base .\\task.jl:871",
      "  [2] wait()",
      "    @ Base .\\task.jl:931",
      "  [3] uv_write(s::Base.PipeEndpoint, p::Ptr{UInt8}, n::UInt64)",
      "    @ Base .\\stream.jl:1043",
      "  [4] flush(s::Base.PipeEndpoint)",
      "    @ Base .\\stream.jl:1128",
      "  [5] flush",
      "    @ .\\io.jl:415 [inlined]",
      "  [6] flush(io::IJulia.IJuliaStdio{Base.PipeEndpoint})",
      "    @ IJulia C:\\Users\\jerem\\.julia\\packages\\IJulia\\AQu2H\\src\\stdio.jl:275",
      "  [7] flush_all()",
      "    @ IJulia C:\\Users\\jerem\\.julia\\packages\\IJulia\\AQu2H\\src\\stdio.jl:260",
      "  [8] execute_request(socket::ZMQ.Socket, msg::IJulia.Msg)",
      "    @ IJulia C:\\Users\\jerem\\.julia\\packages\\IJulia\\AQu2H\\src\\execute_request.jl:105",
      "  [9] #invokelatest#2",
      "    @ .\\essentials.jl:729 [inlined]",
      " [10] invokelatest",
      "    @ .\\essentials.jl:726 [inlined]",
      " [11] eventloop(socket::ZMQ.Socket)",
      "    @ IJulia C:\\Users\\jerem\\.julia\\packages\\IJulia\\AQu2H\\src\\eventloop.jl:8",
      " [12] eventloop(socket::ZMQ.Socket) (repeats 4 times)",
      "    @ IJulia C:\\Users\\jerem\\.julia\\packages\\IJulia\\AQu2H\\src\\eventloop.jl:28",
      " [13] (::IJulia.var\"#15#18\")()",
      "    @ IJulia .\\task.jl:484"
     ]
    }
   ],
   "source": [
    "using LinearAlgebra\n",
    "\n",
    "beta = rand(N_dim) # parameters\n",
    "choice = 2 # selecting one alternative\n",
    "ind = 21 # selecting one individual\n",
    "\n",
    "# observed attributes for individual `ind`\n",
    "obs = mo.data[ind] # from Lined data\n",
    "obs_matrix = mo_matrix.data[ind] # from matrix data"
   ]
  },
  {
   "cell_type": "markdown",
   "id": "traditional-maine",
   "metadata": {},
   "source": [
    "### Utilities"
   ]
  },
  {
   "cell_type": "code",
   "execution_count": 27,
   "id": "blank-transport",
   "metadata": {},
   "outputs": [
    {
     "ename": "LoadError",
     "evalue": "type LogitModel has no field u",
     "output_type": "error",
     "traceback": [
      "type LogitModel has no field u",
      "",
      "Stacktrace:",
      " [1] getproperty(x::Amlet.LogitModel{Amlet.NotUpdatable, Amlet.MatrixObs, Amlet.Linear, Amlet.StandardLogitUtility}, f::Symbol)",
      "   @ Base .\\Base.jl:38",
      " [2] top-level scope",
      "   @ In[27]:2",
      " [3] eval",
      "   @ .\\boot.jl:368 [inlined]",
      " [4] include_string(mapexpr::typeof(REPL.softscope), mod::Module, code::String, filename::String)",
      "   @ Base .\\loading.jl:1428"
     ]
    }
   ],
   "source": [
    "# with matrix data\n",
    "Amlet.computeUtilities(beta, obs_matrix, mo_matrix.u)"
   ]
  },
  {
   "cell_type": "code",
   "execution_count": 28,
   "id": "neural-transfer",
   "metadata": {},
   "outputs": [
    {
     "ename": "LoadError",
     "evalue": "type LogitModel has no field u",
     "output_type": "error",
     "traceback": [
      "type LogitModel has no field u",
      "",
      "Stacktrace:",
      " [1] getproperty(x::Amlet.LogitModel{Amlet.NotUpdatable, Amlet.LinedObs, Amlet.Linear, Amlet.StandardLogitUtility}, f::Symbol)",
      "   @ Base .\\Base.jl:38",
      " [2] top-level scope",
      "   @ In[28]:2",
      " [3] eval",
      "   @ .\\boot.jl:368 [inlined]",
      " [4] include_string(mapexpr::typeof(REPL.softscope), mod::Module, code::String, filename::String)",
      "   @ Base .\\loading.jl:1428"
     ]
    }
   ],
   "source": [
    "# with matrix data\n",
    "Amlet.computeUtilities(beta, obs, mo.u)"
   ]
  },
  {
   "cell_type": "markdown",
   "id": "brilliant-facility",
   "metadata": {},
   "source": [
    "### Probabilities"
   ]
  },
  {
   "cell_type": "code",
   "execution_count": 29,
   "id": "express-benchmark",
   "metadata": {},
   "outputs": [
    {
     "ename": "LoadError",
     "evalue": "type LogitModel has no field u",
     "output_type": "error",
     "traceback": [
      "type LogitModel has no field u",
      "",
      "Stacktrace:",
      " [1] getproperty(x::Amlet.LogitModel{Amlet.NotUpdatable, Amlet.MatrixObs, Amlet.Linear, Amlet.StandardLogitUtility}, f::Symbol)",
      "   @ Base .\\Base.jl:38",
      " [2] top-level scope",
      "   @ In[29]:2",
      " [3] eval",
      "   @ .\\boot.jl:368 [inlined]",
      " [4] include_string(mapexpr::typeof(REPL.softscope), mod::Module, code::String, filename::String)",
      "   @ Base .\\loading.jl:1428"
     ]
    }
   ],
   "source": [
    "# with matrix data\n",
    "probas_lined = Amlet.computePrecomputedVal(beta, Amletdata_matrix[choice] , mo_matrix.u)\n",
    "\n",
    "# with Lined vector data\n",
    "probas_matrix = Amlet.computePrecomputedVal(beta, Amletdata[choice], mo.u)\n",
    "\n",
    "println(\"Sum probas data matrix : \" , sum(probas_matrix), \"\\n\")\n",
    " \n",
    "println(\"Sum probas data matrix : \" , sum(probas_lined), \"\\n\")\n",
    "\n",
    "println(\"Diff probas data Lined vs. matrix : \" , norm(probas_lined - probas_matrix), \"\\n\")"
   ]
  },
  {
   "cell_type": "markdown",
   "id": "decimal-treasurer",
   "metadata": {},
   "source": [
    "# Verification of gradient, Hessian and Hessian-vector product"
   ]
  },
  {
   "cell_type": "code",
   "execution_count": 30,
   "id": "prospective-arabic",
   "metadata": {},
   "outputs": [
    {
     "ename": "LoadError",
     "evalue": "type LogitModel has no field u",
     "output_type": "error",
     "traceback": [
      "type LogitModel has no field u",
      "",
      "Stacktrace:",
      "  [1] getproperty(x::Amlet.LogitModel{Amlet.NotUpdatable, Amlet.LinedObs, Amlet.Linear, Amlet.StandardLogitUtility}, f::Symbol)",
      "    @ Base .\\Base.jl:38",
      "  [2] (::var\"#5#6\")(t::Vector{ForwardDiff.Dual{ForwardDiff.Tag{var\"#5#6\", Float64}, Float64, 10}})",
      "    @ Main .\\In[30]:4",
      "  [3] vector_mode_dual_eval!(f::var\"#5#6\", cfg::ForwardDiff.GradientConfig{ForwardDiff.Tag{var\"#5#6\", Float64}, Float64, 10, Vector{ForwardDiff.Dual{ForwardDiff.Tag{var\"#5#6\", Float64}, Float64, 10}}}, x::Vector{Float64})",
      "    @ ForwardDiff C:\\Users\\jerem\\.julia\\packages\\ForwardDiff\\pDtsf\\src\\apiutils.jl:37",
      "  [4] vector_mode_gradient(f::var\"#5#6\", x::Vector{Float64}, cfg::ForwardDiff.GradientConfig{ForwardDiff.Tag{var\"#5#6\", Float64}, Float64, 10, Vector{ForwardDiff.Dual{ForwardDiff.Tag{var\"#5#6\", Float64}, Float64, 10}}})",
      "    @ ForwardDiff C:\\Users\\jerem\\.julia\\packages\\ForwardDiff\\pDtsf\\src\\gradient.jl:106",
      "  [5] gradient(f::Function, x::Vector{Float64}, cfg::ForwardDiff.GradientConfig{ForwardDiff.Tag{var\"#5#6\", Float64}, Float64, 10, Vector{ForwardDiff.Dual{ForwardDiff.Tag{var\"#5#6\", Float64}, Float64, 10}}}, ::Val{true})",
      "    @ ForwardDiff C:\\Users\\jerem\\.julia\\packages\\ForwardDiff\\pDtsf\\src\\gradient.jl:19",
      "  [6] gradient(f::Function, x::Vector{Float64}, cfg::ForwardDiff.GradientConfig{ForwardDiff.Tag{var\"#5#6\", Float64}, Float64, 10, Vector{ForwardDiff.Dual{ForwardDiff.Tag{var\"#5#6\", Float64}, Float64, 10}}}) (repeats 2 times)",
      "    @ ForwardDiff C:\\Users\\jerem\\.julia\\packages\\ForwardDiff\\pDtsf\\src\\gradient.jl:17",
      "  [7] top-level scope",
      "    @ .\\timing.jl:263 [inlined]",
      "  [8] top-level scope",
      "    @ .\\In[30]:0",
      "  [9] eval",
      "    @ .\\boot.jl:368 [inlined]",
      " [10] include_string(mapexpr::typeof(REPL.softscope), mod::Module, code::String, filename::String)",
      "    @ Base .\\loading.jl:1428"
     ]
    }
   ],
   "source": [
    "# Verification of the gradient of the probability function\n",
    "\n",
    "# Computation with ForwardDiff \n",
    "f = t -> Amlet.computePrecomputedVal(t, obs, mo.u)[choice]\n",
    "@time g_forwardDiff = ForwardDiff.gradient(f, beta)\n",
    "\n",
    "# computation with Amlet\n",
    "@time g_amlet = Amlet.gradproba(beta, obs, mo.u, choice)\n",
    "\n",
    "# Difference\n",
    "@show norm(g_forwardDiff - g_amlet);"
   ]
  },
  {
   "cell_type": "code",
   "execution_count": 31,
   "id": "wound-faculty",
   "metadata": {},
   "outputs": [
    {
     "ename": "LoadError",
     "evalue": "UndefVarError: loglogit not defined",
     "output_type": "error",
     "traceback": [
      "UndefVarError: loglogit not defined",
      "",
      "Stacktrace:",
      " [1] (::var\"#7#8\")(t::Vector{ForwardDiff.Dual{ForwardDiff.Tag{var\"#7#8\", Float64}, Float64, 10}})",
      "   @ Main .\\In[31]:4",
      " [2] vector_mode_dual_eval!(f::var\"#7#8\", cfg::ForwardDiff.GradientConfig{ForwardDiff.Tag{var\"#7#8\", Float64}, Float64, 10, Vector{ForwardDiff.Dual{ForwardDiff.Tag{var\"#7#8\", Float64}, Float64, 10}}}, x::Vector{Float64})",
      "   @ ForwardDiff C:\\Users\\jerem\\.julia\\packages\\ForwardDiff\\pDtsf\\src\\apiutils.jl:37",
      " [3] vector_mode_gradient(f::var\"#7#8\", x::Vector{Float64}, cfg::ForwardDiff.GradientConfig{ForwardDiff.Tag{var\"#7#8\", Float64}, Float64, 10, Vector{ForwardDiff.Dual{ForwardDiff.Tag{var\"#7#8\", Float64}, Float64, 10}}})",
      "   @ ForwardDiff C:\\Users\\jerem\\.julia\\packages\\ForwardDiff\\pDtsf\\src\\gradient.jl:106",
      " [4] gradient(f::Function, x::Vector{Float64}, cfg::ForwardDiff.GradientConfig{ForwardDiff.Tag{var\"#7#8\", Float64}, Float64, 10, Vector{ForwardDiff.Dual{ForwardDiff.Tag{var\"#7#8\", Float64}, Float64, 10}}}, ::Val{true})",
      "   @ ForwardDiff C:\\Users\\jerem\\.julia\\packages\\ForwardDiff\\pDtsf\\src\\gradient.jl:19",
      " [5] gradient(f::Function, x::Vector{Float64}, cfg::ForwardDiff.GradientConfig{ForwardDiff.Tag{var\"#7#8\", Float64}, Float64, 10, Vector{ForwardDiff.Dual{ForwardDiff.Tag{var\"#7#8\", Float64}, Float64, 10}}}) (repeats 2 times)",
      "   @ ForwardDiff C:\\Users\\jerem\\.julia\\packages\\ForwardDiff\\pDtsf\\src\\gradient.jl:17",
      " [6] top-level scope",
      "   @ .\\timing.jl:263 [inlined]",
      " [7] top-level scope",
      "   @ .\\In[31]:0",
      " [8] eval",
      "   @ .\\boot.jl:368 [inlined]",
      " [9] include_string(mapexpr::typeof(REPL.softscope), mod::Module, code::String, filename::String)",
      "   @ Base .\\loading.jl:1428"
     ]
    }
   ],
   "source": [
    "# Verification of the gradient of the log-likelihood\n",
    "\n",
    "# Computation with forwardDiff\n",
    "f = t -> Amlet.loglogit(t, obs, mo.u, Amlet.computePrecomputedVal(t, obs, mo.u)) \n",
    "@time g_forwardDiff = ForwardDiff.gradient(f, beta)\n",
    "\n",
    "# Computation with Amlet \n",
    "@time g_amlet = Amlet.gradloglogit(beta, obs, mo.u)\n",
    "\n",
    "# Computation with Amlet (alternative)\n",
    "@time g_amlet_alt = Amlet.my_gradloglogit(beta, obs, mo.u) \n",
    "\n",
    "@show norm(g_forwardDiff - g_amlet)\n",
    "\n",
    "@show norm(g_forwardDiff - g_amlet_alt)\n",
    "\n",
    "@show norm(g_amlet_alt - g_amlet);"
   ]
  },
  {
   "cell_type": "code",
   "execution_count": 32,
   "id": "received-secretariat",
   "metadata": {},
   "outputs": [
    {
     "ename": "LoadError",
     "evalue": "UndefVarError: loglogit not defined",
     "output_type": "error",
     "traceback": [
      "UndefVarError: loglogit not defined",
      "",
      "Stacktrace:",
      "  [1] (::var\"#7#8\")(t::Vector{ForwardDiff.Dual{ForwardDiff.Tag{var\"#7#8\", Float64}, ForwardDiff.Dual{ForwardDiff.Tag{var\"#7#8\", Float64}, Float64, 10}, 10}})",
      "    @ Main .\\In[31]:4",
      "  [2] vector_mode_dual_eval!(f::var\"#7#8\", cfg::ForwardDiff.GradientConfig{ForwardDiff.Tag{var\"#7#8\", Float64}, ForwardDiff.Dual{ForwardDiff.Tag{var\"#7#8\", Float64}, Float64, 10}, 10, Vector{ForwardDiff.Dual{ForwardDiff.Tag{var\"#7#8\", Float64}, ForwardDiff.Dual{ForwardDiff.Tag{var\"#7#8\", Float64}, Float64, 10}, 10}}}, x::Vector{ForwardDiff.Dual{ForwardDiff.Tag{var\"#7#8\", Float64}, Float64, 10}})",
      "    @ ForwardDiff C:\\Users\\jerem\\.julia\\packages\\ForwardDiff\\pDtsf\\src\\apiutils.jl:37",
      "  [3] vector_mode_gradient(f::var\"#7#8\", x::Vector{ForwardDiff.Dual{ForwardDiff.Tag{var\"#7#8\", Float64}, Float64, 10}}, cfg::ForwardDiff.GradientConfig{ForwardDiff.Tag{var\"#7#8\", Float64}, ForwardDiff.Dual{ForwardDiff.Tag{var\"#7#8\", Float64}, Float64, 10}, 10, Vector{ForwardDiff.Dual{ForwardDiff.Tag{var\"#7#8\", Float64}, ForwardDiff.Dual{ForwardDiff.Tag{var\"#7#8\", Float64}, Float64, 10}, 10}}})",
      "    @ ForwardDiff C:\\Users\\jerem\\.julia\\packages\\ForwardDiff\\pDtsf\\src\\gradient.jl:106",
      "  [4] gradient(f::Function, x::Vector{ForwardDiff.Dual{ForwardDiff.Tag{var\"#7#8\", Float64}, Float64, 10}}, cfg::ForwardDiff.GradientConfig{ForwardDiff.Tag{var\"#7#8\", Float64}, ForwardDiff.Dual{ForwardDiff.Tag{var\"#7#8\", Float64}, Float64, 10}, 10, Vector{ForwardDiff.Dual{ForwardDiff.Tag{var\"#7#8\", Float64}, ForwardDiff.Dual{ForwardDiff.Tag{var\"#7#8\", Float64}, Float64, 10}, 10}}}, ::Val{false})",
      "    @ ForwardDiff C:\\Users\\jerem\\.julia\\packages\\ForwardDiff\\pDtsf\\src\\gradient.jl:19",
      "  [5] (::ForwardDiff.var\"#114#115\"{var\"#7#8\", ForwardDiff.HessianConfig{ForwardDiff.Tag{var\"#7#8\", Float64}, Float64, 10, Vector{ForwardDiff.Dual{ForwardDiff.Tag{var\"#7#8\", Float64}, ForwardDiff.Dual{ForwardDiff.Tag{var\"#7#8\", Float64}, Float64, 10}, 10}}, Vector{ForwardDiff.Dual{ForwardDiff.Tag{var\"#7#8\", Float64}, Float64, 10}}}})(y::Vector{ForwardDiff.Dual{ForwardDiff.Tag{var\"#7#8\", Float64}, Float64, 10}})",
      "    @ ForwardDiff C:\\Users\\jerem\\.julia\\packages\\ForwardDiff\\pDtsf\\src\\hessian.jl:16",
      "  [6] vector_mode_dual_eval!(f::ForwardDiff.var\"#114#115\"{var\"#7#8\", ForwardDiff.HessianConfig{ForwardDiff.Tag{var\"#7#8\", Float64}, Float64, 10, Vector{ForwardDiff.Dual{ForwardDiff.Tag{var\"#7#8\", Float64}, ForwardDiff.Dual{ForwardDiff.Tag{var\"#7#8\", Float64}, Float64, 10}, 10}}, Vector{ForwardDiff.Dual{ForwardDiff.Tag{var\"#7#8\", Float64}, Float64, 10}}}}, cfg::ForwardDiff.JacobianConfig{ForwardDiff.Tag{var\"#7#8\", Float64}, Float64, 10, Vector{ForwardDiff.Dual{ForwardDiff.Tag{var\"#7#8\", Float64}, Float64, 10}}}, x::Vector{Float64})",
      "    @ ForwardDiff C:\\Users\\jerem\\.julia\\packages\\ForwardDiff\\pDtsf\\src\\apiutils.jl:37",
      "  [7] vector_mode_jacobian(f::ForwardDiff.var\"#114#115\"{var\"#7#8\", ForwardDiff.HessianConfig{ForwardDiff.Tag{var\"#7#8\", Float64}, Float64, 10, Vector{ForwardDiff.Dual{ForwardDiff.Tag{var\"#7#8\", Float64}, ForwardDiff.Dual{ForwardDiff.Tag{var\"#7#8\", Float64}, Float64, 10}, 10}}, Vector{ForwardDiff.Dual{ForwardDiff.Tag{var\"#7#8\", Float64}, Float64, 10}}}}, x::Vector{Float64}, cfg::ForwardDiff.JacobianConfig{ForwardDiff.Tag{var\"#7#8\", Float64}, Float64, 10, Vector{ForwardDiff.Dual{ForwardDiff.Tag{var\"#7#8\", Float64}, Float64, 10}}})",
      "    @ ForwardDiff C:\\Users\\jerem\\.julia\\packages\\ForwardDiff\\pDtsf\\src\\jacobian.jl:148",
      "  [8] jacobian(f::Function, x::Vector{Float64}, cfg::ForwardDiff.JacobianConfig{ForwardDiff.Tag{var\"#7#8\", Float64}, Float64, 10, Vector{ForwardDiff.Dual{ForwardDiff.Tag{var\"#7#8\", Float64}, Float64, 10}}}, ::Val{false})",
      "    @ ForwardDiff C:\\Users\\jerem\\.julia\\packages\\ForwardDiff\\pDtsf\\src\\jacobian.jl:21",
      "  [9] hessian(f::Function, x::Vector{Float64}, cfg::ForwardDiff.HessianConfig{ForwardDiff.Tag{var\"#7#8\", Float64}, Float64, 10, Vector{ForwardDiff.Dual{ForwardDiff.Tag{var\"#7#8\", Float64}, ForwardDiff.Dual{ForwardDiff.Tag{var\"#7#8\", Float64}, Float64, 10}, 10}}, Vector{ForwardDiff.Dual{ForwardDiff.Tag{var\"#7#8\", Float64}, Float64, 10}}}, ::Val{true})",
      "    @ ForwardDiff C:\\Users\\jerem\\.julia\\packages\\ForwardDiff\\pDtsf\\src\\hessian.jl:17",
      " [10] hessian(f::Function, x::Vector{Float64}, cfg::ForwardDiff.HessianConfig{ForwardDiff.Tag{var\"#7#8\", Float64}, Float64, 10, Vector{ForwardDiff.Dual{ForwardDiff.Tag{var\"#7#8\", Float64}, ForwardDiff.Dual{ForwardDiff.Tag{var\"#7#8\", Float64}, Float64, 10}, 10}}, Vector{ForwardDiff.Dual{ForwardDiff.Tag{var\"#7#8\", Float64}, Float64, 10}}}) (repeats 2 times)",
      "    @ ForwardDiff C:\\Users\\jerem\\.julia\\packages\\ForwardDiff\\pDtsf\\src\\hessian.jl:15",
      " [11] top-level scope",
      "    @ .\\timing.jl:263 [inlined]",
      " [12] top-level scope",
      "    @ .\\In[32]:0",
      " [13] eval",
      "    @ .\\boot.jl:368 [inlined]",
      " [14] include_string(mapexpr::typeof(REPL.softscope), mod::Module, code::String, filename::String)",
      "    @ Base .\\loading.jl:1428"
     ]
    }
   ],
   "source": [
    "# Verification of the Hessian matrix\n",
    "\n",
    "# Computation with ForwardDiff \n",
    "@time h_forwardDiff = ForwardDiff.hessian(f, beta)\n",
    "\n",
    "# Computation with Amlet\n",
    "@time h_amlet = Amlet.Hessianloglogit(beta, obs, mo.u, Amlet.computePrecomputedVal(beta, obs, mo.u) )\n",
    "\n",
    "# Computation with Amlet (alternative)\n",
    "@time h_amlet_alt = Amlet.my_Hessianloglogit(beta, obs, mo.u, Amlet.computePrecomputedVal(beta, obs, mo.u))\n",
    "\n",
    "# Displaying differences \n",
    "@show norm(h_forwardDiff - h_amlet)\n",
    "\n",
    "@show norm(h_forwardDiff - h_amlet_alt)\n",
    "\n",
    "@show norm(h_amlet - h_amlet_alt);"
   ]
  },
  {
   "cell_type": "markdown",
   "id": "wicked-peace",
   "metadata": {},
   "source": [
    "#### Verification product Hessian-vector\n",
    "\n",
    "For this, we can use a differential operator based on the Gateaux derivative, i.e. \n",
    "$$ \n",
    "           \\mathcal{R}_v(f) =  \\left[\\dfrac{\\partial}{\\partial r} f(\\beta + r v )\\right]_{r=0} = J_f(\\beta) v\n",
    "$$\n",
    "where $J_f(\\beta)$ is the Jacobian matrix of $f$ at point $\\beta$.\n",
    "\n",
    "Then, we have, \n",
    "$$ \n",
    "        H_f(\\beta)v = \\mathcal{R}_v(\\nabla f)\n",
    "$$"
   ]
  },
  {
   "cell_type": "code",
   "execution_count": 33,
   "id": "violent-difference",
   "metadata": {},
   "outputs": [],
   "source": [
    "v = rand(10) ; # For Hessian-vector product"
   ]
  },
  {
   "cell_type": "code",
   "execution_count": 34,
   "id": "lonely-rings",
   "metadata": {},
   "outputs": [
    {
     "ename": "LoadError",
     "evalue": "UndefVarError: gradloglogit not defined",
     "output_type": "error",
     "traceback": [
      "UndefVarError: gradloglogit not defined",
      "",
      "Stacktrace:",
      " [1] (::var\"#9#10\")(t::Vector{ForwardDiff.Dual{ForwardDiff.Tag{var\"#9#10\", Float64}, Float64, 1}})",
      "   @ Main .\\In[34]:4",
      " [2] vector_mode_dual_eval!",
      "   @ C:\\Users\\jerem\\.julia\\packages\\ForwardDiff\\pDtsf\\src\\apiutils.jl:37 [inlined]",
      " [3] vector_mode_jacobian(f::var\"#9#10\", x::Vector{Float64}, cfg::ForwardDiff.JacobianConfig{ForwardDiff.Tag{var\"#9#10\", Float64}, Float64, 1, Vector{ForwardDiff.Dual{ForwardDiff.Tag{var\"#9#10\", Float64}, Float64, 1}}})",
      "   @ ForwardDiff C:\\Users\\jerem\\.julia\\packages\\ForwardDiff\\pDtsf\\src\\jacobian.jl:148",
      " [4] jacobian(f::Function, x::Vector{Float64}, cfg::ForwardDiff.JacobianConfig{ForwardDiff.Tag{var\"#9#10\", Float64}, Float64, 1, Vector{ForwardDiff.Dual{ForwardDiff.Tag{var\"#9#10\", Float64}, Float64, 1}}}, ::Val{true})",
      "   @ ForwardDiff C:\\Users\\jerem\\.julia\\packages\\ForwardDiff\\pDtsf\\src\\jacobian.jl:21",
      " [5] jacobian(f::Function, x::Vector{Float64}, cfg::ForwardDiff.JacobianConfig{ForwardDiff.Tag{var\"#9#10\", Float64}, Float64, 1, Vector{ForwardDiff.Dual{ForwardDiff.Tag{var\"#9#10\", Float64}, Float64, 1}}}) (repeats 2 times)",
      "   @ ForwardDiff C:\\Users\\jerem\\.julia\\packages\\ForwardDiff\\pDtsf\\src\\jacobian.jl:19",
      " [6] top-level scope",
      "   @ .\\timing.jl:263 [inlined]",
      " [7] top-level scope",
      "   @ .\\In[34]:0",
      " [8] eval",
      "   @ .\\boot.jl:368 [inlined]",
      " [9] include_string(mapexpr::typeof(REPL.softscope), mod::Module, code::String, filename::String)",
      "   @ Base .\\loading.jl:1428"
     ]
    }
   ],
   "source": [
    "# Verification of Hessian vector product \n",
    "\n",
    "# with forwardDiff \n",
    "f_prod = t -> Amlet.gradloglogit(beta + t[1].*v, obs, mo.u)\n",
    "@time hv_forwardDiff = ForwardDiff.jacobian(f_prod, [0.0])\n",
    "\n",
    "# with amlet\n",
    "@time hv_amlet = Amlet.Hessianloglogit_dot_v(beta, obs, mo.u, Amlet.computePrecomputedVal(beta, obs, mo.u), v) \n",
    "\n",
    "@show norm(hv_forwardDiff[:,1] - hv_amlet)"
   ]
  },
  {
   "cell_type": "markdown",
   "id": "regulation-limitation",
   "metadata": {},
   "source": [
    "Checking coherence between NotLinear paradigm (but model is still linear) and Linear."
   ]
  },
  {
   "cell_type": "code",
   "execution_count": 35,
   "id": "aboriginal-methodology",
   "metadata": {},
   "outputs": [
    {
     "ename": "LoadError",
     "evalue": "UndefVarError: artificial_mo not defined",
     "output_type": "error",
     "traceback": [
      "UndefVarError: artificial_mo not defined",
      "",
      "Stacktrace:",
      " [1] top-level scope",
      "   @ In[35]:3",
      " [2] eval",
      "   @ .\\boot.jl:368 [inlined]",
      " [3] include_string(mapexpr::typeof(REPL.softscope), mod::Module, code::String, filename::String)",
      "   @ Base .\\loading.jl:1428"
     ]
    }
   ],
   "source": [
    "# Verification computation probabilities\n",
    "\n",
    "probas = Amlet.computePrecomputedVal(beta, obs, artificial_mo.u)\n",
    "\n",
    "println(\"Sum of proba = \", sum(probas),  \"\\n\")\n",
    "\n",
    "\n",
    "# Verification computation gradient probabilities\n",
    "\n",
    "g_artificial = Amlet.gradproba(beta, obs, artificial_mo.u, choice)\n",
    "\n",
    "g_amlet = Amlet.gradproba(beta, obs, mo.u, choice)\n",
    "\n",
    "println(\"Diff grad proba Linear / Not Linear : \" ,  norm(g_amlet - g_artificial),  \"\\n\") \n",
    "\n",
    "\n",
    "# Verification of the gradient\n",
    "\n",
    "g_log_art = Amlet.gradloglogit(beta, obs, artificial_mo.u)\n",
    "\n",
    "g_log = Amlet.gradloglogit(beta, obs, mo.u)\n",
    "\n",
    "println(\"Diff grad log logit Linear / Not Linear : \", norm(g_log_art - g_log) ,  \"\\n\")\n",
    "\n",
    "\n",
    "\n",
    "# Verification of the Hessian \n",
    "\n",
    "h_log_art = Amlet.Hessianloglogit(beta, obs, artificial_mo.u, Amlet.computePrecomputedVal(beta, obs, artificial_mo.u))  \n",
    "\n",
    "h_log = Amlet.Hessianloglogit(beta, obs, mo.u, Amlet.computePrecomputedVal(beta, obs, mo.u))\n",
    "\n",
    "println(\"Diff Hessian log logit Linear / Not Linear : \", norm(h_log_art - h_log))\n",
    "\n",
    "\n",
    "\n",
    "# Verification of the product Hessian-vector\n",
    "\n",
    "h_log_art = Amlet.Hessianloglogit_dot_v(beta, obs, artificial_mo.u, Amlet.computePrecomputedVal(beta, obs, artificial_mo.u), v)  \n",
    "\n",
    "h_log = Amlet.Hessianloglogit_dot_v(beta, obs, mo.u, Amlet.computePrecomputedVal(beta, obs, mo.u), v)\n",
    "\n",
    "println(\"Diff Hessian log logit Linear / Not Linear : \", norm(h_log_art - h_log))"
   ]
  },
  {
   "cell_type": "markdown",
   "id": "waiting-consciousness",
   "metadata": {},
   "source": [
    "# Testing Functions exported by Amlet"
   ]
  },
  {
   "cell_type": "code",
   "execution_count": 36,
   "id": "conservative-shareware",
   "metadata": {},
   "outputs": [
    {
     "data": {
      "text/latex": [
       "No documentation found.\n",
       "\n",
       "Binding \\texttt{Amlet.Fs!} does not exist.\n",
       "\n"
      ],
      "text/markdown": [
       "No documentation found.\n",
       "\n",
       "Binding `Amlet.Fs!` does not exist.\n"
      ],
      "text/plain": [
       "  No documentation found.\n",
       "\n",
       "  Binding \u001b[36mAmlet.Fs!\u001b[39m does not exist."
      ]
     },
     "execution_count": 36,
     "metadata": {},
     "output_type": "execute_result"
    }
   ],
   "source": [
    "?Amlet.Fs!"
   ]
  },
  {
   "cell_type": "markdown",
   "id": "regional-universe",
   "metadata": {},
   "source": [
    "### Without storage engine \n",
    "\n",
    "As you can see Model `mo` is `NotUpdatable`."
   ]
  },
  {
   "cell_type": "code",
   "execution_count": 37,
   "id": "collected-kenya",
   "metadata": {},
   "outputs": [
    {
     "data": {
      "text/plain": [
       "Amlet.LogitModel{Amlet.NotUpdatable, Amlet.LinedObs, Amlet.Linear, Amlet.StandardLogitUtility}\n",
       "  Problem name: Generic\n",
       "   All variables: ████████████████████ 10     All constraints: ⋅⋅⋅⋅⋅⋅⋅⋅⋅⋅⋅⋅⋅⋅⋅⋅⋅⋅⋅⋅ 0     \n",
       "            free: ████████████████████ 10                free: ⋅⋅⋅⋅⋅⋅⋅⋅⋅⋅⋅⋅⋅⋅⋅⋅⋅⋅⋅⋅ 0     \n",
       "           lower: ⋅⋅⋅⋅⋅⋅⋅⋅⋅⋅⋅⋅⋅⋅⋅⋅⋅⋅⋅⋅ 0                lower: ⋅⋅⋅⋅⋅⋅⋅⋅⋅⋅⋅⋅⋅⋅⋅⋅⋅⋅⋅⋅ 0     \n",
       "           upper: ⋅⋅⋅⋅⋅⋅⋅⋅⋅⋅⋅⋅⋅⋅⋅⋅⋅⋅⋅⋅ 0                upper: ⋅⋅⋅⋅⋅⋅⋅⋅⋅⋅⋅⋅⋅⋅⋅⋅⋅⋅⋅⋅ 0     \n",
       "         low/upp: ⋅⋅⋅⋅⋅⋅⋅⋅⋅⋅⋅⋅⋅⋅⋅⋅⋅⋅⋅⋅ 0              low/upp: ⋅⋅⋅⋅⋅⋅⋅⋅⋅⋅⋅⋅⋅⋅⋅⋅⋅⋅⋅⋅ 0     \n",
       "           fixed: ⋅⋅⋅⋅⋅⋅⋅⋅⋅⋅⋅⋅⋅⋅⋅⋅⋅⋅⋅⋅ 0                fixed: ⋅⋅⋅⋅⋅⋅⋅⋅⋅⋅⋅⋅⋅⋅⋅⋅⋅⋅⋅⋅ 0     \n",
       "          infeas: ⋅⋅⋅⋅⋅⋅⋅⋅⋅⋅⋅⋅⋅⋅⋅⋅⋅⋅⋅⋅ 0               infeas: ⋅⋅⋅⋅⋅⋅⋅⋅⋅⋅⋅⋅⋅⋅⋅⋅⋅⋅⋅⋅ 0     \n",
       "            nnzh: (  0.00% sparsity)   55              linear: ⋅⋅⋅⋅⋅⋅⋅⋅⋅⋅⋅⋅⋅⋅⋅⋅⋅⋅⋅⋅ 0     \n",
       "                                                    nonlinear: ⋅⋅⋅⋅⋅⋅⋅⋅⋅⋅⋅⋅⋅⋅⋅⋅⋅⋅⋅⋅ 0     \n",
       "                                                         nnzj: (------% sparsity)         \n",
       "\n",
       "  Counters:\n",
       "             obj: ⋅⋅⋅⋅⋅⋅⋅⋅⋅⋅⋅⋅⋅⋅⋅⋅⋅⋅⋅⋅ 0                 grad: ⋅⋅⋅⋅⋅⋅⋅⋅⋅⋅⋅⋅⋅⋅⋅⋅⋅⋅⋅⋅ 0                 cons: ⋅⋅⋅⋅⋅⋅⋅⋅⋅⋅⋅⋅⋅⋅⋅⋅⋅⋅⋅⋅ 0     \n",
       "        cons_lin: ⋅⋅⋅⋅⋅⋅⋅⋅⋅⋅⋅⋅⋅⋅⋅⋅⋅⋅⋅⋅ 0             cons_nln: ⋅⋅⋅⋅⋅⋅⋅⋅⋅⋅⋅⋅⋅⋅⋅⋅⋅⋅⋅⋅ 0                 jcon: ⋅⋅⋅⋅⋅⋅⋅⋅⋅⋅⋅⋅⋅⋅⋅⋅⋅⋅⋅⋅ 0     \n",
       "           jgrad: ⋅⋅⋅⋅⋅⋅⋅⋅⋅⋅⋅⋅⋅⋅⋅⋅⋅⋅⋅⋅ 0                  jac: ⋅⋅⋅⋅⋅⋅⋅⋅⋅⋅⋅⋅⋅⋅⋅⋅⋅⋅⋅⋅ 0              jac_lin: ⋅⋅⋅⋅⋅⋅⋅⋅⋅⋅⋅⋅⋅⋅⋅⋅⋅⋅⋅⋅ 0     \n",
       "         jac_nln: ⋅⋅⋅⋅⋅⋅⋅⋅⋅⋅⋅⋅⋅⋅⋅⋅⋅⋅⋅⋅ 0                jprod: ⋅⋅⋅⋅⋅⋅⋅⋅⋅⋅⋅⋅⋅⋅⋅⋅⋅⋅⋅⋅ 0            jprod_lin: ⋅⋅⋅⋅⋅⋅⋅⋅⋅⋅⋅⋅⋅⋅⋅⋅⋅⋅⋅⋅ 0     \n",
       "       jprod_nln: ⋅⋅⋅⋅⋅⋅⋅⋅⋅⋅⋅⋅⋅⋅⋅⋅⋅⋅⋅⋅ 0               jtprod: ⋅⋅⋅⋅⋅⋅⋅⋅⋅⋅⋅⋅⋅⋅⋅⋅⋅⋅⋅⋅ 0           jtprod_lin: ⋅⋅⋅⋅⋅⋅⋅⋅⋅⋅⋅⋅⋅⋅⋅⋅⋅⋅⋅⋅ 0     \n",
       "      jtprod_nln: ⋅⋅⋅⋅⋅⋅⋅⋅⋅⋅⋅⋅⋅⋅⋅⋅⋅⋅⋅⋅ 0                 hess: ⋅⋅⋅⋅⋅⋅⋅⋅⋅⋅⋅⋅⋅⋅⋅⋅⋅⋅⋅⋅ 0                hprod: ⋅⋅⋅⋅⋅⋅⋅⋅⋅⋅⋅⋅⋅⋅⋅⋅⋅⋅⋅⋅ 0     \n",
       "           jhess: ⋅⋅⋅⋅⋅⋅⋅⋅⋅⋅⋅⋅⋅⋅⋅⋅⋅⋅⋅⋅ 0               jhprod: ⋅⋅⋅⋅⋅⋅⋅⋅⋅⋅⋅⋅⋅⋅⋅⋅⋅⋅⋅⋅ 0     \n"
      ]
     },
     "execution_count": 37,
     "metadata": {},
     "output_type": "execute_result"
    }
   ],
   "source": [
    "mo"
   ]
  },
  {
   "cell_type": "code",
   "execution_count": 38,
   "id": "923a3b1a",
   "metadata": {},
   "outputs": [
    {
     "ename": "LoadError",
     "evalue": "UndefVarError: F not defined",
     "output_type": "error",
     "traceback": [
      "UndefVarError: F not defined",
      "",
      "Stacktrace:",
      " [1] top-level scope",
      "   @ In[38]:2",
      " [2] eval",
      "   @ .\\boot.jl:368 [inlined]",
      " [3] include_string(mapexpr::typeof(REPL.softscope), mod::Module, code::String, filename::String)",
      "   @ Base .\\loading.jl:1428"
     ]
    }
   ],
   "source": [
    "#known to work\n",
    "F(zeros(N_dim), mo)"
   ]
  },
  {
   "cell_type": "code",
   "execution_count": 39,
   "id": "level-arlington",
   "metadata": {},
   "outputs": [
    {
     "ename": "LoadError",
     "evalue": "UndefVarError: Fs not defined",
     "output_type": "error",
     "traceback": [
      "UndefVarError: Fs not defined",
      "",
      "Stacktrace:",
      " [1] top-level scope",
      "   @ In[39]:1",
      " [2] eval",
      "   @ .\\boot.jl:368 [inlined]",
      " [3] include_string(mapexpr::typeof(REPL.softscope), mod::Module, code::String, filename::String)",
      "   @ Base .\\loading.jl:1428"
     ]
    }
   ],
   "source": [
    "Fs(zeros(N_dim), mo)"
   ]
  },
  {
   "cell_type": "code",
   "execution_count": 40,
   "id": "headed-bristol",
   "metadata": {},
   "outputs": [
    {
     "ename": "LoadError",
     "evalue": "UndefVarError: BHHH! not defined",
     "output_type": "error",
     "traceback": [
      "UndefVarError: BHHH! not defined",
      "",
      "Stacktrace:",
      " [1] top-level scope",
      "   @ In[40]:1",
      " [2] eval",
      "   @ .\\boot.jl:368 [inlined]",
      " [3] include_string(mapexpr::typeof(REPL.softscope), mod::Module, code::String, filename::String)",
      "   @ Base .\\loading.jl:1428"
     ]
    }
   ],
   "source": [
    "BHHH!(zeros(N_dim), mo, zeros(N_dim,N_dim))"
   ]
  },
  {
   "cell_type": "markdown",
   "id": "collect-mumbai",
   "metadata": {},
   "source": [
    "### With use of storage engine"
   ]
  },
  {
   "cell_type": "code",
   "execution_count": 41,
   "id": "front-moore",
   "metadata": {},
   "outputs": [
    {
     "ename": "LoadError",
     "evalue": "UndefVarError: Updatable not defined",
     "output_type": "error",
     "traceback": [
      "UndefVarError: Updatable not defined",
      "",
      "Stacktrace:",
      " [1] top-level scope",
      "   @ In[41]:1",
      " [2] eval",
      "   @ .\\boot.jl:368 [inlined]",
      " [3] include_string(mapexpr::typeof(REPL.softscope), mod::Module, code::String, filename::String)",
      "   @ Base .\\loading.jl:1428"
     ]
    }
   ],
   "source": [
    "mo_storageEngine = Amlet.LogitModel{Updatable}(Amletdata)"
   ]
  },
  {
   "cell_type": "code",
   "execution_count": 42,
   "id": "c1625b0b",
   "metadata": {},
   "outputs": [
    {
     "ename": "LoadError",
     "evalue": "UndefVarError: F not defined",
     "output_type": "error",
     "traceback": [
      "UndefVarError: F not defined",
      "",
      "Stacktrace:",
      " [1] top-level scope",
      "   @ In[42]:2",
      " [2] eval",
      "   @ .\\boot.jl:368 [inlined]",
      " [3] include_string(mapexpr::typeof(REPL.softscope), mod::Module, code::String, filename::String)",
      "   @ Base .\\loading.jl:1428"
     ]
    }
   ],
   "source": [
    "# storage engine initialized for at [0.0, 0.0, ..., 0.0] \n",
    "F(zeros(N_dim), mo_storageEngine)"
   ]
  },
  {
   "cell_type": "code",
   "execution_count": 43,
   "id": "00b0afee",
   "metadata": {},
   "outputs": [
    {
     "ename": "LoadError",
     "evalue": "UndefVarError: F not defined",
     "output_type": "error",
     "traceback": [
      "UndefVarError: F not defined",
      "",
      "Stacktrace:",
      " [1] top-level scope",
      "   @ In[43]:2",
      " [2] eval",
      "   @ .\\boot.jl:368 [inlined]",
      " [3] include_string(mapexpr::typeof(REPL.softscope), mod::Module, code::String, filename::String)",
      "   @ Base .\\loading.jl:1428"
     ]
    }
   ],
   "source": [
    "#should be an error, storage engine not up to date\n",
    "F(ones(N_dim), mo_storageEngine)"
   ]
  },
  {
   "cell_type": "code",
   "execution_count": 44,
   "id": "b1a770dd",
   "metadata": {},
   "outputs": [
    {
     "ename": "LoadError",
     "evalue": "UndefVarError: F not defined",
     "output_type": "error",
     "traceback": [
      "UndefVarError: F not defined",
      "",
      "Stacktrace:",
      " [1] top-level scope",
      "   @ In[44]:1",
      " [2] eval",
      "   @ .\\boot.jl:368 [inlined]",
      " [3] include_string(mapexpr::typeof(REPL.softscope), mod::Module, code::String, filename::String)",
      "   @ Base .\\loading.jl:1428"
     ]
    }
   ],
   "source": [
    "F(ones(N_dim), mo_storageEngine, update = true)"
   ]
  },
  {
   "cell_type": "code",
   "execution_count": 45,
   "id": "7f214400",
   "metadata": {},
   "outputs": [
    {
     "ename": "LoadError",
     "evalue": "UndefVarError: F not defined",
     "output_type": "error",
     "traceback": [
      "UndefVarError: F not defined",
      "",
      "Stacktrace:",
      " [1] top-level scope",
      "   @ In[45]:1",
      " [2] eval",
      "   @ .\\boot.jl:368 [inlined]",
      " [3] include_string(mapexpr::typeof(REPL.softscope), mod::Module, code::String, filename::String)",
      "   @ Base .\\loading.jl:1428"
     ]
    }
   ],
   "source": [
    "F(ones(N_dim), mo_storageEngine)"
   ]
  },
  {
   "cell_type": "code",
   "execution_count": 46,
   "id": "32190638",
   "metadata": {},
   "outputs": [
    {
     "ename": "LoadError",
     "evalue": "UndefVarError: mo_storageEngine not defined",
     "output_type": "error",
     "traceback": [
      "UndefVarError: mo_storageEngine not defined",
      "",
      "Stacktrace:",
      " [1] top-level scope",
      "   @ In[46]:1",
      " [2] eval",
      "   @ .\\boot.jl:368 [inlined]",
      " [3] include_string(mapexpr::typeof(REPL.softscope), mod::Module, code::String, filename::String)",
      "   @ Base .\\loading.jl:1428"
     ]
    }
   ],
   "source": [
    "grads!(ones(N_dim), mo_storageEngine, zeros(N_dim, N_ind))"
   ]
  },
  {
   "cell_type": "code",
   "execution_count": 47,
   "id": "4a797966",
   "metadata": {},
   "outputs": [
    {
     "ename": "LoadError",
     "evalue": "UndefVarError: mo_storageEngine not defined",
     "output_type": "error",
     "traceback": [
      "UndefVarError: mo_storageEngine not defined",
      "",
      "Stacktrace:",
      " [1] top-level scope",
      "   @ In[47]:1",
      " [2] eval",
      "   @ .\\boot.jl:368 [inlined]",
      " [3] include_string(mapexpr::typeof(REPL.softscope), mod::Module, code::String, filename::String)",
      "   @ Base .\\loading.jl:1428"
     ]
    }
   ],
   "source": [
    "grads(ones(N_dim), mo_storageEngine, sample = 3:13)"
   ]
  },
  {
   "cell_type": "code",
   "execution_count": 48,
   "id": "5ae8bff0",
   "metadata": {},
   "outputs": [
    {
     "ename": "LoadError",
     "evalue": "UndefVarError: mo_storageEngine not defined",
     "output_type": "error",
     "traceback": [
      "UndefVarError: mo_storageEngine not defined",
      "",
      "Stacktrace:",
      " [1] top-level scope",
      "   @ In[48]:1",
      " [2] eval",
      "   @ .\\boot.jl:368 [inlined]",
      " [3] include_string(mapexpr::typeof(REPL.softscope), mod::Module, code::String, filename::String)",
      "   @ Base .\\loading.jl:1428"
     ]
    }
   ],
   "source": [
    "grads(ones(N_dim), mo_storageEngine)"
   ]
  },
  {
   "cell_type": "code",
   "execution_count": null,
   "id": "prompt-tanzania",
   "metadata": {},
   "outputs": [],
   "source": []
  },
  {
   "cell_type": "code",
   "execution_count": null,
   "id": "based-reputation",
   "metadata": {},
   "outputs": [],
   "source": []
  },
  {
   "cell_type": "code",
   "execution_count": null,
   "id": "indian-match",
   "metadata": {},
   "outputs": [],
   "source": []
  }
 ],
 "metadata": {
  "kernelspec": {
   "display_name": "Julia 1.8.0",
   "language": "julia",
   "name": "julia-1.8"
  },
  "language_info": {
   "file_extension": ".jl",
   "mimetype": "application/julia",
   "name": "julia",
   "version": "1.8.0"
  }
 },
 "nbformat": 4,
 "nbformat_minor": 5
}
