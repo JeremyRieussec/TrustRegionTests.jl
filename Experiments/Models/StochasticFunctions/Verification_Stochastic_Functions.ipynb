{
 "cells": [
  {
   "cell_type": "code",
   "execution_count": 55,
   "id": "american-budapest",
   "metadata": {},
   "outputs": [],
   "source": [
    "using ForwardDiff\n",
    "using Distributions\n",
    "using BenchmarkTools"
   ]
  },
  {
   "cell_type": "code",
   "execution_count": 56,
   "id": "otherwise-vegetation",
   "metadata": {},
   "outputs": [
    {
     "data": {
      "text/plain": [
       "Hessian_vector_product_RGS (generic function with 1 method)"
      ]
     },
     "execution_count": 56,
     "metadata": {},
     "output_type": "execute_result"
    }
   ],
   "source": [
    "include(\"Rosenbrock_Stochastic.jl\")\n",
    "include(\"Exponential_Stochastic.jl\")\n",
    "include(\"Rosenbrock_Generalized_Stochastic.jl\")\n",
    "include(\"Rosenbrock_Generalized_Stochastic_2.jl\")"
   ]
  },
  {
   "cell_type": "markdown",
   "id": "solid-arrangement",
   "metadata": {},
   "source": [
    "# Essai fonction Rosenbrock"
   ]
  },
  {
   "cell_type": "markdown",
   "id": "decimal-sussex",
   "metadata": {},
   "source": [
    "## Generation sample"
   ]
  },
  {
   "cell_type": "code",
   "execution_count": 36,
   "id": "hindu-macedonia",
   "metadata": {},
   "outputs": [
    {
     "data": {
      "text/plain": [
       "1000-element Array{Float64,1}:\n",
       " 0.9451917336940948\n",
       " 0.7800451866701468\n",
       " 0.951603847767299\n",
       " 1.0897004473916756\n",
       " 0.973493845215048\n",
       " 1.04703661472569\n",
       " 0.9766569758305788\n",
       " 1.012494293497825\n",
       " 1.0145373484912417\n",
       " 0.8988816674071098\n",
       " 1.082255714244672\n",
       " 1.2098480702569643\n",
       " 1.093293540033049\n",
       " ⋮\n",
       " 0.9939671196550237\n",
       " 1.0772603625384434\n",
       " 0.984816065565509\n",
       " 1.0576857677415876\n",
       " 0.9239100755515063\n",
       " 1.1278666517431593\n",
       " 1.0185526385388561\n",
       " 1.006307840573932\n",
       " 1.045322726839023\n",
       " 0.8696860075588897\n",
       " 1.1062897523313935\n",
       " 0.979344141664611"
      ]
     },
     "execution_count": 36,
     "metadata": {},
     "output_type": "execute_result"
    }
   ],
   "source": [
    "σ = 0.1\n",
    "ξ = rand(Normal(1, σ), 1000)"
   ]
  },
  {
   "cell_type": "code",
   "execution_count": 4,
   "id": "knowing-halloween",
   "metadata": {},
   "outputs": [
    {
     "data": {
      "text/plain": [
       "4.239127057557019"
      ]
     },
     "execution_count": 4,
     "metadata": {},
     "output_type": "execute_result"
    }
   ],
   "source": [
    "x = [1;1]\n",
    "Rosenbrock_Sto(x, ξ)"
   ]
  },
  {
   "cell_type": "markdown",
   "id": "vertical-bullet",
   "metadata": {},
   "source": [
    "### Verification Gradient "
   ]
  },
  {
   "cell_type": "code",
   "execution_count": 5,
   "id": "institutional-morris",
   "metadata": {},
   "outputs": [
    {
     "data": {
      "text/plain": [
       "2-element Array{Float64,1}:\n",
       " 15.511929418841808\n",
       "  0.7045330137070027"
      ]
     },
     "execution_count": 5,
     "metadata": {},
     "output_type": "execute_result"
    }
   ],
   "source": [
    "Rosenbrock_Sto_Grad(x, ξ)"
   ]
  },
  {
   "cell_type": "code",
   "execution_count": 6,
   "id": "representative-undergraduate",
   "metadata": {},
   "outputs": [
    {
     "data": {
      "text/plain": [
       "f (generic function with 1 method)"
      ]
     },
     "execution_count": 6,
     "metadata": {},
     "output_type": "execute_result"
    }
   ],
   "source": [
    "function f(x::Vector)\n",
    "return Rosenbrock_Sto(x, ξ) \n",
    "end"
   ]
  },
  {
   "cell_type": "code",
   "execution_count": 7,
   "id": "forced-sustainability",
   "metadata": {},
   "outputs": [
    {
     "data": {
      "text/plain": [
       "2-element Array{Float64,1}:\n",
       " 15.511929418841811\n",
       "  0.7045330137070027"
      ]
     },
     "execution_count": 7,
     "metadata": {},
     "output_type": "execute_result"
    }
   ],
   "source": [
    "ForwardDiff.gradient(f, x)"
   ]
  },
  {
   "cell_type": "markdown",
   "id": "conditional-belarus",
   "metadata": {},
   "source": [
    "### Verification Hessian"
   ]
  },
  {
   "cell_type": "code",
   "execution_count": 8,
   "id": "weighted-tamil",
   "metadata": {},
   "outputs": [
    {
     "data": {
      "text/plain": [
       "2×2 Array{Float64,2}:\n",
       "  845.689  -398.591\n",
       " -398.591   200.0"
      ]
     },
     "execution_count": 8,
     "metadata": {},
     "output_type": "execute_result"
    }
   ],
   "source": [
    "ForwardDiff.hessian(f, x)"
   ]
  },
  {
   "cell_type": "markdown",
   "id": "ecological-sheet",
   "metadata": {},
   "source": [
    "# Fonction exponential"
   ]
  },
  {
   "cell_type": "markdown",
   "id": "chronic-richardson",
   "metadata": {},
   "source": [
    "$$f(x) = \\mathbb{E}\\Big[ -\\mathrm{e}^{-0.5 \\Vert \\xi x \\Vert^2} \\Big] $$\n",
    "\n",
    "where,\n",
    "- $x = (x_1, \\dots, x_p)^T$ ,\n",
    "- $\\xi \\in \\mathbb{R}$ is a random variable."
   ]
  },
  {
   "cell_type": "markdown",
   "id": "devoted-minutes",
   "metadata": {},
   "source": [
    "  ## Generation sample\n"
   ]
  },
  {
   "cell_type": "code",
   "execution_count": 9,
   "id": "opened-reference",
   "metadata": {
    "collapsed": true
   },
   "outputs": [
    {
     "data": {
      "text/plain": [
       "50-element Array{Float64,1}:\n",
       " 1.0\n",
       " 1.0\n",
       " 1.0\n",
       " 1.0\n",
       " 1.0\n",
       " 1.0\n",
       " 1.0\n",
       " 1.0\n",
       " 1.0\n",
       " 1.0\n",
       " 1.0\n",
       " 1.0\n",
       " 1.0\n",
       " ⋮\n",
       " 1.0\n",
       " 1.0\n",
       " 1.0\n",
       " 1.0\n",
       " 1.0\n",
       " 1.0\n",
       " 1.0\n",
       " 1.0\n",
       " 1.0\n",
       " 1.0\n",
       " 1.0\n",
       " 1.0"
      ]
     },
     "execution_count": 9,
     "metadata": {},
     "output_type": "execute_result"
    }
   ],
   "source": [
    "σ = 0.1\n",
    "ξ = rand(Normal(1, σ), 1000)\n",
    "\n",
    "p = 50\n",
    "x = ones(p)"
   ]
  },
  {
   "cell_type": "code",
   "execution_count": 10,
   "id": "disciplinary-wheat",
   "metadata": {},
   "outputs": [
    {
     "name": "stdout",
     "output_type": "stream",
     "text": [
      "  0.186924 seconds (236.18 k allocations: 12.814 MiB, 11.48% gc time)\n"
     ]
    },
    {
     "data": {
      "text/plain": [
       "-1.7863346732814494e-7"
      ]
     },
     "execution_count": 10,
     "metadata": {},
     "output_type": "execute_result"
    }
   ],
   "source": [
    "@time Exponential_Sto(x, ξ)"
   ]
  },
  {
   "cell_type": "code",
   "execution_count": 11,
   "id": "protected-ground",
   "metadata": {},
   "outputs": [
    {
     "data": {
      "text/plain": [
       "f_exp (generic function with 1 method)"
      ]
     },
     "execution_count": 11,
     "metadata": {},
     "output_type": "execute_result"
    }
   ],
   "source": [
    "function f_exp(x::Vector)\n",
    "return Exponential_Sto(x, ξ) \n",
    "end"
   ]
  },
  {
   "cell_type": "markdown",
   "id": "official-journalism",
   "metadata": {},
   "source": [
    "### Verification gradient"
   ]
  },
  {
   "cell_type": "code",
   "execution_count": 12,
   "id": "nominated-beatles",
   "metadata": {
    "collapsed": true
   },
   "outputs": [
    {
     "name": "stdout",
     "output_type": "stream",
     "text": [
      "  1.230790 seconds (2.26 M allocations: 137.224 MiB, 3.43% gc time)\n"
     ]
    },
    {
     "data": {
      "text/plain": [
       "50-element Array{Float64,1}:\n",
       " 6.82858757500516e-8\n",
       " 6.82858757500516e-8\n",
       " 6.82858757500516e-8\n",
       " 6.82858757500516e-8\n",
       " 6.82858757500516e-8\n",
       " 6.82858757500516e-8\n",
       " 6.82858757500516e-8\n",
       " 6.82858757500516e-8\n",
       " 6.82858757500516e-8\n",
       " 6.82858757500516e-8\n",
       " 6.82858757500516e-8\n",
       " 6.82858757500516e-8\n",
       " 6.82858757500516e-8\n",
       " ⋮\n",
       " 6.82858757500516e-8\n",
       " 6.82858757500516e-8\n",
       " 6.82858757500516e-8\n",
       " 6.82858757500516e-8\n",
       " 6.82858757500516e-8\n",
       " 6.82858757500516e-8\n",
       " 6.82858757500516e-8\n",
       " 6.82858757500516e-8\n",
       " 6.82858757500516e-8\n",
       " 6.82858757500516e-8\n",
       " 6.82858757500516e-8\n",
       " 6.82858757500516e-8"
      ]
     },
     "execution_count": 12,
     "metadata": {},
     "output_type": "execute_result"
    }
   ],
   "source": [
    "@time grad_FD = ForwardDiff.gradient(f_exp, x)"
   ]
  },
  {
   "cell_type": "code",
   "execution_count": 13,
   "id": "included-disposal",
   "metadata": {
    "scrolled": true
   },
   "outputs": [
    {
     "name": "stdout",
     "output_type": "stream",
     "text": [
      "  0.124917 seconds (185.55 k allocations: 9.952 MiB)\n"
     ]
    },
    {
     "data": {
      "text/plain": [
       "50-element Array{Float64,1}:\n",
       " 6.828587575005136e-8\n",
       " 6.828587575005136e-8\n",
       " 6.828587575005136e-8\n",
       " 6.828587575005136e-8\n",
       " 6.828587575005136e-8\n",
       " 6.828587575005136e-8\n",
       " 6.828587575005136e-8\n",
       " 6.828587575005136e-8\n",
       " 6.828587575005136e-8\n",
       " 6.828587575005136e-8\n",
       " 6.828587575005136e-8\n",
       " 6.828587575005136e-8\n",
       " 6.828587575005136e-8\n",
       " ⋮\n",
       " 6.828587575005136e-8\n",
       " 6.828587575005136e-8\n",
       " 6.828587575005136e-8\n",
       " 6.828587575005136e-8\n",
       " 6.828587575005136e-8\n",
       " 6.828587575005136e-8\n",
       " 6.828587575005136e-8\n",
       " 6.828587575005136e-8\n",
       " 6.828587575005136e-8\n",
       " 6.828587575005136e-8\n",
       " 6.828587575005136e-8\n",
       " 6.828587575005136e-8"
      ]
     },
     "execution_count": 13,
     "metadata": {},
     "output_type": "execute_result"
    }
   ],
   "source": [
    "@time grad =  Exponential_Sto_Grad(x, ξ)"
   ]
  },
  {
   "cell_type": "code",
   "execution_count": 14,
   "id": "independent-yesterday",
   "metadata": {},
   "outputs": [
    {
     "data": {
      "text/plain": [
       "1.6845264587585898e-21"
      ]
     },
     "execution_count": 14,
     "metadata": {},
     "output_type": "execute_result"
    }
   ],
   "source": [
    "norm(grad_FD - grad)"
   ]
  },
  {
   "cell_type": "markdown",
   "id": "compact-hampshire",
   "metadata": {},
   "source": [
    "### Verification Hessian"
   ]
  },
  {
   "cell_type": "code",
   "execution_count": 15,
   "id": "united-lafayette",
   "metadata": {},
   "outputs": [
    {
     "name": "stdout",
     "output_type": "stream",
     "text": [
      "  5.709801 seconds (4.57 M allocations: 1.330 GiB, 4.41% gc time)\n"
     ]
    },
    {
     "data": {
      "text/plain": [
       "50×50 Array{Float64,2}:\n",
       "  4.14035e-8  -2.68824e-8  -2.68824e-8  …  -2.68824e-8  -2.68824e-8\n",
       " -2.68824e-8   4.14035e-8  -2.68824e-8     -2.68824e-8  -2.68824e-8\n",
       " -2.68824e-8  -2.68824e-8   4.14035e-8     -2.68824e-8  -2.68824e-8\n",
       " -2.68824e-8  -2.68824e-8  -2.68824e-8     -2.68824e-8  -2.68824e-8\n",
       " -2.68824e-8  -2.68824e-8  -2.68824e-8     -2.68824e-8  -2.68824e-8\n",
       " -2.68824e-8  -2.68824e-8  -2.68824e-8  …  -2.68824e-8  -2.68824e-8\n",
       " -2.68824e-8  -2.68824e-8  -2.68824e-8     -2.68824e-8  -2.68824e-8\n",
       " -2.68824e-8  -2.68824e-8  -2.68824e-8     -2.68824e-8  -2.68824e-8\n",
       " -2.68824e-8  -2.68824e-8  -2.68824e-8     -2.68824e-8  -2.68824e-8\n",
       " -2.68824e-8  -2.68824e-8  -2.68824e-8     -2.68824e-8  -2.68824e-8\n",
       " -2.68824e-8  -2.68824e-8  -2.68824e-8  …  -2.68824e-8  -2.68824e-8\n",
       " -2.68824e-8  -2.68824e-8  -2.68824e-8     -2.68824e-8  -2.68824e-8\n",
       " -2.68824e-8  -2.68824e-8  -2.68824e-8     -2.68824e-8  -2.68824e-8\n",
       "  ⋮                                     ⋱               \n",
       " -2.68824e-8  -2.68824e-8  -2.68824e-8     -2.68824e-8  -2.68824e-8\n",
       " -2.68824e-8  -2.68824e-8  -2.68824e-8     -2.68824e-8  -2.68824e-8\n",
       " -2.68824e-8  -2.68824e-8  -2.68824e-8  …  -2.68824e-8  -2.68824e-8\n",
       " -2.68824e-8  -2.68824e-8  -2.68824e-8     -2.68824e-8  -2.68824e-8\n",
       " -2.68824e-8  -2.68824e-8  -2.68824e-8     -2.68824e-8  -2.68824e-8\n",
       " -2.68824e-8  -2.68824e-8  -2.68824e-8     -2.68824e-8  -2.68824e-8\n",
       " -2.68824e-8  -2.68824e-8  -2.68824e-8     -2.68824e-8  -2.68824e-8\n",
       " -2.68824e-8  -2.68824e-8  -2.68824e-8  …  -2.68824e-8  -2.68824e-8\n",
       " -2.68824e-8  -2.68824e-8  -2.68824e-8     -2.68824e-8  -2.68824e-8\n",
       " -2.68824e-8  -2.68824e-8  -2.68824e-8     -2.68824e-8  -2.68824e-8\n",
       " -2.68824e-8  -2.68824e-8  -2.68824e-8      4.14035e-8  -2.68824e-8\n",
       " -2.68824e-8  -2.68824e-8  -2.68824e-8     -2.68824e-8   4.14035e-8"
      ]
     },
     "execution_count": 15,
     "metadata": {},
     "output_type": "execute_result"
    }
   ],
   "source": [
    "@time hessian_FD = ForwardDiff.hessian(f_exp, x)"
   ]
  },
  {
   "cell_type": "code",
   "execution_count": 16,
   "id": "played-conservation",
   "metadata": {},
   "outputs": [
    {
     "name": "stdout",
     "output_type": "stream",
     "text": [
      "  0.224439 seconds (300.58 k allocations: 15.599 MiB, 4.51% gc time)\n"
     ]
    },
    {
     "data": {
      "text/plain": [
       "50×50 Array{Float64,2}:\n",
       "  4.14035e-8  -2.68824e-8  -2.68824e-8  …  -2.68824e-8  -2.68824e-8\n",
       " -2.68824e-8   4.14035e-8  -2.68824e-8     -2.68824e-8  -2.68824e-8\n",
       " -2.68824e-8  -2.68824e-8   4.14035e-8     -2.68824e-8  -2.68824e-8\n",
       " -2.68824e-8  -2.68824e-8  -2.68824e-8     -2.68824e-8  -2.68824e-8\n",
       " -2.68824e-8  -2.68824e-8  -2.68824e-8     -2.68824e-8  -2.68824e-8\n",
       " -2.68824e-8  -2.68824e-8  -2.68824e-8  …  -2.68824e-8  -2.68824e-8\n",
       " -2.68824e-8  -2.68824e-8  -2.68824e-8     -2.68824e-8  -2.68824e-8\n",
       " -2.68824e-8  -2.68824e-8  -2.68824e-8     -2.68824e-8  -2.68824e-8\n",
       " -2.68824e-8  -2.68824e-8  -2.68824e-8     -2.68824e-8  -2.68824e-8\n",
       " -2.68824e-8  -2.68824e-8  -2.68824e-8     -2.68824e-8  -2.68824e-8\n",
       " -2.68824e-8  -2.68824e-8  -2.68824e-8  …  -2.68824e-8  -2.68824e-8\n",
       " -2.68824e-8  -2.68824e-8  -2.68824e-8     -2.68824e-8  -2.68824e-8\n",
       " -2.68824e-8  -2.68824e-8  -2.68824e-8     -2.68824e-8  -2.68824e-8\n",
       "  ⋮                                     ⋱               \n",
       " -2.68824e-8  -2.68824e-8  -2.68824e-8     -2.68824e-8  -2.68824e-8\n",
       " -2.68824e-8  -2.68824e-8  -2.68824e-8     -2.68824e-8  -2.68824e-8\n",
       " -2.68824e-8  -2.68824e-8  -2.68824e-8  …  -2.68824e-8  -2.68824e-8\n",
       " -2.68824e-8  -2.68824e-8  -2.68824e-8     -2.68824e-8  -2.68824e-8\n",
       " -2.68824e-8  -2.68824e-8  -2.68824e-8     -2.68824e-8  -2.68824e-8\n",
       " -2.68824e-8  -2.68824e-8  -2.68824e-8     -2.68824e-8  -2.68824e-8\n",
       " -2.68824e-8  -2.68824e-8  -2.68824e-8     -2.68824e-8  -2.68824e-8\n",
       " -2.68824e-8  -2.68824e-8  -2.68824e-8  …  -2.68824e-8  -2.68824e-8\n",
       " -2.68824e-8  -2.68824e-8  -2.68824e-8     -2.68824e-8  -2.68824e-8\n",
       " -2.68824e-8  -2.68824e-8  -2.68824e-8     -2.68824e-8  -2.68824e-8\n",
       " -2.68824e-8  -2.68824e-8  -2.68824e-8      4.14035e-8  -2.68824e-8\n",
       " -2.68824e-8  -2.68824e-8  -2.68824e-8     -2.68824e-8   4.14035e-8"
      ]
     },
     "execution_count": 16,
     "metadata": {},
     "output_type": "execute_result"
    }
   ],
   "source": [
    "@time hessian = Exponential_Sto_Hessian(x, ξ)"
   ]
  },
  {
   "cell_type": "code",
   "execution_count": 17,
   "id": "fitting-lyric",
   "metadata": {},
   "outputs": [
    {
     "data": {
      "text/plain": [
       "4.233419542593993e-21"
      ]
     },
     "execution_count": 17,
     "metadata": {},
     "output_type": "execute_result"
    }
   ],
   "source": [
    "norm(hessian_FD - hessian)"
   ]
  },
  {
   "cell_type": "markdown",
   "id": "dangerous-alignment",
   "metadata": {},
   "source": [
    "### Verification produit Hessian-vector"
   ]
  },
  {
   "cell_type": "code",
   "execution_count": 40,
   "id": "noticed-warrant",
   "metadata": {
    "collapsed": true
   },
   "outputs": [
    {
     "name": "stdout",
     "output_type": "stream",
     "text": [
      "  0.015107 seconds (1.00 k allocations: 485.344 KiB)\n"
     ]
    },
    {
     "data": {
      "text/plain": [
       "50-element Array{Float64,1}:\n",
       "  1.591481009842857e-8\n",
       "  9.618859906348064e-9\n",
       "  2.8635363776504793e-8\n",
       " -2.2502018358320405e-8\n",
       " -1.2535462688255825e-8\n",
       "  1.4771752178184963e-8\n",
       "  3.263127136648112e-8\n",
       " -2.0906325812251035e-9\n",
       " -1.9223628093542902e-8\n",
       " -2.0258817405286473e-9\n",
       "  6.5331882055142284e-9\n",
       " -2.5294225208401723e-8\n",
       "  2.021142728636366e-8\n",
       "  ⋮\n",
       " -3.1804194600680284e-8\n",
       "  8.216932284766826e-10\n",
       "  6.10662109833299e-8\n",
       "  1.5333104808294616e-8\n",
       " -4.3158634443265525e-9\n",
       " -9.899010320653623e-9\n",
       "  3.510846797231401e-9\n",
       "  3.503535199165246e-8\n",
       "  5.183940918950234e-8\n",
       "  5.775363769558742e-8\n",
       "  2.2625937298559023e-8\n",
       " -3.5081030448452526e-8"
      ]
     },
     "execution_count": 40,
     "metadata": {},
     "output_type": "execute_result"
    }
   ],
   "source": [
    "v = randn(p)\n",
    "hessian = Exponential_Sto_Hessian(x, ξ)\n",
    "\n",
    "@time Hes_Vect = Hessian_vector_product_SExp(x, ξ, v)"
   ]
  },
  {
   "cell_type": "code",
   "execution_count": 41,
   "id": "mighty-kenya",
   "metadata": {},
   "outputs": [
    {
     "data": {
      "text/plain": [
       "9.036234614217158e-22"
      ]
     },
     "execution_count": 41,
     "metadata": {},
     "output_type": "execute_result"
    }
   ],
   "source": [
    "norm(Hes_Vect - hessian*v)"
   ]
  },
  {
   "cell_type": "markdown",
   "id": "satisfactory-training",
   "metadata": {},
   "source": [
    "# Rosenbrock Generalized (same minima)"
   ]
  },
  {
   "cell_type": "markdown",
   "id": "paperback-clear",
   "metadata": {},
   "source": [
    "$$ f(x) = \\mathbb{E}\\left[\\sum_{i =1}^{p-1} 100\\xi_i \\Big( x_{i+1} - x_i^2 \\Big)^2  +  \\Big( x_i - 1 \\Big)^2 \\right]$$\n",
    "\n",
    "with, \n",
    "- $x \\in \\mathbb{R}^p$\n",
    "- $\\xi \\in \\mathbb{R}^{p-1}$ a random vector."
   ]
  },
  {
   "cell_type": "code",
   "execution_count": 18,
   "id": "discrete-undergraduate",
   "metadata": {},
   "outputs": [
    {
     "data": {
      "text/plain": [
       "10000"
      ]
     },
     "execution_count": 18,
     "metadata": {},
     "output_type": "execute_result"
    }
   ],
   "source": [
    "p = 50\n",
    "x = randn(p)\n",
    "N = 10000"
   ]
  },
  {
   "cell_type": "code",
   "execution_count": 19,
   "id": "indoor-panama",
   "metadata": {},
   "outputs": [
    {
     "data": {
      "text/plain": [
       "49×10000 Array{Float64,2}:\n",
       " 0.390702    0.640613   0.12818   …  0.950841    0.661753   0.976021\n",
       " 0.579486    0.733896   0.558789     0.213586    0.751715   0.536771\n",
       " 0.231397    0.977881   0.858903     0.506298    0.811279   0.50145\n",
       " 0.799396    0.508909   0.634051     0.799504    0.0159536  0.834034\n",
       " 0.6376      0.745673   0.322793     0.65397     0.471017   0.150458\n",
       " 0.899688    0.999513   0.194278  …  0.788872    0.856511   0.980022\n",
       " 0.00549111  0.296006   0.260961     0.598856    0.550664   0.884085\n",
       " 0.37889     0.243331   0.811711     0.771494    0.830431   0.766405\n",
       " 0.0707942   0.630192   0.440426     0.791262    0.519011   0.615359\n",
       " 0.533913    0.233024   0.569886     0.00816466  0.463595   0.402059\n",
       " 0.473815    0.887633   0.198791  …  0.124015    0.572122   0.619049\n",
       " 0.509505    0.847352   0.490592     0.481762    0.506747   0.121305\n",
       " 0.79944     0.71782    0.988161     0.551752    0.81099    0.223892\n",
       " ⋮                                ⋱                         \n",
       " 0.149269    0.504066   0.157057     0.0418332   0.150085   0.558478\n",
       " 0.657294    0.445165   0.220497     0.799182    0.244939   0.0821167\n",
       " 0.592593    0.481804   0.301605     0.647478    0.949548   0.803882\n",
       " 0.137441    0.992669   0.643204  …  0.517696    0.627764   0.314359\n",
       " 0.667901    0.455092   0.728919     0.213501    0.783516   0.644381\n",
       " 0.025656    0.0457265  0.570185     0.895093    0.877488   0.0863751\n",
       " 0.264722    0.622645   0.452327     0.110921    0.242883   0.150599\n",
       " 0.502625    0.259378   0.323259     0.608046    0.275887   0.553159\n",
       " 0.98239     0.416191   0.962109  …  0.347197    0.971082   0.381972\n",
       " 0.276198    0.216835   0.179779     0.673457    0.547756   0.181478\n",
       " 0.539051    0.919028   0.379427     0.41188     0.618112   0.0334238\n",
       " 0.552868    0.823061   0.345456     0.792252    0.5853     0.452724"
      ]
     },
     "execution_count": 19,
     "metadata": {},
     "output_type": "execute_result"
    }
   ],
   "source": [
    "ξ = rand(p-1, N)"
   ]
  },
  {
   "cell_type": "code",
   "execution_count": 20,
   "id": "about-spanking",
   "metadata": {},
   "outputs": [
    {
     "data": {
      "text/plain": [
       "9157.546746320302"
      ]
     },
     "execution_count": 20,
     "metadata": {},
     "output_type": "execute_result"
    }
   ],
   "source": [
    "Rosenbrock_Generalized_Stochastic(x, ξ)"
   ]
  },
  {
   "cell_type": "code",
   "execution_count": 21,
   "id": "romantic-fleet",
   "metadata": {},
   "outputs": [
    {
     "data": {
      "text/plain": [
       "f_gen_ros (generic function with 1 method)"
      ]
     },
     "execution_count": 21,
     "metadata": {},
     "output_type": "execute_result"
    }
   ],
   "source": [
    "function f_gen_ros(x::Vector)\n",
    "   return  Rosenbrock_Generalized_Stochastic(x, ξ)\n",
    "end"
   ]
  },
  {
   "cell_type": "markdown",
   "id": "driven-consumer",
   "metadata": {},
   "source": [
    "### Verification gradient"
   ]
  },
  {
   "cell_type": "code",
   "execution_count": 22,
   "id": "collectible-bangladesh",
   "metadata": {},
   "outputs": [
    {
     "name": "stdout",
     "output_type": "stream",
     "text": [
      "  0.066425 seconds (60.36 k allocations: 7.305 MiB)\n"
     ]
    },
    {
     "data": {
      "text/plain": [
       "50-element Array{Float64,1}:\n",
       "  -125.92277673515929\n",
       "   -90.66666759401281\n",
       "   -13.533771938647874\n",
       "    16.15735805299341\n",
       "   -10.617495460654766\n",
       "   208.4497033037291\n",
       "  -131.67638337547208\n",
       "   639.715758617031\n",
       "  -257.5272907356459\n",
       "    90.82153338187861\n",
       "  -135.96975255818282\n",
       "   714.3437522758966\n",
       "  -199.92006634114477\n",
       "     ⋮\n",
       "   991.903683641435\n",
       "   -90.23529178088276\n",
       " -3486.720254659161\n",
       "  -710.9181239678772\n",
       "   -24.395880943722506\n",
       "   233.3385336853398\n",
       "  -125.02403701808424\n",
       "  -419.72598786361505\n",
       "  -296.9060493576827\n",
       " -2242.868885547798\n",
       "  -490.45292521631205\n",
       "     8.663561244240421"
      ]
     },
     "execution_count": 22,
     "metadata": {},
     "output_type": "execute_result"
    }
   ],
   "source": [
    "@time grad = Rosenbrock_Generalized_Stochastic_Grad(x, ξ)"
   ]
  },
  {
   "cell_type": "code",
   "execution_count": 23,
   "id": "gross-russia",
   "metadata": {},
   "outputs": [
    {
     "name": "stdout",
     "output_type": "stream",
     "text": [
      "  0.813135 seconds (1.50 M allocations: 96.857 MiB, 2.95% gc time)\n"
     ]
    },
    {
     "data": {
      "text/plain": [
       "50-element Array{Float64,1}:\n",
       "  -125.92277673515929\n",
       "   -90.66666759401211\n",
       "   -13.53377193864788\n",
       "    16.157358052993494\n",
       "   -10.617495460654824\n",
       "   208.44970330373096\n",
       "  -131.6763833754721\n",
       "   639.7157586170307\n",
       "  -257.5272907356461\n",
       "    90.82153338187864\n",
       "  -135.96975255818367\n",
       "   714.3437522758971\n",
       "  -199.92006634114475\n",
       "     ⋮\n",
       "   991.9036836414306\n",
       "   -90.23529178088216\n",
       " -3486.720254659122\n",
       "  -710.9181239678761\n",
       "   -24.395880943722396\n",
       "   233.33853368534\n",
       "  -125.02403701808457\n",
       "  -419.72598786361635\n",
       "  -296.9060493576833\n",
       " -2242.868885547801\n",
       "  -490.4529252163128\n",
       "     8.663561244240421"
      ]
     },
     "execution_count": 23,
     "metadata": {},
     "output_type": "execute_result"
    }
   ],
   "source": [
    "@time grad_FD = ForwardDiff.gradient(f_gen_ros, x)"
   ]
  },
  {
   "cell_type": "code",
   "execution_count": 24,
   "id": "rapid-former",
   "metadata": {},
   "outputs": [
    {
     "data": {
      "text/plain": [
       "4.154486148233661e-11"
      ]
     },
     "execution_count": 24,
     "metadata": {},
     "output_type": "execute_result"
    }
   ],
   "source": [
    "norm(grad - grad_FD)"
   ]
  },
  {
   "cell_type": "markdown",
   "id": "compound-former",
   "metadata": {},
   "source": [
    "### Verification Hessian"
   ]
  },
  {
   "cell_type": "code",
   "execution_count": 25,
   "id": "eastern-prisoner",
   "metadata": {},
   "outputs": [
    {
     "data": {
      "text/plain": [
       "f_gen_ros (generic function with 1 method)"
      ]
     },
     "execution_count": 25,
     "metadata": {},
     "output_type": "execute_result"
    }
   ],
   "source": [
    "function f_gen_ros(x::Vector)\n",
    "   return  Rosenbrock_Generalized_Stochastic(x, ξ)\n",
    "end"
   ]
  },
  {
   "cell_type": "code",
   "execution_count": 26,
   "id": "union-leonard",
   "metadata": {},
   "outputs": [
    {
     "name": "stdout",
     "output_type": "stream",
     "text": [
      "  0.121566 seconds (82.63 k allocations: 8.448 MiB)\n"
     ]
    },
    {
     "data": {
      "text/plain": [
       "50×50 Array{Float64,2}:\n",
       " 401.873  156.078    0.0       0.0     …     0.0       0.0      0.0\n",
       " 156.078  167.467   36.5861    0.0           0.0       0.0      0.0\n",
       "   0.0     36.5861  56.6233   44.6895        0.0       0.0      0.0\n",
       "   0.0      0.0     44.6895  118.733         0.0       0.0      0.0\n",
       "   0.0      0.0      0.0     -76.0286        0.0       0.0      0.0\n",
       "   0.0      0.0      0.0       0.0     …     0.0       0.0      0.0\n",
       "   0.0      0.0      0.0       0.0           0.0       0.0      0.0\n",
       "   0.0      0.0      0.0       0.0           0.0       0.0      0.0\n",
       "   0.0      0.0      0.0       0.0           0.0       0.0      0.0\n",
       "   0.0      0.0      0.0       0.0           0.0       0.0      0.0\n",
       "   0.0      0.0      0.0       0.0     …     0.0       0.0      0.0\n",
       "   0.0      0.0      0.0       0.0           0.0       0.0      0.0\n",
       "   0.0      0.0      0.0       0.0           0.0       0.0      0.0\n",
       "   ⋮                                   ⋱                      \n",
       "   0.0      0.0      0.0       0.0           0.0       0.0      0.0\n",
       "   0.0      0.0      0.0       0.0           0.0       0.0      0.0\n",
       "   0.0      0.0      0.0       0.0     …     0.0       0.0      0.0\n",
       "   0.0      0.0      0.0       0.0           0.0       0.0      0.0\n",
       "   0.0      0.0      0.0       0.0           0.0       0.0      0.0\n",
       "   0.0      0.0      0.0       0.0           0.0       0.0      0.0\n",
       "   0.0      0.0      0.0       0.0           0.0       0.0      0.0\n",
       "   0.0      0.0      0.0       0.0     …     0.0       0.0      0.0\n",
       "   0.0      0.0      0.0       0.0          69.5867    0.0      0.0\n",
       "   0.0      0.0      0.0       0.0        2718.52    400.595    0.0\n",
       "   0.0      0.0      0.0       0.0         400.595   502.155  204.096\n",
       "   0.0      0.0      0.0       0.0           0.0     204.096   99.7273"
      ]
     },
     "execution_count": 26,
     "metadata": {},
     "output_type": "execute_result"
    }
   ],
   "source": [
    "@time hessian = Rosenbrock_Generalized_Stochastic_Hessian(x, ξ)"
   ]
  },
  {
   "cell_type": "code",
   "execution_count": 27,
   "id": "surprising-diana",
   "metadata": {},
   "outputs": [
    {
     "name": "stdout",
     "output_type": "stream",
     "text": [
      "  7.307379 seconds (4.17 M allocations: 295.275 MiB, 1.19% gc time)\n"
     ]
    },
    {
     "data": {
      "text/plain": [
       "50×50 Array{Float64,2}:\n",
       " 401.873  156.078    0.0       0.0     …     0.0       0.0      0.0\n",
       " 156.078  167.467   36.5861    0.0           0.0       0.0      0.0\n",
       "   0.0     36.5861  56.6233   44.6895        0.0       0.0      0.0\n",
       "   0.0      0.0     44.6895  118.733         0.0       0.0      0.0\n",
       "   0.0      0.0      0.0     -76.0286        0.0       0.0      0.0\n",
       "   0.0      0.0      0.0       0.0     …     0.0       0.0      0.0\n",
       "   0.0      0.0      0.0       0.0           0.0       0.0      0.0\n",
       "   0.0      0.0      0.0       0.0           0.0       0.0      0.0\n",
       "   0.0      0.0      0.0       0.0           0.0       0.0      0.0\n",
       "   0.0      0.0      0.0       0.0           0.0       0.0      0.0\n",
       "   0.0      0.0      0.0       0.0     …     0.0       0.0      0.0\n",
       "   0.0      0.0      0.0       0.0           0.0       0.0      0.0\n",
       "   0.0      0.0      0.0       0.0           0.0       0.0      0.0\n",
       "   ⋮                                   ⋱                      \n",
       "   0.0      0.0      0.0       0.0           0.0       0.0      0.0\n",
       "   0.0      0.0      0.0       0.0           0.0       0.0      0.0\n",
       "   0.0      0.0      0.0       0.0     …     0.0       0.0      0.0\n",
       "   0.0      0.0      0.0       0.0           0.0       0.0      0.0\n",
       "   0.0      0.0      0.0       0.0           0.0       0.0      0.0\n",
       "   0.0      0.0      0.0       0.0           0.0       0.0      0.0\n",
       "   0.0      0.0      0.0       0.0           0.0       0.0      0.0\n",
       "   0.0      0.0      0.0       0.0     …     0.0       0.0      0.0\n",
       "   0.0      0.0      0.0       0.0          69.5867    0.0      0.0\n",
       "   0.0      0.0      0.0       0.0        2718.52    400.595    0.0\n",
       "   0.0      0.0      0.0       0.0         400.595   502.155  204.096\n",
       "   0.0      0.0      0.0       0.0           0.0     204.096   99.7273"
      ]
     },
     "execution_count": 27,
     "metadata": {},
     "output_type": "execute_result"
    }
   ],
   "source": [
    "@time hessian_FD = ForwardDiff.hessian(f_gen_ros, x)"
   ]
  },
  {
   "cell_type": "code",
   "execution_count": 28,
   "id": "collect-gamma",
   "metadata": {},
   "outputs": [
    {
     "data": {
      "text/plain": [
       "3.802456504884408e-11"
      ]
     },
     "execution_count": 28,
     "metadata": {},
     "output_type": "execute_result"
    }
   ],
   "source": [
    "norm(hessian - hessian_FD)"
   ]
  },
  {
   "cell_type": "markdown",
   "id": "geographic-romance",
   "metadata": {},
   "source": [
    "### Verification product Hessian-vector"
   ]
  },
  {
   "cell_type": "code",
   "execution_count": 29,
   "id": "surgical-wagner",
   "metadata": {
    "collapsed": true
   },
   "outputs": [
    {
     "data": {
      "text/plain": [
       "50-element Array{Float64,1}:\n",
       "  0.4949676564671313\n",
       " -0.7877757291609309\n",
       "  0.5561530359836312\n",
       " -0.5930846751327921\n",
       " -0.4919101762358255\n",
       "  1.0452145332169664\n",
       " -0.1385534700791777\n",
       "  0.42428934816988\n",
       " -1.0634424949066257\n",
       " -0.4261465364309495\n",
       "  1.0392350937223858\n",
       " -1.557319857937176\n",
       " -0.006577332668137154\n",
       "  ⋮\n",
       " -0.42648466051394734\n",
       " -0.41785004093911166\n",
       " -0.9521383846370245\n",
       " -0.2164430670530749\n",
       " -0.21754843215566116\n",
       "  0.15613505698096472\n",
       " -1.123989758803633\n",
       "  0.5565512175929754\n",
       " -0.47073200891186867\n",
       " -1.9920212655098772\n",
       "  0.36417756409894086\n",
       "  1.6853054379771926"
      ]
     },
     "execution_count": 29,
     "metadata": {},
     "output_type": "execute_result"
    }
   ],
   "source": [
    "v = randn(p)"
   ]
  },
  {
   "cell_type": "code",
   "execution_count": 30,
   "id": "involved-pollution",
   "metadata": {},
   "outputs": [
    {
     "name": "stdout",
     "output_type": "stream",
     "text": [
      "  0.094952 seconds (66.79 k allocations: 7.584 MiB)\n"
     ]
    },
    {
     "data": {
      "text/plain": [
       "50-element Array{Float64,1}:\n",
       "    75.95963226950471\n",
       "   -34.32512144960983\n",
       "   -23.835100134760253\n",
       "    -8.165325460993133\n",
       "   -58.357449031368525\n",
       "   598.3735385713609\n",
       "  -104.91227332262176\n",
       "   929.0495746051315\n",
       "  -154.73759022799248\n",
       "  -247.3281933419561\n",
       "   190.48692152463667\n",
       " -2189.879651543853\n",
       "   440.8368819377954\n",
       "     ⋮\n",
       "  -583.1117213872028\n",
       "   -69.9945000956273\n",
       " -3725.4496507910394\n",
       "  -560.8346845983184\n",
       "    -7.3901704789422045\n",
       "   275.0798767133592\n",
       "  -378.2260363053049\n",
       "   332.01182890928163\n",
       "  -292.5793133935165\n",
       " -5302.2234537929135\n",
       "  -271.15622523869484\n",
       "   242.3979658126069"
      ]
     },
     "execution_count": 30,
     "metadata": {},
     "output_type": "execute_result"
    }
   ],
   "source": [
    "hessian = Rosenbrock_Generalized_Stochastic_Hessian(x, ξ)\n",
    "\n",
    "@time Hes_vect = Hessian_vector_product_RGS(x, ξ, v)"
   ]
  },
  {
   "cell_type": "code",
   "execution_count": 32,
   "id": "cathedral-concept",
   "metadata": {},
   "outputs": [
    {
     "data": {
      "text/plain": [
       "2.668993607320649e-11"
      ]
     },
     "execution_count": 32,
     "metadata": {},
     "output_type": "execute_result"
    }
   ],
   "source": [
    "norm(Hes_vect - hessian*v)"
   ]
  },
  {
   "cell_type": "markdown",
   "id": "juvenile-plastic",
   "metadata": {},
   "source": [
    "# Verification Generalised Rosenbrock  (different minima)"
   ]
  },
  {
   "cell_type": "markdown",
   "id": "southern-briefing",
   "metadata": {},
   "source": [
    "$$f(x) =  \\mathbb{E}\\left[  \\sum_{i =1}^{p-1} 100\\Big( x_{i+1} - \\big(\\xi_i x_i\\big)^2 \\Big)^2  + \\Big( \\xi_i x_i - 1 \\Big)^2 \\right]$$\n",
    "\n",
    "with, \n",
    "- $x \\in \\mathbb{R}^p$\n",
    "- $\\xi \\in \\mathbb{R}^{p-1}$ a random vector."
   ]
  },
  {
   "cell_type": "markdown",
   "id": "hungry-underwear",
   "metadata": {},
   "source": [
    "## Generation sample"
   ]
  },
  {
   "cell_type": "code",
   "execution_count": 22,
   "id": "raised-picnic",
   "metadata": {},
   "outputs": [
    {
     "data": {
      "text/plain": [
       "10000"
      ]
     },
     "execution_count": 22,
     "metadata": {},
     "output_type": "execute_result"
    }
   ],
   "source": [
    "p = 50\n",
    "x = randn(p)\n",
    "N = 10000"
   ]
  },
  {
   "cell_type": "code",
   "execution_count": 23,
   "id": "opened-italian",
   "metadata": {},
   "outputs": [
    {
     "data": {
      "text/plain": [
       "49×10000 Array{Float64,2}:\n",
       " 0.739227    0.621232   0.853916   …  0.645406   0.914331   0.084892\n",
       " 0.235819    0.857906   0.800603      0.95898    0.608172   0.618866\n",
       " 0.579761    0.907282   0.5584        0.176482   0.43042    0.0893103\n",
       " 0.0143135   0.968866   0.0303707     0.808795   0.792164   0.118813\n",
       " 0.193174    0.106693   0.016969      0.0477174  0.36205    0.95558\n",
       " 0.194       0.278367   0.458418   …  0.391004   0.251492   0.520711\n",
       " 0.847883    0.487641   0.898001      0.647469   0.210027   0.981168\n",
       " 0.533169    0.353522   0.109394      0.436386   0.201434   0.899587\n",
       " 0.0348284   0.434134   0.927493      0.019425   0.304287   0.862767\n",
       " 0.898244    0.874126   0.173437      0.996968   0.591216   0.14131\n",
       " 0.367633    0.0895651  0.0240052  …  0.229476   0.165406   0.185102\n",
       " 0.637217    0.0541967  0.178691      0.347817   0.606401   0.922495\n",
       " 0.0167314   0.862689   0.224328      0.972492   0.128128   0.100928\n",
       " ⋮                                 ⋱                        \n",
       " 0.519342    0.396864   0.845319      0.461105   0.2412     0.513792\n",
       " 0.00685452  0.297017   0.773889      0.50295    0.241291   0.552472\n",
       " 0.200201    0.399144   0.824033      0.9452     0.0653005  0.895123\n",
       " 0.356092    0.907684   0.204535   …  0.170331   0.7335     0.0979243\n",
       " 0.909693    0.982037   0.468799      0.565063   0.420523   0.590799\n",
       " 0.801272    0.653706   0.79427       0.829131   0.883627   0.388689\n",
       " 0.288102    0.754412   0.943164      0.533009   0.0985872  0.358053\n",
       " 0.216923    0.359185   0.160221      0.99555    0.430639   0.205223\n",
       " 0.293605    0.439803   0.344037   …  0.658716   0.893267   0.172667\n",
       " 0.825768    0.648561   0.0865172     0.460853   0.916661   0.429169\n",
       " 0.0930066   0.182255   0.906423      0.329385   0.38212    0.124921\n",
       " 0.610924    0.726402   0.0600621     0.289422   0.497415   0.244615"
      ]
     },
     "execution_count": 23,
     "metadata": {},
     "output_type": "execute_result"
    }
   ],
   "source": [
    "ξ = rand(p-1, N)"
   ]
  },
  {
   "cell_type": "markdown",
   "id": "favorite-settlement",
   "metadata": {},
   "source": [
    "### Verification function"
   ]
  },
  {
   "cell_type": "code",
   "execution_count": 24,
   "id": "iraqi-alberta",
   "metadata": {},
   "outputs": [
    {
     "data": {
      "text/plain": [
       "7391.405215881385"
      ]
     },
     "execution_count": 24,
     "metadata": {},
     "output_type": "execute_result"
    }
   ],
   "source": [
    "Rosenbrock_Generalized_Stochastic_2(x, ξ)"
   ]
  },
  {
   "cell_type": "code",
   "execution_count": 25,
   "id": "thousand-honolulu",
   "metadata": {},
   "outputs": [
    {
     "data": {
      "text/plain": [
       "f_RGS_diff (generic function with 1 method)"
      ]
     },
     "execution_count": 25,
     "metadata": {},
     "output_type": "execute_result"
    }
   ],
   "source": [
    "function f_RGS_diff(x::Vector)\n",
    "   return Rosenbrock_Generalized_Stochastic_2(x, ξ) \n",
    "end"
   ]
  },
  {
   "cell_type": "markdown",
   "id": "changing-software",
   "metadata": {},
   "source": [
    "### Verification gradient"
   ]
  },
  {
   "cell_type": "code",
   "execution_count": 38,
   "id": "million-secret",
   "metadata": {},
   "outputs": [
    {
     "name": "stdout",
     "output_type": "stream",
     "text": [
      "  0.188601 seconds (63.03 k allocations: 7.416 MiB)\n"
     ]
    },
    {
     "data": {
      "text/plain": [
       "50-element Array{Float64,1}:\n",
       "   -4.877696556300543\n",
       "  -88.25924058777053\n",
       "  -11.22563827304007\n",
       "  566.5588105116764\n",
       " -158.74532381637636\n",
       "   39.56157103631435\n",
       " 1725.7678574681186\n",
       " -331.7572011365253\n",
       " 1661.728787036221\n",
       " -605.6012689728025\n",
       "  -58.19020309640134\n",
       "  188.64128470612292\n",
       "  -29.556256638573245\n",
       "    ⋮\n",
       " -146.07850382677606\n",
       "  -80.724629564326\n",
       "   74.33662688553943\n",
       "   95.89320575689408\n",
       "  207.05517682511845\n",
       " -266.7820417078642\n",
       "  -73.38055479051046\n",
       "  166.06591421127555\n",
       "  111.59817501035286\n",
       "  -50.074005396423765\n",
       "   -8.93204790592544\n",
       "  262.32280083506276"
      ]
     },
     "execution_count": 38,
     "metadata": {},
     "output_type": "execute_result"
    }
   ],
   "source": [
    "@time direct_grad = Rosenbrock_Generalized_Stochastic_Grad_2(x, ξ)"
   ]
  },
  {
   "cell_type": "code",
   "execution_count": 39,
   "id": "diverse-visibility",
   "metadata": {},
   "outputs": [
    {
     "name": "stdout",
     "output_type": "stream",
     "text": [
      "  0.446969 seconds (107.76 k allocations: 26.289 MiB, 7.71% gc time)\n"
     ]
    },
    {
     "data": {
      "text/plain": [
       "50-element Array{Float64,1}:\n",
       "   -4.877696556300543\n",
       "  -88.25924058777022\n",
       "  -11.225638273040055\n",
       "  566.558810511674\n",
       " -158.7453238163759\n",
       "   39.561571036314525\n",
       " 1725.7678574681188\n",
       " -331.7572011365273\n",
       " 1661.728787036211\n",
       " -605.6012689728011\n",
       "  -58.190203096401284\n",
       "  188.64128470612218\n",
       "  -29.556256638573437\n",
       "    ⋮\n",
       " -146.07850382677663\n",
       "  -80.72462956432543\n",
       "   74.33662688553925\n",
       "   95.89320575689428\n",
       "  207.05517682511882\n",
       " -266.7820417078628\n",
       "  -73.38055479051026\n",
       "  166.0659142112745\n",
       "  111.59817501035366\n",
       "  -50.07400539642387\n",
       "   -8.932047905925357\n",
       "  262.32280083506276"
      ]
     },
     "execution_count": 39,
     "metadata": {},
     "output_type": "execute_result"
    }
   ],
   "source": [
    "@time forward_grad = ForwardDiff.gradient(f_RGS_diff, x)"
   ]
  },
  {
   "cell_type": "code",
   "execution_count": 40,
   "id": "floppy-reverse",
   "metadata": {},
   "outputs": [
    {
     "data": {
      "text/plain": [
       "1.3555460463878416e-11"
      ]
     },
     "execution_count": 40,
     "metadata": {},
     "output_type": "execute_result"
    }
   ],
   "source": [
    "norm(direct_grad - forward_grad)"
   ]
  },
  {
   "cell_type": "code",
   "execution_count": 41,
   "id": "sapphire-tennis",
   "metadata": {
    "collapsed": true
   },
   "outputs": [
    {
     "data": {
      "text/plain": [
       "50-element Array{Float64,1}:\n",
       "  0.0\n",
       " -3.126388037344441e-13\n",
       " -1.5987211554602254e-14\n",
       "  2.3874235921539366e-12\n",
       " -4.547473508864641e-13\n",
       " -1.7763568394002505e-13\n",
       " -2.2737367544323206e-13\n",
       "  2.0463630789890885e-12\n",
       "  1.000444171950221e-11\n",
       " -1.3642420526593924e-12\n",
       " -5.684341886080802e-14\n",
       "  7.389644451905042e-13\n",
       "  1.9184653865522705e-13\n",
       "  ⋮\n",
       "  5.684341886080801e-13\n",
       " -5.684341886080801e-13\n",
       "  1.8474111129762605e-13\n",
       " -1.9895196601282805e-13\n",
       " -3.694822225952521e-13\n",
       " -1.4210854715202004e-12\n",
       " -1.9895196601282805e-13\n",
       "  1.0516032489249483e-12\n",
       " -7.958078640513122e-13\n",
       "  1.0658141036401503e-13\n",
       " -8.348877145181177e-14\n",
       "  0.0"
      ]
     },
     "execution_count": 41,
     "metadata": {},
     "output_type": "execute_result"
    }
   ],
   "source": [
    "direct_grad - forward_grad"
   ]
  },
  {
   "cell_type": "markdown",
   "id": "macro-removal",
   "metadata": {},
   "source": [
    "### Verification Hessian"
   ]
  },
  {
   "cell_type": "code",
   "execution_count": 57,
   "id": "powered-pendant",
   "metadata": {},
   "outputs": [
    {
     "name": "stdout",
     "output_type": "stream",
     "text": [
      "  0.303943 seconds (86.82 k allocations: 8.615 MiB)\n"
     ]
    },
    {
     "data": {
      "text/plain": [
       "50×50 Array{Float64,2}:\n",
       " 49.7651   10.6504   0.0        0.0     …    0.0       0.0        0.0\n",
       " 10.6504  265.012   47.8706     0.0          0.0       0.0        0.0\n",
       "  0.0      47.8706  16.8997    33.3264       0.0       0.0        0.0\n",
       "  0.0       0.0     33.3264   739.388        0.0       0.0        0.0\n",
       "  0.0       0.0      0.0     -200.059        0.0       0.0        0.0\n",
       "  0.0       0.0      0.0        0.0     …    0.0       0.0        0.0\n",
       "  0.0       0.0      0.0        0.0          0.0       0.0        0.0\n",
       "  0.0       0.0      0.0        0.0          0.0       0.0        0.0\n",
       "  0.0       0.0      0.0        0.0          0.0       0.0        0.0\n",
       "  0.0       0.0      0.0        0.0          0.0       0.0        0.0\n",
       "  0.0       0.0      0.0        0.0     …    0.0       0.0        0.0\n",
       "  0.0       0.0      0.0        0.0          0.0       0.0        0.0\n",
       "  0.0       0.0      0.0        0.0          0.0       0.0        0.0\n",
       "  ⋮                                     ⋱                       \n",
       "  0.0       0.0      0.0        0.0          0.0       0.0        0.0\n",
       "  0.0       0.0      0.0        0.0          0.0       0.0        0.0\n",
       "  0.0       0.0      0.0        0.0     …    0.0       0.0        0.0\n",
       "  0.0       0.0      0.0        0.0          0.0       0.0        0.0\n",
       "  0.0       0.0      0.0        0.0          0.0       0.0        0.0\n",
       "  0.0       0.0      0.0        0.0          0.0       0.0        0.0\n",
       "  0.0       0.0      0.0        0.0          0.0       0.0        0.0\n",
       "  0.0       0.0      0.0        0.0     …    0.0       0.0        0.0\n",
       "  0.0       0.0      0.0        0.0        -93.8828    0.0        0.0\n",
       "  0.0       0.0      0.0        0.0        238.65      8.72586    0.0\n",
       "  0.0       0.0      0.0        0.0          8.72586  39.8467    37.9614\n",
       "  0.0       0.0      0.0        0.0          0.0      37.9614   200.0"
      ]
     },
     "execution_count": 57,
     "metadata": {},
     "output_type": "execute_result"
    }
   ],
   "source": [
    "@time hessian_direct = Rosenbrock_Generalized_Stochastic_Hessian_2(x, ξ)"
   ]
  },
  {
   "cell_type": "code",
   "execution_count": 58,
   "id": "virtual-horror",
   "metadata": {},
   "outputs": [
    {
     "name": "stdout",
     "output_type": "stream",
     "text": [
      "  7.906569 seconds (734.11 k allocations: 135.541 MiB, 0.74% gc time)\n"
     ]
    },
    {
     "data": {
      "text/plain": [
       "50×50 Array{Float64,2}:\n",
       " 49.7651   10.6504   0.0        0.0     …    0.0       0.0        0.0\n",
       " 10.6504  265.012   47.8706     0.0          0.0       0.0        0.0\n",
       "  0.0      47.8706  16.8997    33.3264       0.0       0.0        0.0\n",
       "  0.0       0.0     33.3264   739.388        0.0       0.0        0.0\n",
       "  0.0       0.0      0.0     -200.059        0.0       0.0        0.0\n",
       "  0.0       0.0      0.0        0.0     …    0.0       0.0        0.0\n",
       "  0.0       0.0      0.0        0.0          0.0       0.0        0.0\n",
       "  0.0       0.0      0.0        0.0          0.0       0.0        0.0\n",
       "  0.0       0.0      0.0        0.0          0.0       0.0        0.0\n",
       "  0.0       0.0      0.0        0.0          0.0       0.0        0.0\n",
       "  0.0       0.0      0.0        0.0     …    0.0       0.0        0.0\n",
       "  0.0       0.0      0.0        0.0          0.0       0.0        0.0\n",
       "  0.0       0.0      0.0        0.0          0.0       0.0        0.0\n",
       "  ⋮                                     ⋱                       \n",
       "  0.0       0.0      0.0        0.0          0.0       0.0        0.0\n",
       "  0.0       0.0      0.0        0.0          0.0       0.0        0.0\n",
       "  0.0       0.0      0.0        0.0     …    0.0       0.0        0.0\n",
       "  0.0       0.0      0.0        0.0          0.0       0.0        0.0\n",
       "  0.0       0.0      0.0        0.0          0.0       0.0        0.0\n",
       "  0.0       0.0      0.0        0.0          0.0       0.0        0.0\n",
       "  0.0       0.0      0.0        0.0          0.0       0.0        0.0\n",
       "  0.0       0.0      0.0        0.0     …    0.0       0.0        0.0\n",
       "  0.0       0.0      0.0        0.0        -93.8828    0.0        0.0\n",
       "  0.0       0.0      0.0        0.0        238.65      8.72586    0.0\n",
       "  0.0       0.0      0.0        0.0          8.72586  39.8467    37.9614\n",
       "  0.0       0.0      0.0        0.0          0.0      37.9614   200.0"
      ]
     },
     "execution_count": 58,
     "metadata": {},
     "output_type": "execute_result"
    }
   ],
   "source": [
    "@time hessian_diff = ForwardDiff.hessian(f_RGS_diff, x)"
   ]
  },
  {
   "cell_type": "code",
   "execution_count": 59,
   "id": "extended-bachelor",
   "metadata": {},
   "outputs": [
    {
     "data": {
      "text/plain": [
       "1.0318334360610195e-11"
      ]
     },
     "execution_count": 59,
     "metadata": {},
     "output_type": "execute_result"
    }
   ],
   "source": [
    "norm(hessian_direct - hessian_diff)"
   ]
  },
  {
   "cell_type": "code",
   "execution_count": 60,
   "id": "fiscal-leave",
   "metadata": {},
   "outputs": [
    {
     "data": {
      "text/plain": [
       "50×50 Array{Float64,2}:\n",
       " -1.42109e-14  -6.57252e-14  0.0          …   0.0          0.0\n",
       " -6.57252e-14   0.0          2.84217e-14      0.0          0.0\n",
       "  0.0           2.84217e-14  3.55271e-15      0.0          0.0\n",
       "  0.0           0.0          3.90799e-13      0.0          0.0\n",
       "  0.0           0.0          0.0              0.0          0.0\n",
       "  0.0           0.0          0.0          …   0.0          0.0\n",
       "  0.0           0.0          0.0              0.0          0.0\n",
       "  0.0           0.0          0.0              0.0          0.0\n",
       "  0.0           0.0          0.0              0.0          0.0\n",
       "  0.0           0.0          0.0              0.0          0.0\n",
       "  0.0           0.0          0.0          …   0.0          0.0\n",
       "  0.0           0.0          0.0              0.0          0.0\n",
       "  0.0           0.0          0.0              0.0          0.0\n",
       "  ⋮                                       ⋱                \n",
       "  0.0           0.0          0.0              0.0          0.0\n",
       "  0.0           0.0          0.0              0.0          0.0\n",
       "  0.0           0.0          0.0          …   0.0          0.0\n",
       "  0.0           0.0          0.0              0.0          0.0\n",
       "  0.0           0.0          0.0              0.0          0.0\n",
       "  0.0           0.0          0.0              0.0          0.0\n",
       "  0.0           0.0          0.0              0.0          0.0\n",
       "  0.0           0.0          0.0          …   0.0          0.0\n",
       "  0.0           0.0          0.0              0.0          0.0\n",
       "  0.0           0.0          0.0             -5.32907e-14  0.0\n",
       "  0.0           0.0          0.0             -3.55271e-14  9.9476e-14\n",
       "  0.0           0.0          0.0              9.9476e-14   0.0"
      ]
     },
     "execution_count": 60,
     "metadata": {},
     "output_type": "execute_result"
    }
   ],
   "source": [
    "hessian_direct - hessian_diff"
   ]
  },
  {
   "cell_type": "markdown",
   "id": "governing-canal",
   "metadata": {},
   "source": [
    "### Verification produit Hessian-vector"
   ]
  },
  {
   "cell_type": "code",
   "execution_count": 61,
   "id": "vulnerable-drove",
   "metadata": {},
   "outputs": [
    {
     "name": "stdout",
     "output_type": "stream",
     "text": [
      "  0.242317 seconds (72.42 k allocations: 7.829 MiB)\n"
     ]
    },
    {
     "data": {
      "text/plain": [
       "50-element Array{Float64,1}:\n",
       "   56.83700785375165\n",
       "  293.0967558054424\n",
       "   78.60247389413736\n",
       "  426.29219805836834\n",
       "  -40.29269200621028\n",
       "  -31.23144089643326\n",
       "  302.36882917791866\n",
       "   82.9038409521526\n",
       " 1194.210774235734\n",
       "  207.83370740463943\n",
       "  146.49375218817585\n",
       "  242.3179659304301\n",
       "  -87.17028904046796\n",
       "    ⋮\n",
       "   95.66421381884398\n",
       "   72.31177486534223\n",
       "   13.598533723680012\n",
       "   33.39000012757475\n",
       "  189.46479902080856\n",
       "  258.3689839988861\n",
       "  208.0682670592833\n",
       "  192.24722085471421\n",
       "  118.38338874764186\n",
       "  145.37001478320212\n",
       "   48.410903873957686\n",
       "  151.71577016444962"
      ]
     },
     "execution_count": 61,
     "metadata": {},
     "output_type": "execute_result"
    }
   ],
   "source": [
    "v = rand(p)\n",
    "\n",
    "@time prod_direct = Hessian_vector_product_RGS_2(x, ξ, v)"
   ]
  },
  {
   "cell_type": "code",
   "execution_count": 62,
   "id": "respected-consolidation",
   "metadata": {},
   "outputs": [
    {
     "data": {
      "text/plain": [
       "9.722996703527017e-12"
      ]
     },
     "execution_count": 62,
     "metadata": {},
     "output_type": "execute_result"
    }
   ],
   "source": [
    "norm(prod_direct - hessian_diff*v)"
   ]
  },
  {
   "cell_type": "code",
   "execution_count": null,
   "id": "continental-paintball",
   "metadata": {},
   "outputs": [],
   "source": []
  },
  {
   "cell_type": "code",
   "execution_count": null,
   "id": "mexican-kingston",
   "metadata": {},
   "outputs": [],
   "source": []
  }
 ],
 "metadata": {
  "kernelspec": {
   "display_name": "Julia 1.5.3",
   "language": "julia",
   "name": "julia-1.5"
  },
  "language_info": {
   "file_extension": ".jl",
   "mimetype": "application/julia",
   "name": "julia",
   "version": "1.5.3"
  }
 },
 "nbformat": 4,
 "nbformat_minor": 5
}
