{
 "cells": [
  {
   "cell_type": "code",
   "execution_count": null,
   "id": "white-lucas",
   "metadata": {},
   "outputs": [],
   "source": [
    "## Si premiere utilisation !!!!\n",
    "\n",
    "        # Mise a jour des packages\n",
    "\n",
    "include(\"miseAjourPackage.jl\")"
   ]
  },
  {
   "cell_type": "markdown",
   "id": "central-granny",
   "metadata": {},
   "source": [
    "# Initialisation"
   ]
  },
  {
   "cell_type": "code",
   "execution_count": 3,
   "id": "stylish-connection",
   "metadata": {},
   "outputs": [
    {
     "name": "stderr",
     "output_type": "stream",
     "text": [
      "┌ Info: Precompiling Plots [91a5bcdd-55d7-5caf-9e0b-520d859cae80]\n",
      "└ @ Base loading.jl:1278\n",
      "┌ Info: Precompiling Geraldine [c0fffcf4-b2fb-46e8-8a34-03ca56aefa66]\n",
      "└ @ Base loading.jl:1278\n",
      "┌ Warning: Package Geraldine does not have Distributions in its dependencies:\n",
      "│ - If you have Geraldine checked out for development and have\n",
      "│   added Distributions as a dependency but haven't updated your primary\n",
      "│   environment's manifest file, try `Pkg.resolve()`.\n",
      "│ - Otherwise you may need to report an issue with Geraldine\n",
      "└ Loading Distributions into Geraldine from project dependency, future warnings for Geraldine are suppressed.\n"
     ]
    }
   ],
   "source": [
    "# General initialisation\n",
    "include(\"Mnist\\\\initialisation.jl\")"
   ]
  },
  {
   "cell_type": "code",
   "execution_count": 4,
   "id": "dangerous-acrobat",
   "metadata": {},
   "outputs": [],
   "source": [
    "# initialisation des packages necessaires\n",
    "include(\"Mnist\\\\ConvNet\\\\initialisation.jl\")"
   ]
  },
  {
   "cell_type": "code",
   "execution_count": 5,
   "id": "olive-packaging",
   "metadata": {},
   "outputs": [
    {
     "name": "stderr",
     "output_type": "stream",
     "text": [
      "┌ Info: Precompiling PlotlyJS [f0f68f2c-4968-5e81-91da-67840de0976a]\n",
      "└ @ Base loading.jl:1278\n"
     ]
    },
    {
     "data": {
      "text/html": [
       "<script>\n",
       "// Immediately-invoked-function-expression to avoid global variables.\n",
       "(function() {\n",
       "    var warning_div = document.getElementById(\"webio-warning-8100403893860326898\");\n",
       "    var hide = function () {\n",
       "        var script = document.getElementById(\"webio-setup-8224072440832304588\");\n",
       "        var parent = script && script.parentElement;\n",
       "        var grandparent = parent && parent.parentElement;\n",
       "        if (grandparent) {\n",
       "            grandparent.style.display = \"none\";\n",
       "        }\n",
       "        warning_div.style.display = \"none\";\n",
       "    };\n",
       "    if (typeof Jupyter !== \"undefined\") {\n",
       "        console.log(\"WebIO detected Jupyter notebook environment.\");\n",
       "        // Jupyter notebook.\n",
       "        var extensions = (\n",
       "            Jupyter\n",
       "            && Jupyter.notebook.config.data\n",
       "            && Jupyter.notebook.config.data.load_extensions\n",
       "        );\n",
       "        if (extensions && extensions[\"webio-jupyter-notebook\"]) {\n",
       "            // Extension already loaded.\n",
       "            console.log(\"Jupyter WebIO nbextension detected; not loading ad-hoc.\");\n",
       "            hide();\n",
       "            return;\n",
       "        }\n",
       "    } else if (window.location.pathname.includes(\"/lab\")) {\n",
       "        // Guessing JupyterLa\n",
       "        console.log(\"Jupyter Lab detected; make sure the @webio/jupyter-lab-provider labextension is installed.\");\n",
       "        hide();\n",
       "        return;\n",
       "    }\n",
       "})();\n",
       "\n",
       "</script>\n",
       "<p\n",
       "    id=\"webio-warning-8100403893860326898\"\n",
       "    class=\"output_text output_stderr\"\n",
       "    style=\"padding: 1em; font-weight: bold;\"\n",
       ">\n",
       "    Unable to load WebIO. Please make sure WebIO works for your Jupyter client.\n",
       "    For troubleshooting, please see <a href=\"https://juliagizmos.github.io/WebIO.jl/latest/providers/ijulia/\">\n",
       "    the WebIO/IJulia documentation</a>.\n",
       "    <!-- TODO: link to installation docs. -->\n",
       "</p>\n"
      ],
      "text/plain": [
       "HTML{String}(\"<script>\\n// Immediately-invoked-function-expression to avoid global variables.\\n(function() {\\n    var warning_div = document.getElementById(\\\"webio-warning-8100403893860326898\\\");\\n    var hide = function () {\\n        var script = document.getElementById(\\\"webio-setup-8224072440832304588\\\");\\n        var parent = script && script.parentElement;\\n        var grandparent = parent && parent.parentElement;\\n        if (grandparent) {\\n            grandparent.style.display = \\\"none\\\";\\n        }\\n        warning_div.style.display = \\\"none\\\";\\n    };\\n    if (typeof Jupyter !== \\\"undefined\\\") {\\n        console.log(\\\"WebIO detected Jupyter notebook environment.\\\");\\n        // Jupyter notebook.\\n        var extensions = (\\n            Jupyter\\n            && Jupyter.notebook.config.data\\n            && Jupyter.notebook.config.data.load_extensions\\n        );\\n        if (extensions && extensions[\\\"webio-jupyter-notebook\\\"]) {\\n            // Extension already loaded.\\n            console.log(\\\"Jupyter WebIO nbextension detected; not loading ad-hoc.\\\");\\n            hide();\\n            return;\\n        }\\n    } else if (window.location.pathname.includes(\\\"/lab\\\")) {\\n        // Guessing JupyterLa\\n        console.log(\\\"Jupyter Lab detected; make sure the @webio/jupyter-lab-provider labextension is installed.\\\");\\n        hide();\\n        return;\\n    }\\n})();\\n\\n</script>\\n<p\\n    id=\\\"webio-warning-8100403893860326898\\\"\\n    class=\\\"output_text output_stderr\\\"\\n    style=\\\"padding: 1em; font-weight: bold;\\\"\\n>\\n    Unable to load WebIO. Please make sure WebIO works for your Jupyter client.\\n    For troubleshooting, please see <a href=\\\"https://juliagizmos.github.io/WebIO.jl/latest/providers/ijulia/\\\">\\n    the WebIO/IJulia documentation</a>.\\n    <!-- TODO: link to installation docs. -->\\n</p>\\n\")"
      ]
     },
     "metadata": {},
     "output_type": "display_data"
    },
    {
     "data": {
      "text/plain": [
       "Plots.PlotlyJSBackend()"
      ]
     },
     "execution_count": 5,
     "metadata": {},
     "output_type": "execute_result"
    }
   ],
   "source": [
    "#### Backend for plots\n",
    "\n",
    "# gr()\n",
    "plotlyjs()"
   ]
  },
  {
   "cell_type": "markdown",
   "id": "italic-certificate",
   "metadata": {},
   "source": [
    "# Sauvegarde des tests"
   ]
  },
  {
   "cell_type": "code",
   "execution_count": 6,
   "id": "meaning-costume",
   "metadata": {},
   "outputs": [
    {
     "data": {
      "text/plain": [
       "Any[]"
      ]
     },
     "execution_count": 6,
     "metadata": {},
     "output_type": "execute_result"
    }
   ],
   "source": [
    "everyTests = []"
   ]
  },
  {
   "cell_type": "code",
   "execution_count": 7,
   "id": "piano-import",
   "metadata": {},
   "outputs": [
    {
     "data": {
      "text/plain": [
       "89"
      ]
     },
     "execution_count": 7,
     "metadata": {},
     "output_type": "execute_result"
    }
   ],
   "source": [
    "# fonctions sauvegarde \n",
    "include(\"saveConfig.jl\")\n",
    "\n",
    "testConfig = \"testConfiguration.json\"\n",
    "io = open(testConfig, \"w\")\n",
    "\n",
    "write(io, \"\\n#################### Test MNIST : Convolutional Network ############################## \\n\")"
   ]
  },
  {
   "cell_type": "code",
   "execution_count": 8,
   "id": "complicated-debut",
   "metadata": {},
   "outputs": [
    {
     "data": {
      "text/plain": [
       "full_setting_layer (generic function with 2 methods)"
      ]
     },
     "execution_count": 8,
     "metadata": {},
     "output_type": "execute_result"
    }
   ],
   "source": [
    "# fonction sauvegarde choix modele\n",
    "\n",
    "function full_setting_model(chain::AbstractChain)\n",
    "    setting = \"\\n## Model ##\\n\"\n",
    "    setting = string(setting, \" + Number of parameters: $(chain.size_model)\\n\")\n",
    "    setting = string(setting, \" + Layers: \\n\")\n",
    "    num = 1\n",
    "    for layer in chain.layers\n",
    "        setting = string(setting, \"   --> layer $(num): \",  full_setting_layer(layer))\n",
    "        num += 1\n",
    "    end\n",
    "    return setting\n",
    "end\n",
    "\n",
    "# Definir pour Dense\n",
    "function full_setting_layer(layer::Dense)\n",
    "    o, i = size(layer.w)\n",
    "   return \"input=$(i) / output=$(o) / activation=$(layer.f) / p dropout=$(layer.p)\\n\" \n",
    "end\n",
    "\n",
    "\n",
    "# Definit pour Conv\n",
    "function full_setting_layer(layer::Conv)\n",
    "    w1,w2,cx,cy = size(layer.w)\n",
    "   return \"Convolution : Kernel size=($(w1), $(w2)) / channel in=$(cx) / channel out=$(cy) / activation=$(layer.f) / p dropout=$(layer.p)\\n\" \n",
    "end"
   ]
  },
  {
   "cell_type": "code",
   "execution_count": 9,
   "id": "digital-minneapolis",
   "metadata": {},
   "outputs": [
    {
     "name": "stdout",
     "output_type": "stream",
     "text": [
      "\n",
      "## Model ##\n",
      " + Number of parameters: 431080\n",
      " + Layers: \n",
      "   --> layer 1: Convolution : Kernel size=(5, 5) / channel in=1 / channel out=20 / activation=relu / p dropout=0\n",
      "   --> layer 2: Convolution : Kernel size=(5, 5) / channel in=20 / channel out=50 / activation=relu / p dropout=0\n",
      "   --> layer 3: input=800 / output=500 / activation=relu / p dropout=0.0\n",
      "   --> layer 4: input=500 / output=10 / activation=identity / p dropout=0.0\n",
      "\n"
     ]
    },
    {
     "data": {
      "text/plain": [
       "433"
      ]
     },
     "execution_count": 9,
     "metadata": {},
     "output_type": "execute_result"
    }
   ],
   "source": [
    "# Choix du modele \n",
    "TYPE = Float32\n",
    "\n",
    "##################### definition du modele #################\n",
    "\n",
    "lenet = ChainConvNet{TYPE}(Conv(5,5,1,20), \n",
    "                Conv(5,5,20,50), \n",
    "                Dense(800,500,pdrop=0.0), \n",
    "                Dense(500,10,identity,pdrop=0.0))\n",
    "\n",
    "myModel = lenet\n",
    "\n",
    "#### sauvegarde ####\n",
    "setting = full_setting_model(myModel)\n",
    "println(setting)\n",
    "write(io, setting)"
   ]
  },
  {
   "cell_type": "code",
   "execution_count": 10,
   "id": "australian-archives",
   "metadata": {},
   "outputs": [
    {
     "data": {
      "text/plain": [
       "MnistModel{Float32,Int64}(ChainConvNet{Float32}((Conv(P(Array{Float32,4}(5,5,1,20)), P(Array{Float32,4}(1,1,20,1)), Knet.Ops20.relu, 0), Conv(P(Array{Float32,4}(5,5,20,50)), P(Array{Float32,4}(1,1,50,1)), Knet.Ops20.relu, 0), Dense(P(Array{Float32,2}(500,800)), P(Array{Float32,1}(500)), Knet.Ops20.relu, 0.0), Dense(P(Array{Float32,2}(10,500)), P(Array{Float32,1}(10)), identity, 0.0)), 431080), Float32[30.655552, -5.260811, 5.871856, 16.38637, -3.7620187, 19.70895, 4.8726926, -11.182716, -12.276482, 47.704514  …  25.808619, 29.214209, -11.633879, 10.705528, -19.373869, 2.7787569, 29.234934, -2.4053447, 34.786324, 9.157973], MnistDataConvNet{Float32,Int64}(Float32[0.0 0.0 … 0.0 0.0; 0.0 0.0 … 0.0 0.0; … ; 0.0 0.0 … 0.0 0.0; 0.0 0.0 … 0.0 0.0]\n",
       "\n",
       "Float32[0.0 0.0 … 0.0 0.0; 0.0 0.0 … 0.0 0.0; … ; 0.0 0.0 … 0.0 0.0; 0.0 0.0 … 0.0 0.0]\n",
       "\n",
       "Float32[0.0 0.0 … 0.0 0.0; 0.0 0.0 … 0.0 0.0; … ; 0.0 0.0 … 0.0 0.0; 0.0 0.0 … 0.0 0.0]\n",
       "\n",
       "...\n",
       "\n",
       "Float32[0.0 0.0 … 0.0 0.0; 0.0 0.0 … 0.0 0.0; … ; 0.0 0.0 … 0.0 0.0; 0.0 0.0 … 0.0 0.0]\n",
       "\n",
       "Float32[0.0 0.0 … 0.0 0.0; 0.0 0.0 … 0.0 0.0; … ; 0.0 0.0 … 0.0 0.0; 0.0 0.0 … 0.0 0.0]\n",
       "\n",
       "Float32[0.0 0.0 … 0.0 0.0; 0.0 0.0 … 0.0 0.0; … ; 0.0 0.0 … 0.0 0.0; 0.0 0.0 … 0.0 0.0], [5, 10, 4, 1, 9, 2, 1, 3, 1, 4  …  9, 2, 9, 5, 1, 8, 3, 5, 6, 8], 1), MnistDataConvNet{Float32,Int64}(Float32[0.0 0.0 … 0.0 0.0; 0.0 0.0 … 0.0 0.0; … ; 0.0 0.0 … 0.0 0.0; 0.0 0.0 … 0.0 0.0]\n",
       "\n",
       "Float32[0.0 0.0 … 0.0 0.0; 0.0 0.0 … 0.0 0.0; … ; 0.0 0.0 … 0.0 0.0; 0.0 0.0 … 0.0 0.0]\n",
       "\n",
       "Float32[0.0 0.0 … 0.0 0.0; 0.0 0.0 … 0.0 0.0; … ; 0.0 0.0 … 0.0 0.0; 0.0 0.0 … 0.0 0.0]\n",
       "\n",
       "...\n",
       "\n",
       "Float32[0.0 0.0 … 0.0 0.0; 0.0 0.0 … 0.0 0.0; … ; 0.0 0.0 … 0.0 0.0; 0.0 0.0 … 0.0 0.0]\n",
       "\n",
       "Float32[0.0 0.0 … 0.0 0.0; 0.0 0.0 … 0.0 0.0; … ; 0.0 0.0 … 0.0 0.0; 0.0 0.0 … 0.0 0.0]\n",
       "\n",
       "Float32[0.0 0.0 … 0.0 0.0; 0.0 0.0 … 0.0 0.0; … ; 0.0 0.0 … 0.0 0.0; 0.0 0.0 … 0.0 0.0], [7, 2, 1, 10, 4, 1, 4, 9, 5, 9  …  7, 8, 9, 10, 1, 2, 3, 4, 5, 6], 1), Geraldine.Unconstraint())"
      ]
     },
     "execution_count": 10,
     "metadata": {},
     "output_type": "execute_result"
    }
   ],
   "source": [
    "############# initialisation ##############\n",
    "dist = Normal(5,20)\n",
    "\n",
    "random = true\n",
    "\n",
    "write(io , \"\\n### Initilisation ### \\n\")\n",
    "\n",
    "x0 = create_vector(myModel)\n",
    "\n",
    "if random\n",
    "    # ---- Random ----\n",
    "    write(io, \" -- Random : $(dist)\\n\")\n",
    "    rand!(dist, x0)\n",
    "else\n",
    "   write(io, \" -- Xavier uniform \\n\") \n",
    "end\n",
    "\n",
    "####### definition du modele #######\n",
    "mnistModel = MnistModel(myModel, x0 , dtrn, dtst)"
   ]
  },
  {
   "cell_type": "code",
   "execution_count": 11,
   "id": "falling-facing",
   "metadata": {},
   "outputs": [
    {
     "data": {
      "text/plain": [
       "MnistModel{Float32,Int64}(ChainConvNet{Float32}((Conv(P(Array{Float32,4}(5,5,1,20)), P(Array{Float32,4}(1,1,20,1)), Knet.Ops20.relu, 0), Conv(P(Array{Float32,4}(5,5,20,50)), P(Array{Float32,4}(1,1,50,1)), Knet.Ops20.relu, 0), Dense(P(Array{Float32,2}(500,800)), P(Array{Float32,1}(500)), Knet.Ops20.relu, 0.0), Dense(P(Array{Float32,2}(10,500)), P(Array{Float32,1}(10)), identity, 0.0)), 431080), Float32[-0.03635306, 0.09094982, 0.08435713, 0.04054659, 0.0073653427, 0.08203726, -0.052864205, 0.013562592, -0.074207224, -0.08218959  …  0.0, 0.0, 0.0, 0.0, 0.0, 0.0, 0.0, 0.0, 0.0, 0.0], MnistDataConvNet{Float32,Int64}(Float32[0.0 0.0 … 0.0 0.0; 0.0 0.0 … 0.0 0.0; … ; 0.0 0.0 … 0.0 0.0; 0.0 0.0 … 0.0 0.0]\n",
       "\n",
       "Float32[0.0 0.0 … 0.0 0.0; 0.0 0.0 … 0.0 0.0; … ; 0.0 0.0 … 0.0 0.0; 0.0 0.0 … 0.0 0.0]\n",
       "\n",
       "Float32[0.0 0.0 … 0.0 0.0; 0.0 0.0 … 0.0 0.0; … ; 0.0 0.0 … 0.0 0.0; 0.0 0.0 … 0.0 0.0]\n",
       "\n",
       "...\n",
       "\n",
       "Float32[0.0 0.0 … 0.0 0.0; 0.0 0.0 … 0.0 0.0; … ; 0.0 0.0 … 0.0 0.0; 0.0 0.0 … 0.0 0.0]\n",
       "\n",
       "Float32[0.0 0.0 … 0.0 0.0; 0.0 0.0 … 0.0 0.0; … ; 0.0 0.0 … 0.0 0.0; 0.0 0.0 … 0.0 0.0]\n",
       "\n",
       "Float32[0.0 0.0 … 0.0 0.0; 0.0 0.0 … 0.0 0.0; … ; 0.0 0.0 … 0.0 0.0; 0.0 0.0 … 0.0 0.0], [5, 10, 4, 1, 9, 2, 1, 3, 1, 4  …  9, 2, 9, 5, 1, 8, 3, 5, 6, 8], 1), MnistDataConvNet{Float32,Int64}(Float32[0.0 0.0 … 0.0 0.0; 0.0 0.0 … 0.0 0.0; … ; 0.0 0.0 … 0.0 0.0; 0.0 0.0 … 0.0 0.0]\n",
       "\n",
       "Float32[0.0 0.0 … 0.0 0.0; 0.0 0.0 … 0.0 0.0; … ; 0.0 0.0 … 0.0 0.0; 0.0 0.0 … 0.0 0.0]\n",
       "\n",
       "Float32[0.0 0.0 … 0.0 0.0; 0.0 0.0 … 0.0 0.0; … ; 0.0 0.0 … 0.0 0.0; 0.0 0.0 … 0.0 0.0]\n",
       "\n",
       "...\n",
       "\n",
       "Float32[0.0 0.0 … 0.0 0.0; 0.0 0.0 … 0.0 0.0; … ; 0.0 0.0 … 0.0 0.0; 0.0 0.0 … 0.0 0.0]\n",
       "\n",
       "Float32[0.0 0.0 … 0.0 0.0; 0.0 0.0 … 0.0 0.0; … ; 0.0 0.0 … 0.0 0.0; 0.0 0.0 … 0.0 0.0]\n",
       "\n",
       "Float32[0.0 0.0 … 0.0 0.0; 0.0 0.0 … 0.0 0.0; … ; 0.0 0.0 … 0.0 0.0; 0.0 0.0 … 0.0 0.0], [7, 2, 1, 10, 4, 1, 4, 9, 5, 9  …  7, 8, 9, 10, 1, 2, 3, 4, 5, 6], 1), Geraldine.Unconstraint())"
      ]
     },
     "execution_count": 11,
     "metadata": {},
     "output_type": "execute_result"
    }
   ],
   "source": [
    "mnistModel = MnistModel(lenet, create_vector(lenet), dtrn, dtst)"
   ]
  },
  {
   "cell_type": "code",
   "execution_count": 12,
   "id": "convenient-transport",
   "metadata": {},
   "outputs": [
    {
     "data": {
      "text/plain": [
       "lancementAllTests (generic function with 1 method)"
      ]
     },
     "execution_count": 12,
     "metadata": {},
     "output_type": "execute_result"
    }
   ],
   "source": [
    "\n",
    "function lancementTest(test::SecondOrderTest, allTests::AllTests)\n",
    "      \n",
    "    _, acc =  test.algo(allTests.model, allTests.x0, test.sam ; b = test.b, \n",
    "                        verbose = test.verbose, accumulator = test.accumulator)\n",
    "\n",
    "    data = (getData(acc))\n",
    "\n",
    "    if (typeof(test.sam) <: Union{Geraldine.AbstractRandomDynamicTrueVar, Geraldine.AbstractTrueVarSAA})\n",
    "        append!(allTests.all_dataVariance, [data])\n",
    "        \n",
    "        # Accuracy arrays\n",
    "        acc_test = computeAccTest(allTests.model, data)\n",
    "        append!(allTests.all_accuracy_testVariance, [acc_test])\n",
    "    else\n",
    "        append!(allTests.all_dataNormal, [data])\n",
    "        \n",
    "        # Accuracy arrays\n",
    "        acc_test = computeAccTest(allTests.model, data)\n",
    "        append!(allTests.all_accuracy_testNormal, [acc_test])\n",
    "    end\n",
    "     \n",
    "end\n",
    "\n",
    "function lancementTest(test::FirstOrderTest, allTests::AllTests)\n",
    "  \n",
    "    _, acc = test.algo(allTests.model, test.state ; \n",
    "                        verbose = test.verbose, accumulator = test.accumulator, sp = test.sp)\n",
    "\n",
    "\n",
    "    data = (getData(acc))\n",
    "\n",
    "    append!(allTests.all_dataNormal, [data])\n",
    "    \n",
    "    # Accuracy arrays\n",
    "    acc_test = computeAccTest(allTests.model, data)\n",
    "    append!(allTests.all_accuracy_testNormal, [acc_test])\n",
    "end\n",
    "\n",
    "function lancementAllTests(tests::Array{Test, 1}, allTests::AllTests)\n",
    "    for test in tests\n",
    "       lancementTest(test, allTests) \n",
    "    end\n",
    "end\n"
   ]
  },
  {
   "cell_type": "code",
   "execution_count": 13,
   "id": "stuck-lyric",
   "metadata": {},
   "outputs": [
    {
     "data": {
      "text/plain": [
       "AllTests{Float32}(MnistModel{Float32,Int64}(ChainConvNet{Float32}((Conv(P(Array{Float32,4}(5,5,1,20)), P(Array{Float32,4}(1,1,20,1)), Knet.Ops20.relu, 0), Conv(P(Array{Float32,4}(5,5,20,50)), P(Array{Float32,4}(1,1,50,1)), Knet.Ops20.relu, 0), Dense(P(Array{Float32,2}(500,800)), P(Array{Float32,1}(500)), Knet.Ops20.relu, 0.0), Dense(P(Array{Float32,2}(10,500)), P(Array{Float32,1}(10)), identity, 0.0)), 431080), Float32[-0.03635306, 0.09094982, 0.08435713, 0.04054659, 0.0073653427, 0.08203726, -0.052864205, 0.013562592, -0.074207224, -0.08218959  …  0.0, 0.0, 0.0, 0.0, 0.0, 0.0, 0.0, 0.0, 0.0, 0.0], MnistDataConvNet{Float32,Int64}(Float32[0.0 0.0 … 0.0 0.0; 0.0 0.0 … 0.0 0.0; … ; 0.0 0.0 … 0.0 0.0; 0.0 0.0 … 0.0 0.0]\n",
       "\n",
       "Float32[0.0 0.0 … 0.0 0.0; 0.0 0.0 … 0.0 0.0; … ; 0.0 0.0 … 0.0 0.0; 0.0 0.0 … 0.0 0.0]\n",
       "\n",
       "Float32[0.0 0.0 … 0.0 0.0; 0.0 0.0 … 0.0 0.0; … ; 0.0 0.0 … 0.0 0.0; 0.0 0.0 … 0.0 0.0]\n",
       "\n",
       "...\n",
       "\n",
       "Float32[0.0 0.0 … 0.0 0.0; 0.0 0.0 … 0.0 0.0; … ; 0.0 0.0 … 0.0 0.0; 0.0 0.0 … 0.0 0.0]\n",
       "\n",
       "Float32[0.0 0.0 … 0.0 0.0; 0.0 0.0 … 0.0 0.0; … ; 0.0 0.0 … 0.0 0.0; 0.0 0.0 … 0.0 0.0]\n",
       "\n",
       "Float32[0.0 0.0 … 0.0 0.0; 0.0 0.0 … 0.0 0.0; … ; 0.0 0.0 … 0.0 0.0; 0.0 0.0 … 0.0 0.0], [5, 10, 4, 1, 9, 2, 1, 3, 1, 4  …  9, 2, 9, 5, 1, 8, 3, 5, 6, 8], 1), MnistDataConvNet{Float32,Int64}(Float32[0.0 0.0 … 0.0 0.0; 0.0 0.0 … 0.0 0.0; … ; 0.0 0.0 … 0.0 0.0; 0.0 0.0 … 0.0 0.0]\n",
       "\n",
       "Float32[0.0 0.0 … 0.0 0.0; 0.0 0.0 … 0.0 0.0; … ; 0.0 0.0 … 0.0 0.0; 0.0 0.0 … 0.0 0.0]\n",
       "\n",
       "Float32[0.0 0.0 … 0.0 0.0; 0.0 0.0 … 0.0 0.0; … ; 0.0 0.0 … 0.0 0.0; 0.0 0.0 … 0.0 0.0]\n",
       "\n",
       "...\n",
       "\n",
       "Float32[0.0 0.0 … 0.0 0.0; 0.0 0.0 … 0.0 0.0; … ; 0.0 0.0 … 0.0 0.0; 0.0 0.0 … 0.0 0.0]\n",
       "\n",
       "Float32[0.0 0.0 … 0.0 0.0; 0.0 0.0 … 0.0 0.0; … ; 0.0 0.0 … 0.0 0.0; 0.0 0.0 … 0.0 0.0]\n",
       "\n",
       "Float32[0.0 0.0 … 0.0 0.0; 0.0 0.0 … 0.0 0.0; … ; 0.0 0.0 … 0.0 0.0; 0.0 0.0 … 0.0 0.0], [7, 2, 1, 10, 4, 1, 4, 9, 5, 9  …  7, 8, 9, 10, 1, 2, 3, 4, 5, 6], 1), Geraldine.Unconstraint()), Float32[-0.03635306, 0.09094982, 0.08435713, 0.04054659, 0.0073653427, 0.08203726, -0.052864205, 0.013562592, -0.074207224, -0.08218959  …  0.0, 0.0, 0.0, 0.0, 0.0, 0.0, 0.0, 0.0, 0.0, 0.0], 0, Test[], Any[], Any[], Any[], Any[], Any[], Test[], Any[], Any[], Any[], Any[], Any[])"
      ]
     },
     "execution_count": 13,
     "metadata": {},
     "output_type": "execute_result"
    }
   ],
   "source": [
    " alltests = AllTests(mnistModel, mnistModel.x0)"
   ]
  },
  {
   "cell_type": "markdown",
   "id": "figured-charter",
   "metadata": {},
   "source": [
    "# BTR"
   ]
  },
  {
   "cell_type": "code",
   "execution_count": 14,
   "id": "sustained-faith",
   "metadata": {},
   "outputs": [
    {
     "data": {
      "text/plain": [
       "Geraldine.BasicTrustRegionWithCoeff{Float64}(0.01, 0.8, 0.5, 0.9, 1.5)"
      ]
     },
     "execution_count": 14,
     "metadata": {},
     "output_type": "execute_result"
    }
   ],
   "source": [
    "#####################################################################################\n",
    "# Optimisation\n",
    "verbose = false\n",
    "\n",
    "IterMax = 1000\n",
    "TMax = 7200.0 # 15 minutes\n",
    "epsilonOptimisation = 10^(-6)\n",
    "\n",
    "# Sampling init\n",
    "N0 = 100\n",
    "NMin = 50\n",
    "increment = 2;\n",
    "\n",
    "# subSampling\n",
    "coeff_bhhh = 0.1\n",
    "maxBhhh = 1000\n",
    "subSampling = ConstantCoeffSubSampling(maxBhhh, coeff_bhhh)\n",
    "\n",
    "#btrCoeffs = Geraldine.BTRDefaults() # avec 4*‖s‖\n",
    "btrCoeffs = Geraldine.BTRDefaultsCoeff() # avec expension de γ_3 pour iteration tres reussie"
   ]
  },
  {
   "cell_type": "markdown",
   "id": "delayed-onion",
   "metadata": {},
   "source": [
    "## True Variance"
   ]
  },
  {
   "cell_type": "code",
   "execution_count": 15,
   "id": "introductory-blocking",
   "metadata": {},
   "outputs": [
    {
     "data": {
      "text/plain": [
       "RandomSamplingDynamicTrueVariance(100, 50, 50, 100, 60000, #undef, true, Geraldine.NaiveSmoothing(0.75, 2.0), ConstantCoeffSubSampling(1000, 0.1), 2, 0.05, 1.6448536269514717)"
      ]
     },
     "execution_count": 15,
     "metadata": {},
     "output_type": "execute_result"
    }
   ],
   "source": [
    "# Test 1 : BHHH\n",
    "\n",
    "# Hessian \n",
    "Hessian = Geraldine.BHHHScores{TYPE}\n",
    "\n",
    "# smoothing = Geraldine.NoSmoothing()\n",
    "# smoothing = Geraldine.CumulativeDecreaseSmoothing{Float64}(; maxIter=3)\n",
    "smoothing = Geraldine.NaiveSmoothing()\n",
    "\n",
    "commonVar = true\n",
    "sam = RandomSamplingDynamicTrueVariance(NMin = NMin, NMax = Nobs(mnistModel), N0=N0, increment=increment, \n",
    "                                                    commonVar = commonVar,\n",
    "                                                    smoothing=smoothing, \n",
    "                                                    subSampling=subSampling)\n",
    "\n",
    "mybtr = BTRStruct(;sam = typeof(sam), Hessian = Hessian, eps = epsilonOptimisation, Nmax = IterMax, TMax = TMax);\n",
    "        \n",
    "test = SecondOrderTest(mybtr, sam, btrCoeffs; verbose = verbose);\n",
    "\n",
    "addTest(test, alltests)\n",
    "\n",
    "sam"
   ]
  },
  {
   "cell_type": "code",
   "execution_count": 16,
   "id": "prospective-pattern",
   "metadata": {},
   "outputs": [
    {
     "data": {
      "text/plain": [
       "RandomSamplingDynamicTrueVariance(100, 50, 50, 100, 60000, #undef, true, Geraldine.NaiveSmoothing(0.75, 2.0), ConstantCoeffSubSampling(1000, 0.1), 2, 0.05, 1.6448536269514717)"
      ]
     },
     "execution_count": 16,
     "metadata": {},
     "output_type": "execute_result"
    }
   ],
   "source": [
    "# Test 2: DiagBHHH\n",
    "\n",
    "# Hessian \n",
    "Hessian = Geraldine.DiagBHHHApprox{TYPE}\n",
    "\n",
    "# smoothing = Geraldine.NoSmoothing()\n",
    "# smoothing = Geraldine.CumulativeDecreaseSmoothing{Float64}(; maxIter=3)\n",
    "smoothing = Geraldine.NaiveSmoothing()\n",
    "\n",
    "commonVar = true\n",
    "sam = RandomSamplingDynamicTrueVariance(NMin = NMin, NMax = Nobs(mnistModel), N0=N0, increment=increment, \n",
    "                                                    commonVar = commonVar,\n",
    "                                                    smoothing=smoothing, \n",
    "                                                    subSampling=subSampling)\n",
    "\n",
    "mybtr = BTRStruct(;sam = typeof(sam), Hessian = Hessian, eps = epsilonOptimisation, Nmax = IterMax, TMax = TMax);\n",
    "        \n",
    "test = SecondOrderTest(mybtr, sam, btrCoeffs; verbose = verbose);\n",
    "\n",
    "addTest(test, alltests)\n",
    "\n",
    "\n",
    "sam"
   ]
  },
  {
   "cell_type": "code",
   "execution_count": 17,
   "id": "overall-monitor",
   "metadata": {},
   "outputs": [
    {
     "data": {
      "text/plain": [
       "RandomSamplingDynamicTrueVariance(100, 50, 50, 100, 60000, #undef, true, Geraldine.NaiveSmoothing(0.75, 2.0), ConstantCoeffSubSampling(1000, 0.1), 2, 0.05, 1.6448536269514717)"
      ]
     },
     "execution_count": 17,
     "metadata": {},
     "output_type": "execute_result"
    }
   ],
   "source": [
    "# Test 3\n",
    "\n",
    "# Hessian \n",
    "Hessian = Geraldine.IdentityApprox{TYPE}\n",
    "\n",
    "# smoothing = Geraldine.NoSmoothing()\n",
    "# smoothing = Geraldine.CumulativeDecreaseSmoothing{Float64}(; maxIter=3)\n",
    "smoothing = Geraldine.NaiveSmoothing()\n",
    "\n",
    "commonVar = true\n",
    "sam = RandomSamplingDynamicTrueVariance(NMin = NMin, NMax = Nobs(mnistModel), N0=N0, increment=increment, \n",
    "                                                    commonVar = commonVar,\n",
    "                                                    smoothing=smoothing, \n",
    "                                                    subSampling=subSampling)\n",
    "\n",
    "mybtr = BTRStruct(;sam = typeof(sam), Hessian = Hessian, eps = epsilonOptimisation, Nmax = IterMax, TMax = TMax);\n",
    "        \n",
    "test = SecondOrderTest(mybtr, sam, btrCoeffs; verbose = verbose);\n",
    "\n",
    "addTest(test, alltests)\n",
    "\n",
    "sam"
   ]
  },
  {
   "cell_type": "code",
   "execution_count": 18,
   "id": "clinical-scholar",
   "metadata": {},
   "outputs": [
    {
     "data": {
      "text/plain": [
       "RandomSamplingDynamicTrueVariance(100, 50, 50, 100, 60000, #undef, true, Geraldine.NaiveSmoothing(0.75, 2.0), ConstantCoeffSubSampling(1000, 0.1), 2, 0.05, 1.6448536269514717)"
      ]
     },
     "execution_count": 18,
     "metadata": {},
     "output_type": "execute_result"
    }
   ],
   "source": [
    "# Test 4\n",
    "\n",
    "# Hessian \n",
    "Hessian = Geraldine.DiagAdamApprox{TYPE}\n",
    "\n",
    "# smoothing = Geraldine.NoSmoothing()\n",
    "# smoothing = Geraldine.CumulativeDecreaseSmoothing{Float64}(; maxIter=3)\n",
    "smoothing = Geraldine.NaiveSmoothing()\n",
    "\n",
    "commonVar = true\n",
    "sam = RandomSamplingDynamicTrueVariance(NMin = NMin, NMax = Nobs(mnistModel), N0=N0, increment=increment, \n",
    "                                                    commonVar = commonVar,\n",
    "                                                    smoothing=smoothing, \n",
    "                                                    subSampling=subSampling)\n",
    "\n",
    "mybtr = BTRStruct(;sam = typeof(sam), Hessian = Hessian, eps = epsilonOptimisation, Nmax = IterMax, TMax = TMax);\n",
    "        \n",
    "test = SecondOrderTest(mybtr, sam, btrCoeffs; verbose = verbose);\n",
    "\n",
    "addTest(test, alltests)\n",
    "\n",
    "\n",
    "sam"
   ]
  },
  {
   "cell_type": "markdown",
   "id": "molecular-treaty",
   "metadata": {},
   "source": [
    "## With sHs"
   ]
  },
  {
   "cell_type": "code",
   "execution_count": 19,
   "id": "bored-jewelry",
   "metadata": {},
   "outputs": [
    {
     "data": {
      "text/plain": [
       "RandomSamplingDynamic(100, 50, 50, 100, 60000, #undef, true, Geraldine.NaiveSmoothing(0.75, 2.0), ConstantCoeffSubSampling(1000, 0.1), 2, 0.05, 1.6448536269514717)"
      ]
     },
     "execution_count": 19,
     "metadata": {},
     "output_type": "execute_result"
    }
   ],
   "source": [
    "# Test 1\n",
    "\n",
    "# Hessian \n",
    "Hessian = Geraldine.BHHHScores{TYPE}\n",
    "\n",
    "# smoothing = Geraldine.NoSmoothing()\n",
    "# smoothing = Geraldine.CumulativeDecreaseSmoothing{Float64}(; maxIter=3)\n",
    "smoothing = Geraldine.NaiveSmoothing()\n",
    "\n",
    "commonVar = true\n",
    "sam = RandomSamplingDynamic(NMin = NMin, NMax = Nobs(mnistModel), N0=N0, increment=increment, \n",
    "                                                    commonVar = commonVar,\n",
    "                                                    smoothing=smoothing, \n",
    "                                                    subSampling=subSampling)\n",
    "\n",
    "mybtr = BTRStruct(;sam = typeof(sam), Hessian = Hessian, eps = epsilonOptimisation, Nmax = IterMax, TMax = TMax);\n",
    "        \n",
    "test = SecondOrderTest(mybtr, sam, btrCoeffs; verbose = verbose);\n",
    "\n",
    "addTest(test, alltests)\n",
    "\n",
    "sam"
   ]
  },
  {
   "cell_type": "markdown",
   "id": "identical-camcorder",
   "metadata": {},
   "source": [
    "# First-Order"
   ]
  },
  {
   "cell_type": "code",
   "execution_count": 20,
   "id": "considered-surgery",
   "metadata": {},
   "outputs": [
    {
     "data": {
      "text/plain": [
       "RandomSampling(100, 60000, #undef)"
      ]
     },
     "execution_count": 20,
     "metadata": {},
     "output_type": "execute_result"
    }
   ],
   "source": [
    "##################################################\n",
    "verbose = false\n",
    "\n",
    "IterMax = 1000\n",
    "TMax = 300.0\n",
    "\n",
    "sizeBatch = 100\n",
    "\n",
    "epsOptimisation = 10^(-6)\n",
    "\n",
    "sp = Geraldine.StopParam(;NMax = IterMax, TMax = TMax, tol = epsOptimisation);\n",
    "\n",
    "sam = RandomSampling(;N = sizeBatch, NMax=Nobs(mnistModel))"
   ]
  },
  {
   "cell_type": "code",
   "execution_count": 21,
   "id": "fluid-musician",
   "metadata": {},
   "outputs": [],
   "source": [
    "# Test Adam 1\n",
    "\n",
    "state = AdamState(mnistModel.x0, sam)\n",
    "\n",
    "α_adam = 0.01\n",
    "β_1 = 0.9\n",
    "β_2 = 0.999\n",
    "\n",
    "algo = AdamConstStep(α_adam, β_1, β_2)\n",
    "\n",
    "# Creation test\n",
    "test = FirstOrderTest(state, sam, algo, sp; verbose = verbose);\n",
    "\n",
    "# Enregistrement test\n",
    "addTest(test, alltests);"
   ]
  },
  {
   "cell_type": "code",
   "execution_count": 22,
   "id": "outstanding-catalyst",
   "metadata": {},
   "outputs": [],
   "source": [
    "# Test Adam 2\n",
    "\n",
    "state = AdamState(mnistModel.x0, sam)\n",
    "\n",
    "α_adam = 0.0001\n",
    "β_1 = 0.9\n",
    "β_2 = 0.999\n",
    "\n",
    "algo = AdamConstStep(α_adam, β_1, β_2)\n",
    "\n",
    "# Creation test\n",
    "test = FirstOrderTest(state, sam, algo, sp; verbose = verbose);\n",
    "\n",
    "# Enregistrement test\n",
    "addTest(test, alltests);"
   ]
  },
  {
   "cell_type": "code",
   "execution_count": 23,
   "id": "disturbed-colors",
   "metadata": {},
   "outputs": [],
   "source": [
    "# Test Adam 1\n",
    "\n",
    "state = AdamState(mnistModel.x0, sam)\n",
    "\n",
    "α_adam = 0.5\n",
    "β_1 = 0.9\n",
    "β_2 = 0.999\n",
    "\n",
    "algo = AdamConstStep(α_adam, β_1, β_2)\n",
    "\n",
    "# Creation test\n",
    "test = FirstOrderTest(state, sam, algo, sp; verbose = verbose);\n",
    "\n",
    "# Enregistrement test\n",
    "addTest(test, alltests);"
   ]
  },
  {
   "cell_type": "code",
   "execution_count": 24,
   "id": "ready-oklahoma",
   "metadata": {},
   "outputs": [],
   "source": [
    "# Test SGD 1\n",
    "\n",
    "state = SGDState(mnistModel.x0, sam)\n",
    "\n",
    "α_sgd = 0.01\n",
    "\n",
    "algo = SGDConstStep(α_sgd)\n",
    "\n",
    "# Creation test\n",
    "test = FirstOrderTest(state, sam, algo, sp; verbose = verbose);\n",
    "\n",
    "# Enregistrement test\n",
    "addTest(test, alltests);"
   ]
  },
  {
   "cell_type": "code",
   "execution_count": 25,
   "id": "quality-atlantic",
   "metadata": {},
   "outputs": [],
   "source": [
    "# Test SGD 2\n",
    "\n",
    "state = SGDState(mnistModel.x0, sam)\n",
    "\n",
    "α_sgd = 0.5\n",
    "\n",
    "algo = SGDConstStep(α_sgd)\n",
    "\n",
    "# Creation test\n",
    "test = FirstOrderTest(state, sam, algo, sp; verbose = verbose);\n",
    "\n",
    "# Enregistrement test\n",
    "addTest(test, alltests);"
   ]
  },
  {
   "cell_type": "markdown",
   "id": "intelligent-congo",
   "metadata": {},
   "source": [
    "### Verification tests"
   ]
  },
  {
   "cell_type": "code",
   "execution_count": 26,
   "id": "serious-brazil",
   "metadata": {},
   "outputs": [
    {
     "name": "stdout",
     "output_type": "stream",
     "text": [
      "### Tests with TRUE Variance: \n",
      " - T1: BTR-bhhh (VAI/VAC-tv) Naive(0.75, 2.0)\n",
      " - T2: BTR-D-bhhh (VAI/VAC-tv) Naive(0.75, 2.0)\n",
      " - T3: TR-SGD (VAI/VAC-tv) Naive(0.75, 2.0)\n",
      " - T4: BTR-D-Adam (VAI/VAC-tv) Naive(0.75, 2.0)\n",
      "### Tests with sHs: \n",
      " - T5: BTR-bhhh (VAI/VAC sHs) Naive(0.75, 2.0)\n",
      " - T6: Adam (VAI N=100) α=0.01\n",
      " - T7: Adam (VAI N=100) α=0.0001\n",
      " - T8: Adam (VAI N=100) α=0.5\n",
      " - T9: SGD (VAI N=100) α=0.01\n",
      " - T10: SGD (VAI N=100) α=0.5\n"
     ]
    }
   ],
   "source": [
    "println(alltests)"
   ]
  },
  {
   "cell_type": "markdown",
   "id": "assumed-whale",
   "metadata": {},
   "source": [
    "# Lancement des tests"
   ]
  },
  {
   "cell_type": "code",
   "execution_count": null,
   "id": "criminal-lafayette",
   "metadata": {},
   "outputs": [
    {
     "name": "stdout",
     "output_type": "stream",
     "text": [
      "------ Classic btr ---------- : \n",
      " --- sampling : RandomSamplingDynamic\n",
      " --- smoothing : Geraldine.NaiveSmoothing(0.75, 2.0)\n",
      "-------------------------\n",
      "initializeState! AbstractStochasticModel\n",
      "tmaxReached\n",
      "Algorithm of type : AdamConstStep{Float64}\n",
      "nmaxReached\n",
      "Algorithm of type : AdamConstStep{Float64}\n",
      "nmaxReached\n",
      "Algorithm of type : AdamConstStep{Float64}\n",
      "nmaxReached\n",
      "Algorithm of type : SGDConstStep{Float64}\n",
      "nmaxReached\n"
     ]
    }
   ],
   "source": [
    "# F normal \n",
    "\n",
    "@eval (Sofia.F(x::Vector, mo::MnistModel; sample::AbstractVector{Int64} = 1:Nobs(mo)) = F_normal(x, mo; sample=sample))\n",
    "lancementAllTests(alltests.testsNormal, alltests)\n",
    "\n",
    "# F variance\n",
    "@eval (Sofia.F(x::Vector, mo::MnistModel; sample::AbstractVector{Int64} = 1:Nobs(mo)) = F_variance(x, mo; sample=sample))\n",
    "lancementAllTests(alltests.testsVariance, alltests)\n"
   ]
  },
  {
   "cell_type": "markdown",
   "id": "fundamental-disney",
   "metadata": {},
   "source": [
    "# Plots"
   ]
  },
  {
   "cell_type": "code",
   "execution_count": null,
   "id": "meaning-radiation",
   "metadata": {},
   "outputs": [],
   "source": [
    "lines = [:solid, :dot, :dash, :dashdot]"
   ]
  },
  {
   "cell_type": "code",
   "execution_count": null,
   "id": "educated-pavilion",
   "metadata": {},
   "outputs": [],
   "source": [
    "p = plot(xlabel=\"iterations\", ylabel=\"Accuracy on test set (%)\", legend=:bottom)\n",
    "\n",
    "for i in 1:length(alltests.testsVariance)\n",
    "    plot!(alltests.all_dataVariance[i].IterAccumulator, alltests.all_accuracy_testVariance[i], \n",
    "            label = alltests.all_legendVariance[i], line=lines[i%4 + 1])\n",
    "end\n",
    "\n",
    "for i in 1:length(alltests.testsNormal)\n",
    "    plot!(alltests.all_dataNormal[i].IterAccumulator, alltests.all_accuracy_testNormal[i], \n",
    "        label = alltests.all_legendNormal[i], line=lines[i%4 + 1])\n",
    "end\n",
    "\n",
    "savefig(p, \"comparaison_all_methods_iter.svg\")\n",
    "\n",
    "\n",
    "p"
   ]
  },
  {
   "cell_type": "markdown",
   "id": "ignored-trout",
   "metadata": {},
   "source": [
    "# Saving informations"
   ]
  },
  {
   "cell_type": "code",
   "execution_count": null,
   "id": "appointed-burden",
   "metadata": {},
   "outputs": [],
   "source": [
    "for i in 1:length(alltests.all_settingNormal)\n",
    "   write(io, alltests.all_settingNormal[i]) \n",
    "end"
   ]
  },
  {
   "cell_type": "code",
   "execution_count": null,
   "id": "sublime-notification",
   "metadata": {},
   "outputs": [],
   "source": [
    "for i in 1:length(alltests.all_settingVariance)\n",
    "   write(io, alltests.all_settingVariance[i]) \n",
    "end"
   ]
  },
  {
   "cell_type": "code",
   "execution_count": null,
   "id": "smart-bride",
   "metadata": {},
   "outputs": [],
   "source": [
    "close(io)"
   ]
  },
  {
   "cell_type": "code",
   "execution_count": null,
   "id": "cellular-intermediate",
   "metadata": {},
   "outputs": [],
   "source": []
  },
  {
   "cell_type": "code",
   "execution_count": null,
   "id": "hungarian-business",
   "metadata": {},
   "outputs": [],
   "source": []
  }
 ],
 "metadata": {
  "kernelspec": {
   "display_name": "Julia 1.5.3",
   "language": "julia",
   "name": "julia-1.5"
  },
  "language_info": {
   "file_extension": ".jl",
   "mimetype": "application/julia",
   "name": "julia",
   "version": "1.5.3"
  }
 },
 "nbformat": 4,
 "nbformat_minor": 5
}
