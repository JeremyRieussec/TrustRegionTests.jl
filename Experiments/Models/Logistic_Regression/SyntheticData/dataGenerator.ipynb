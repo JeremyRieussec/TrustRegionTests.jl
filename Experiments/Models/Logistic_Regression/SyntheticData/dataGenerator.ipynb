{
 "cells": [
  {
   "cell_type": "code",
   "execution_count": 22,
   "metadata": {},
   "outputs": [],
   "source": [
    "using RDST, Distributions, CSV, DataFrames, ProgressMeter"
   ]
  },
  {
   "cell_type": "code",
   "execution_count": 23,
   "metadata": {},
   "outputs": [
    {
     "name": "stderr",
     "output_type": "stream",
     "text": [
      "WARNING: redefinition of constant mrgParams. This may fail, cause incorrect answers, or produce other errors.\n",
      "WARNING: redefinition of constant mrgGumbel. This may fail, cause incorrect answers, or produce other errors.\n"
     ]
    },
    {
     "data": {
      "text/plain": [
       "Full state of MRG32k3a generator:\n",
       "Cg = [3362321159, 3940116905, 1930530409, 4096561893, 4003684126, 4194805046]\n",
       "Bg = [3362321159, 3940116905, 1930530409, 4096561893, 4003684126, 4194805046]\n",
       "Ig = [12, 3, 45, 67, 8, 9]"
      ]
     },
     "execution_count": 23,
     "metadata": {},
     "output_type": "execute_result"
    }
   ],
   "source": [
    "const mrgParams = MRG32k3a([12, 3, 45, 67, 8, 9])\n",
    "const mrgGumbel = copy(mrgParams)\n",
    "next_substream!(mrgGumbel)"
   ]
  },
  {
   "cell_type": "code",
   "execution_count": 24,
   "metadata": {},
   "outputs": [
    {
     "data": {
      "text/plain": [
       "1000000"
      ]
     },
     "execution_count": 24,
     "metadata": {},
     "output_type": "execute_result"
    }
   ],
   "source": [
    "const nchoice = 5\n",
    "const nInd = 1_000_000"
   ]
  },
  {
   "cell_type": "code",
   "execution_count": 25,
   "metadata": {},
   "outputs": [
    {
     "data": {
      "text/plain": [
       "genFibbomod (generic function with 1 method)"
      ]
     },
     "execution_count": 25,
     "metadata": {},
     "output_type": "execute_result"
    }
   ],
   "source": [
    "function genFibbomod(N::Int)\n",
    "    if N == 1\n",
    "        return [0]\n",
    "    elseif N == 2\n",
    "        return [0, 1]\n",
    "    else\n",
    "        rt = [0, 1]\n",
    "        for k in 3:N\n",
    "            push!(rt, (rt[k - 2] + rt[k - 1]) % 100)\n",
    "        end\n",
    "        return rt\n",
    "    end\n",
    "end"
   ]
  },
  {
   "cell_type": "code",
   "execution_count": 27,
   "metadata": {},
   "outputs": [
    {
     "data": {
      "text/plain": [
       "genLogitInd (generic function with 1 method)"
      ]
     },
     "execution_count": 27,
     "metadata": {},
     "output_type": "execute_result"
    }
   ],
   "source": [
    "function genLogitInd(N::Int)\n",
    "    params = [quantile.(Normal(), rand(mrgParams, N)) for _ in 1:nchoice]\n",
    "    \n",
    "    beta = genFibbomod(N)\n",
    "    vals = [beta'*p for p in params] + quantile.(Gumbel(), rand(mrgGumbel, nchoice))\n",
    "    sortp = sortperm(-vals)\n",
    "    paramsasVec = vcat(params[sortp]...)\n",
    "    return paramsasVec\n",
    "end"
   ]
  },
  {
   "cell_type": "code",
   "execution_count": 28,
   "metadata": {},
   "outputs": [
    {
     "data": {
      "text/plain": [
       "genLogitPop (generic function with 2 methods)"
      ]
     },
     "execution_count": 28,
     "metadata": {},
     "output_type": "execute_result"
    }
   ],
   "source": [
    "function genLogitPop(N::Int)\n",
    "    df = DataFrame(zeros(0, N*nchoice), :auto)\n",
    "    reset_substream!(mrgParams)\n",
    "    reset_substream!(mrgGumbel)\n",
    "    for _ in 1:nInd\n",
    "        push!(df, genLogitInd(N::Int))\n",
    "    end\n",
    "    return df\n",
    "end"
   ]
  },
  {
   "cell_type": "code",
   "execution_count": 29,
   "metadata": {},
   "outputs": [
    {
     "data": {
      "text/plain": [
       "genLogitPop (generic function with 2 methods)"
      ]
     },
     "execution_count": 29,
     "metadata": {},
     "output_type": "execute_result"
    }
   ],
   "source": [
    "function genLogitPop(N::Int, nchoice::Int, nInd::Int)\n",
    "    df = DataFrame(zeros(0, N*nchoice), :auto)\n",
    "    reset_substream!(mrgParams)\n",
    "    reset_substream!(mrgGumbel)\n",
    "    for _ in 1:nInd\n",
    "        push!(df, genLogitInd(N::Int))\n",
    "    end\n",
    "    return df\n",
    "end"
   ]
  },
  {
   "cell_type": "code",
   "execution_count": 30,
   "metadata": {},
   "outputs": [
    {
     "data": {
      "text/plain": [
       "\"L100.csv\""
      ]
     },
     "execution_count": 30,
     "metadata": {},
     "output_type": "execute_result"
    }
   ],
   "source": [
    "df = genLogitPop(5)\n",
    "CSV.write(\"L5.csv\", df)\n",
    "\n",
    "df = genLogitPop(10)\n",
    "CSV.write(\"L10.csv\", df)\n",
    "\n",
    "df = genLogitPop(50)\n",
    "CSV.write(\"L50.csv\", df)\n",
    "\n",
    "df = genLogitPop(100)\n",
    "CSV.write(\"L100.csv\", df)"
   ]
  },
  {
   "cell_type": "code",
   "execution_count": null,
   "metadata": {},
   "outputs": [],
   "source": []
  }
 ],
 "metadata": {
  "kernelspec": {
   "display_name": "Julia 1.5.3",
   "language": "julia",
   "name": "julia-1.5"
  },
  "language_info": {
   "file_extension": ".jl",
   "mimetype": "application/julia",
   "name": "julia",
   "version": "1.5.3"
  }
 },
 "nbformat": 4,
 "nbformat_minor": 4
}
